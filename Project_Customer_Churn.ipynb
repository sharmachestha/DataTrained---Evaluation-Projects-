{
 "cells": [
  {
   "cell_type": "code",
   "execution_count": 1,
   "metadata": {},
   "outputs": [],
   "source": [
    "import numpy as np \n",
    "import pandas as pd\n",
    "import matplotlib.pyplot as plt\n",
    "import seaborn as sns\n",
    "import scipy\n",
    "import sklearn\n",
    "from sklearn.model_selection import train_test_split\n",
    "from sklearn.naive_bayes import GaussianNB\n",
    "from sklearn.linear_model import LogisticRegression\n",
    "from sklearn.metrics import accuracy_score, classification_report,confusion_matrix\n",
    "from sklearn.svm import SVC\n",
    "from sklearn.tree import DecisionTreeClassifier\n",
    "from sklearn.neighbors import KNeighborsClassifier\n",
    "from sklearn.model_selection import GridSearchCV\n",
    "from sklearn.model_selection import cross_val_score\n",
    "import warnings\n",
    "warnings.filterwarnings('ignore')"
   ]
  },
  {
   "cell_type": "code",
   "execution_count": 2,
   "metadata": {},
   "outputs": [
    {
     "data": {
      "text/html": [
       "<div>\n",
       "<style scoped>\n",
       "    .dataframe tbody tr th:only-of-type {\n",
       "        vertical-align: middle;\n",
       "    }\n",
       "\n",
       "    .dataframe tbody tr th {\n",
       "        vertical-align: top;\n",
       "    }\n",
       "\n",
       "    .dataframe thead th {\n",
       "        text-align: right;\n",
       "    }\n",
       "</style>\n",
       "<table border=\"1\" class=\"dataframe\">\n",
       "  <thead>\n",
       "    <tr style=\"text-align: right;\">\n",
       "      <th></th>\n",
       "      <th>customerID</th>\n",
       "      <th>gender</th>\n",
       "      <th>SeniorCitizen</th>\n",
       "      <th>Partner</th>\n",
       "      <th>Dependents</th>\n",
       "      <th>tenure</th>\n",
       "      <th>PhoneService</th>\n",
       "      <th>MultipleLines</th>\n",
       "      <th>InternetService</th>\n",
       "      <th>OnlineSecurity</th>\n",
       "      <th>...</th>\n",
       "      <th>DeviceProtection</th>\n",
       "      <th>TechSupport</th>\n",
       "      <th>StreamingTV</th>\n",
       "      <th>StreamingMovies</th>\n",
       "      <th>Contract</th>\n",
       "      <th>PaperlessBilling</th>\n",
       "      <th>PaymentMethod</th>\n",
       "      <th>MonthlyCharges</th>\n",
       "      <th>TotalCharges</th>\n",
       "      <th>Churn</th>\n",
       "    </tr>\n",
       "  </thead>\n",
       "  <tbody>\n",
       "    <tr>\n",
       "      <th>0</th>\n",
       "      <td>7590-VHVEG</td>\n",
       "      <td>Female</td>\n",
       "      <td>0</td>\n",
       "      <td>Yes</td>\n",
       "      <td>No</td>\n",
       "      <td>1</td>\n",
       "      <td>No</td>\n",
       "      <td>No phone service</td>\n",
       "      <td>DSL</td>\n",
       "      <td>No</td>\n",
       "      <td>...</td>\n",
       "      <td>No</td>\n",
       "      <td>No</td>\n",
       "      <td>No</td>\n",
       "      <td>No</td>\n",
       "      <td>Month-to-month</td>\n",
       "      <td>Yes</td>\n",
       "      <td>Electronic check</td>\n",
       "      <td>29.85</td>\n",
       "      <td>29.85</td>\n",
       "      <td>No</td>\n",
       "    </tr>\n",
       "    <tr>\n",
       "      <th>1</th>\n",
       "      <td>5575-GNVDE</td>\n",
       "      <td>Male</td>\n",
       "      <td>0</td>\n",
       "      <td>No</td>\n",
       "      <td>No</td>\n",
       "      <td>34</td>\n",
       "      <td>Yes</td>\n",
       "      <td>No</td>\n",
       "      <td>DSL</td>\n",
       "      <td>Yes</td>\n",
       "      <td>...</td>\n",
       "      <td>Yes</td>\n",
       "      <td>No</td>\n",
       "      <td>No</td>\n",
       "      <td>No</td>\n",
       "      <td>One year</td>\n",
       "      <td>No</td>\n",
       "      <td>Mailed check</td>\n",
       "      <td>56.95</td>\n",
       "      <td>1889.5</td>\n",
       "      <td>No</td>\n",
       "    </tr>\n",
       "    <tr>\n",
       "      <th>2</th>\n",
       "      <td>3668-QPYBK</td>\n",
       "      <td>Male</td>\n",
       "      <td>0</td>\n",
       "      <td>No</td>\n",
       "      <td>No</td>\n",
       "      <td>2</td>\n",
       "      <td>Yes</td>\n",
       "      <td>No</td>\n",
       "      <td>DSL</td>\n",
       "      <td>Yes</td>\n",
       "      <td>...</td>\n",
       "      <td>No</td>\n",
       "      <td>No</td>\n",
       "      <td>No</td>\n",
       "      <td>No</td>\n",
       "      <td>Month-to-month</td>\n",
       "      <td>Yes</td>\n",
       "      <td>Mailed check</td>\n",
       "      <td>53.85</td>\n",
       "      <td>108.15</td>\n",
       "      <td>Yes</td>\n",
       "    </tr>\n",
       "    <tr>\n",
       "      <th>3</th>\n",
       "      <td>7795-CFOCW</td>\n",
       "      <td>Male</td>\n",
       "      <td>0</td>\n",
       "      <td>No</td>\n",
       "      <td>No</td>\n",
       "      <td>45</td>\n",
       "      <td>No</td>\n",
       "      <td>No phone service</td>\n",
       "      <td>DSL</td>\n",
       "      <td>Yes</td>\n",
       "      <td>...</td>\n",
       "      <td>Yes</td>\n",
       "      <td>Yes</td>\n",
       "      <td>No</td>\n",
       "      <td>No</td>\n",
       "      <td>One year</td>\n",
       "      <td>No</td>\n",
       "      <td>Bank transfer (automatic)</td>\n",
       "      <td>42.30</td>\n",
       "      <td>1840.75</td>\n",
       "      <td>No</td>\n",
       "    </tr>\n",
       "    <tr>\n",
       "      <th>4</th>\n",
       "      <td>9237-HQITU</td>\n",
       "      <td>Female</td>\n",
       "      <td>0</td>\n",
       "      <td>No</td>\n",
       "      <td>No</td>\n",
       "      <td>2</td>\n",
       "      <td>Yes</td>\n",
       "      <td>No</td>\n",
       "      <td>Fiber optic</td>\n",
       "      <td>No</td>\n",
       "      <td>...</td>\n",
       "      <td>No</td>\n",
       "      <td>No</td>\n",
       "      <td>No</td>\n",
       "      <td>No</td>\n",
       "      <td>Month-to-month</td>\n",
       "      <td>Yes</td>\n",
       "      <td>Electronic check</td>\n",
       "      <td>70.70</td>\n",
       "      <td>151.65</td>\n",
       "      <td>Yes</td>\n",
       "    </tr>\n",
       "  </tbody>\n",
       "</table>\n",
       "<p>5 rows × 21 columns</p>\n",
       "</div>"
      ],
      "text/plain": [
       "   customerID  gender  SeniorCitizen Partner Dependents  tenure PhoneService  \\\n",
       "0  7590-VHVEG  Female              0     Yes         No       1           No   \n",
       "1  5575-GNVDE    Male              0      No         No      34          Yes   \n",
       "2  3668-QPYBK    Male              0      No         No       2          Yes   \n",
       "3  7795-CFOCW    Male              0      No         No      45           No   \n",
       "4  9237-HQITU  Female              0      No         No       2          Yes   \n",
       "\n",
       "      MultipleLines InternetService OnlineSecurity  ... DeviceProtection  \\\n",
       "0  No phone service             DSL             No  ...               No   \n",
       "1                No             DSL            Yes  ...              Yes   \n",
       "2                No             DSL            Yes  ...               No   \n",
       "3  No phone service             DSL            Yes  ...              Yes   \n",
       "4                No     Fiber optic             No  ...               No   \n",
       "\n",
       "  TechSupport StreamingTV StreamingMovies        Contract PaperlessBilling  \\\n",
       "0          No          No              No  Month-to-month              Yes   \n",
       "1          No          No              No        One year               No   \n",
       "2          No          No              No  Month-to-month              Yes   \n",
       "3         Yes          No              No        One year               No   \n",
       "4          No          No              No  Month-to-month              Yes   \n",
       "\n",
       "               PaymentMethod MonthlyCharges  TotalCharges Churn  \n",
       "0           Electronic check          29.85         29.85    No  \n",
       "1               Mailed check          56.95        1889.5    No  \n",
       "2               Mailed check          53.85        108.15   Yes  \n",
       "3  Bank transfer (automatic)          42.30       1840.75    No  \n",
       "4           Electronic check          70.70        151.65   Yes  \n",
       "\n",
       "[5 rows x 21 columns]"
      ]
     },
     "execution_count": 2,
     "metadata": {},
     "output_type": "execute_result"
    }
   ],
   "source": [
    "df=pd.read_csv('Telecom_Customer_Churn.csv')\n",
    "df.head()"
   ]
  },
  {
   "cell_type": "code",
   "execution_count": 3,
   "metadata": {},
   "outputs": [
    {
     "data": {
      "text/plain": [
       "(7043, 21)"
      ]
     },
     "execution_count": 3,
     "metadata": {},
     "output_type": "execute_result"
    }
   ],
   "source": [
    "df.shape"
   ]
  },
  {
   "cell_type": "code",
   "execution_count": 4,
   "metadata": {},
   "outputs": [
    {
     "data": {
      "text/plain": [
       "customerID           object\n",
       "gender               object\n",
       "SeniorCitizen         int64\n",
       "Partner              object\n",
       "Dependents           object\n",
       "tenure                int64\n",
       "PhoneService         object\n",
       "MultipleLines        object\n",
       "InternetService      object\n",
       "OnlineSecurity       object\n",
       "OnlineBackup         object\n",
       "DeviceProtection     object\n",
       "TechSupport          object\n",
       "StreamingTV          object\n",
       "StreamingMovies      object\n",
       "Contract             object\n",
       "PaperlessBilling     object\n",
       "PaymentMethod        object\n",
       "MonthlyCharges      float64\n",
       "TotalCharges         object\n",
       "Churn                object\n",
       "dtype: object"
      ]
     },
     "execution_count": 4,
     "metadata": {},
     "output_type": "execute_result"
    }
   ],
   "source": [
    "df.dtypes"
   ]
  },
  {
   "cell_type": "code",
   "execution_count": 5,
   "metadata": {},
   "outputs": [
    {
     "data": {
      "text/plain": [
       "Index(['customerID', 'gender', 'SeniorCitizen', 'Partner', 'Dependents',\n",
       "       'tenure', 'PhoneService', 'MultipleLines', 'InternetService',\n",
       "       'OnlineSecurity', 'OnlineBackup', 'DeviceProtection', 'TechSupport',\n",
       "       'StreamingTV', 'StreamingMovies', 'Contract', 'PaperlessBilling',\n",
       "       'PaymentMethod', 'MonthlyCharges', 'TotalCharges', 'Churn'],\n",
       "      dtype='object')"
      ]
     },
     "execution_count": 5,
     "metadata": {},
     "output_type": "execute_result"
    }
   ],
   "source": [
    "df.columns"
   ]
  },
  {
   "cell_type": "code",
   "execution_count": 6,
   "metadata": {},
   "outputs": [
    {
     "name": "stdout",
     "output_type": "stream",
     "text": [
      "<class 'pandas.core.frame.DataFrame'>\n",
      "RangeIndex: 7043 entries, 0 to 7042\n",
      "Data columns (total 21 columns):\n",
      " #   Column            Non-Null Count  Dtype  \n",
      "---  ------            --------------  -----  \n",
      " 0   customerID        7043 non-null   object \n",
      " 1   gender            7043 non-null   object \n",
      " 2   SeniorCitizen     7043 non-null   int64  \n",
      " 3   Partner           7043 non-null   object \n",
      " 4   Dependents        7043 non-null   object \n",
      " 5   tenure            7043 non-null   int64  \n",
      " 6   PhoneService      7043 non-null   object \n",
      " 7   MultipleLines     7043 non-null   object \n",
      " 8   InternetService   7043 non-null   object \n",
      " 9   OnlineSecurity    7043 non-null   object \n",
      " 10  OnlineBackup      7043 non-null   object \n",
      " 11  DeviceProtection  7043 non-null   object \n",
      " 12  TechSupport       7043 non-null   object \n",
      " 13  StreamingTV       7043 non-null   object \n",
      " 14  StreamingMovies   7043 non-null   object \n",
      " 15  Contract          7043 non-null   object \n",
      " 16  PaperlessBilling  7043 non-null   object \n",
      " 17  PaymentMethod     7043 non-null   object \n",
      " 18  MonthlyCharges    7043 non-null   float64\n",
      " 19  TotalCharges      7043 non-null   object \n",
      " 20  Churn             7043 non-null   object \n",
      "dtypes: float64(1), int64(2), object(18)\n",
      "memory usage: 1.1+ MB\n"
     ]
    }
   ],
   "source": [
    "df.info()"
   ]
  },
  {
   "cell_type": "markdown",
   "metadata": {},
   "source": [
    "# Summary Statistics"
   ]
  },
  {
   "cell_type": "code",
   "execution_count": 7,
   "metadata": {},
   "outputs": [
    {
     "data": {
      "text/html": [
       "<div>\n",
       "<style scoped>\n",
       "    .dataframe tbody tr th:only-of-type {\n",
       "        vertical-align: middle;\n",
       "    }\n",
       "\n",
       "    .dataframe tbody tr th {\n",
       "        vertical-align: top;\n",
       "    }\n",
       "\n",
       "    .dataframe thead th {\n",
       "        text-align: right;\n",
       "    }\n",
       "</style>\n",
       "<table border=\"1\" class=\"dataframe\">\n",
       "  <thead>\n",
       "    <tr style=\"text-align: right;\">\n",
       "      <th></th>\n",
       "      <th>SeniorCitizen</th>\n",
       "      <th>tenure</th>\n",
       "      <th>MonthlyCharges</th>\n",
       "    </tr>\n",
       "  </thead>\n",
       "  <tbody>\n",
       "    <tr>\n",
       "      <th>count</th>\n",
       "      <td>7043.000000</td>\n",
       "      <td>7043.000000</td>\n",
       "      <td>7043.000000</td>\n",
       "    </tr>\n",
       "    <tr>\n",
       "      <th>mean</th>\n",
       "      <td>0.162147</td>\n",
       "      <td>32.371149</td>\n",
       "      <td>64.761692</td>\n",
       "    </tr>\n",
       "    <tr>\n",
       "      <th>std</th>\n",
       "      <td>0.368612</td>\n",
       "      <td>24.559481</td>\n",
       "      <td>30.090047</td>\n",
       "    </tr>\n",
       "    <tr>\n",
       "      <th>min</th>\n",
       "      <td>0.000000</td>\n",
       "      <td>0.000000</td>\n",
       "      <td>18.250000</td>\n",
       "    </tr>\n",
       "    <tr>\n",
       "      <th>25%</th>\n",
       "      <td>0.000000</td>\n",
       "      <td>9.000000</td>\n",
       "      <td>35.500000</td>\n",
       "    </tr>\n",
       "    <tr>\n",
       "      <th>50%</th>\n",
       "      <td>0.000000</td>\n",
       "      <td>29.000000</td>\n",
       "      <td>70.350000</td>\n",
       "    </tr>\n",
       "    <tr>\n",
       "      <th>75%</th>\n",
       "      <td>0.000000</td>\n",
       "      <td>55.000000</td>\n",
       "      <td>89.850000</td>\n",
       "    </tr>\n",
       "    <tr>\n",
       "      <th>max</th>\n",
       "      <td>1.000000</td>\n",
       "      <td>72.000000</td>\n",
       "      <td>118.750000</td>\n",
       "    </tr>\n",
       "  </tbody>\n",
       "</table>\n",
       "</div>"
      ],
      "text/plain": [
       "       SeniorCitizen       tenure  MonthlyCharges\n",
       "count    7043.000000  7043.000000     7043.000000\n",
       "mean        0.162147    32.371149       64.761692\n",
       "std         0.368612    24.559481       30.090047\n",
       "min         0.000000     0.000000       18.250000\n",
       "25%         0.000000     9.000000       35.500000\n",
       "50%         0.000000    29.000000       70.350000\n",
       "75%         0.000000    55.000000       89.850000\n",
       "max         1.000000    72.000000      118.750000"
      ]
     },
     "execution_count": 7,
     "metadata": {},
     "output_type": "execute_result"
    }
   ],
   "source": [
    "df.describe()"
   ]
  },
  {
   "cell_type": "markdown",
   "metadata": {},
   "source": [
    "Observations :-\n",
    "\n",
    "1. The mean is more than median for Senior Citizen and Tenure.\n",
    "2. There is large difference between 75 % and max for Monthly Charges Column."
   ]
  },
  {
   "cell_type": "markdown",
   "metadata": {},
   "source": [
    "# Exploring Target Variable"
   ]
  },
  {
   "cell_type": "code",
   "execution_count": 8,
   "metadata": {},
   "outputs": [
    {
     "data": {
      "text/plain": [
       "No     5174\n",
       "Yes    1869\n",
       "Name: Churn, dtype: int64"
      ]
     },
     "execution_count": 8,
     "metadata": {},
     "output_type": "execute_result"
    }
   ],
   "source": [
    "df['Churn'].value_counts()"
   ]
  },
  {
   "cell_type": "markdown",
   "metadata": {},
   "source": [
    "As target variable has only 2 values, so , this is a classification problem."
   ]
  },
  {
   "cell_type": "code",
   "execution_count": 9,
   "metadata": {},
   "outputs": [
    {
     "data": {
      "text/plain": [
       "26.536987079369588"
      ]
     },
     "execution_count": 9,
     "metadata": {},
     "output_type": "execute_result"
    }
   ],
   "source": [
    "((7043-5174)/7043)*100"
   ]
  },
  {
   "cell_type": "markdown",
   "metadata": {},
   "source": [
    "Hence, there is no issue of class - imbalance."
   ]
  },
  {
   "cell_type": "markdown",
   "metadata": {},
   "source": [
    "# Data Visualizations"
   ]
  },
  {
   "cell_type": "markdown",
   "metadata": {},
   "source": [
    "To check missing values"
   ]
  },
  {
   "cell_type": "code",
   "execution_count": 10,
   "metadata": {},
   "outputs": [
    {
     "data": {
      "text/plain": [
       "<matplotlib.axes._subplots.AxesSubplot at 0x18657df2e08>"
      ]
     },
     "execution_count": 10,
     "metadata": {},
     "output_type": "execute_result"
    },
    {
     "data": {
      "image/png": "[encoded data removed]",
      "text/plain": [
       "<Figure size 432x288 with 2 Axes>"
      ]
     },
     "metadata": {
      "needs_background": "light"
     },
     "output_type": "display_data"
    }
   ],
   "source": [
    "sns.heatmap(df.isnull())"
   ]
  },
  {
   "cell_type": "markdown",
   "metadata": {},
   "source": [
    "Obsevations :-\n",
    "\n",
    "1. The data has no missing values."
   ]
  },
  {
   "cell_type": "markdown",
   "metadata": {},
   "source": [
    "# Univariate Analysis"
   ]
  },
  {
   "cell_type": "code",
   "execution_count": 11,
   "metadata": {},
   "outputs": [
    {
     "data": {
      "text/plain": [
       "<matplotlib.axes._subplots.AxesSubplot at 0x186586868c8>"
      ]
     },
     "execution_count": 11,
     "metadata": {},
     "output_type": "execute_result"
    },
    {
     "data": {
      "image/png": "[encoded data removed]",
      "text/plain": [
       "<Figure size 432x288 with 1 Axes>"
      ]
     },
     "metadata": {},
     "output_type": "display_data"
    }
   ],
   "source": [
    "sns.set_style('whitegrid')\n",
    "sns.countplot(df['Churn'])"
   ]
  },
  {
   "cell_type": "markdown",
   "metadata": {},
   "source": [
    "Observations :-\n",
    "\n",
    "1. Low Churn rate is present majorly in the dataset."
   ]
  },
  {
   "cell_type": "code",
   "execution_count": 12,
   "metadata": {},
   "outputs": [
    {
     "data": {
      "text/plain": [
       "<matplotlib.axes._subplots.AxesSubplot at 0x1865897bf48>"
      ]
     },
     "execution_count": 12,
     "metadata": {},
     "output_type": "execute_result"
    },
    {
     "data": {
      "image/png": "[encoded data removed]",
      "text/plain": [
       "<Figure size 432x288 with 1 Axes>"
      ]
     },
     "metadata": {},
     "output_type": "display_data"
    }
   ],
   "source": [
    "sns.set_style('whitegrid')\n",
    "sns.countplot(x='Churn',hue='gender',data=df,palette='RdBu_r')"
   ]
  },
  {
   "cell_type": "markdown",
   "metadata": {},
   "source": [
    "Observations:-\n",
    "\n",
    "1. Male Customers have low churn rate than Female Customers."
   ]
  },
  {
   "cell_type": "code",
   "execution_count": 13,
   "metadata": {},
   "outputs": [
    {
     "data": {
      "text/plain": [
       "<matplotlib.axes._subplots.AxesSubplot at 0x186589dd248>"
      ]
     },
     "execution_count": 13,
     "metadata": {},
     "output_type": "execute_result"
    },
    {
     "data": {
      "image/png": "[encoded data removed]",
      "text/plain": [
       "<Figure size 432x288 with 1 Axes>"
      ]
     },
     "metadata": {},
     "output_type": "display_data"
    }
   ],
   "source": [
    "sns.set_style('whitegrid')\n",
    "sns.countplot(x='Churn',hue='Partner',data=df,palette='RdBu_r')"
   ]
  },
  {
   "cell_type": "markdown",
   "metadata": {},
   "source": [
    "Observations :-\n",
    "    \n",
    "1. Customers with partner have low churn rate than customers without partner."
   ]
  },
  {
   "cell_type": "code",
   "execution_count": 14,
   "metadata": {},
   "outputs": [
    {
     "data": {
      "text/plain": [
       "<matplotlib.axes._subplots.AxesSubplot at 0x18658a2f788>"
      ]
     },
     "execution_count": 14,
     "metadata": {},
     "output_type": "execute_result"
    },
    {
     "data": {
      "image/png": "[encoded data removed]",
      "text/plain": [
       "<Figure size 432x288 with 1 Axes>"
      ]
     },
     "metadata": {},
     "output_type": "display_data"
    }
   ],
   "source": [
    "sns.set_style('whitegrid')\n",
    "sns.countplot(x='Churn',hue='Dependents',data=df,palette='RdBu_r')"
   ]
  },
  {
   "cell_type": "markdown",
   "metadata": {},
   "source": [
    "Observations:-\n",
    "    \n",
    "1. Customers with no dependents have low churn rate than customers with dependents."
   ]
  },
  {
   "cell_type": "code",
   "execution_count": 15,
   "metadata": {},
   "outputs": [
    {
     "data": {
      "text/plain": [
       "<matplotlib.axes._subplots.AxesSubplot at 0x18658f48308>"
      ]
     },
     "execution_count": 15,
     "metadata": {},
     "output_type": "execute_result"
    },
    {
     "data": {
      "image/png": "[encoded data removed]",
      "text/plain": [
       "<Figure size 432x288 with 1 Axes>"
      ]
     },
     "metadata": {},
     "output_type": "display_data"
    }
   ],
   "source": [
    "sns.set_style('whitegrid')\n",
    "sns.countplot(x='Churn',hue='MultipleLines',data=df,palette='RdBu_r')"
   ]
  },
  {
   "cell_type": "markdown",
   "metadata": {},
   "source": [
    "Observations:-\n",
    "    \n",
    "1. Customers with 0 multiple lines services have lowest churn rate.\n",
    "2. Customers with multiple lines services have lower churn rate than customers with no phone services. "
   ]
  },
  {
   "cell_type": "code",
   "execution_count": 16,
   "metadata": {},
   "outputs": [
    {
     "data": {
      "text/plain": [
       "<matplotlib.axes._subplots.AxesSubplot at 0x18658fbe608>"
      ]
     },
     "execution_count": 16,
     "metadata": {},
     "output_type": "execute_result"
    },
    {
     "data": {
      "image/png": "[encoded data removed]",
      "text/plain": [
       "<Figure size 432x288 with 1 Axes>"
      ]
     },
     "metadata": {},
     "output_type": "display_data"
    }
   ],
   "source": [
    "sns.set_style('whitegrid')\n",
    "sns.countplot(x='Churn',hue='InternetService',data=df,palette='RdBu_r')"
   ]
  },
  {
   "cell_type": "markdown",
   "metadata": {},
   "source": [
    "Observations :-\n",
    "    \n",
    "1. Customers with internet services of DSL have the lowest churn rate.\n",
    "2. Customers with internet service of optic fiber have lower churn rate than customers with no internet services."
   ]
  },
  {
   "cell_type": "code",
   "execution_count": 17,
   "metadata": {},
   "outputs": [
    {
     "data": {
      "text/plain": [
       "<matplotlib.axes._subplots.AxesSubplot at 0x186590335c8>"
      ]
     },
     "execution_count": 17,
     "metadata": {},
     "output_type": "execute_result"
    },
    {
     "data": {
      "image/png": "[encoded data removed]",
      "text/plain": [
       "<Figure size 432x288 with 1 Axes>"
      ]
     },
     "metadata": {},
     "output_type": "display_data"
    }
   ],
   "source": [
    "sns.set_style('whitegrid')\n",
    "sns.countplot(x='Churn',hue='OnlineSecurity',data=df,palette='RdBu_r')"
   ]
  },
  {
   "cell_type": "markdown",
   "metadata": {},
   "source": [
    "Observations :-\n",
    "    \n",
    "1. Customers have no online security have lowest churn rate.\n",
    "2. Customers with online security have lower churn rate than customers with no internet services."
   ]
  },
  {
   "cell_type": "code",
   "execution_count": 18,
   "metadata": {},
   "outputs": [
    {
     "data": {
      "text/plain": [
       "<matplotlib.axes._subplots.AxesSubplot at 0x186590a7248>"
      ]
     },
     "execution_count": 18,
     "metadata": {},
     "output_type": "execute_result"
    },
    {
     "data": {
      "image/png": "[encoded data removed]",
      "text/plain": [
       "<Figure size 432x288 with 1 Axes>"
      ]
     },
     "metadata": {},
     "output_type": "display_data"
    }
   ],
   "source": [
    "sns.set_style('whitegrid')\n",
    "sns.countplot(x='Churn',hue='OnlineBackup',data=df,palette='RdBu_r')"
   ]
  },
  {
   "cell_type": "markdown",
   "metadata": {},
   "source": [
    "Observations :-\n",
    "    \n",
    "1. Customers who keep online backup of the data have lowest churn rate.\n",
    "2. Customers who do not keep online backup of the data have lower churn rate than customers with no internet service."
   ]
  },
  {
   "cell_type": "code",
   "execution_count": 20,
   "metadata": {},
   "outputs": [
    {
     "data": {
      "text/plain": [
       "<matplotlib.axes._subplots.AxesSubplot at 0x18659126688>"
      ]
     },
     "execution_count": 20,
     "metadata": {},
     "output_type": "execute_result"
    },
    {
     "data": {
      "image/png": "[encoded data removed]",
      "text/plain": [
       "<Figure size 432x288 with 1 Axes>"
      ]
     },
     "metadata": {},
     "output_type": "display_data"
    }
   ],
   "source": [
    "sns.set_style('whitegrid')\n",
    "sns.countplot(x='Churn',hue='DeviceProtection',data=df,palette='RdBu_r')"
   ]
  },
  {
   "cell_type": "markdown",
   "metadata": {},
   "source": [
    "Observations :-\n",
    "    \n",
    "1. Customers who have used no device protection have lowest churn rate.\n",
    "2. Customers who have used device protection have lower churn rate than customers with no internet service."
   ]
  },
  {
   "cell_type": "code",
   "execution_count": 22,
   "metadata": {},
   "outputs": [
    {
     "data": {
      "text/plain": [
       "<matplotlib.axes._subplots.AxesSubplot at 0x1865919db88>"
      ]
     },
     "execution_count": 22,
     "metadata": {},
     "output_type": "execute_result"
    },
    {
     "data": {
      "image/png": "[encoded data removed]",
      "text/plain": [
       "<Figure size 432x288 with 1 Axes>"
      ]
     },
     "metadata": {},
     "output_type": "display_data"
    }
   ],
   "source": [
    "sns.set_style('whitegrid')\n",
    "sns.countplot(x='Churn',hue='TechSupport',data=df,palette='RdBu_r')"
   ]
  },
  {
   "cell_type": "markdown",
   "metadata": {},
   "source": [
    "Observations :-\n",
    "    \n",
    "1. Customers with no tech support have lowest churn rate.\n",
    "2. Customers with tech tech support have lower churn rate than customers with no internet services."
   ]
  },
  {
   "cell_type": "code",
   "execution_count": 24,
   "metadata": {},
   "outputs": [
    {
     "data": {
      "text/plain": [
       "<matplotlib.axes._subplots.AxesSubplot at 0x18659211f08>"
      ]
     },
     "execution_count": 24,
     "metadata": {},
     "output_type": "execute_result"
    },
    {
     "data": {
      "image/png": "[encoded data removed]",
      "text/plain": [
       "<Figure size 432x288 with 1 Axes>"
      ]
     },
     "metadata": {},
     "output_type": "display_data"
    }
   ],
   "source": [
    "sns.set_style('whitegrid')\n",
    "sns.countplot(x='Churn',hue='StreamingTV',data=df,palette='RdBu_r')"
   ]
  },
  {
   "cell_type": "markdown",
   "metadata": {},
   "source": [
    "Observations :-\n",
    "    \n",
    "1. Customers with no streaming tv have the lowest churn rate.\n",
    "2. Customers with streaming tv have lower churn rate than customers with no internet services."
   ]
  },
  {
   "cell_type": "code",
   "execution_count": 26,
   "metadata": {},
   "outputs": [
    {
     "data": {
      "text/plain": [
       "<matplotlib.axes._subplots.AxesSubplot at 0x1865a260148>"
      ]
     },
     "execution_count": 26,
     "metadata": {},
     "output_type": "execute_result"
    },
    {
     "data": {
      "image/png": "[encoded data removed]",
      "text/plain": [
       "<Figure size 432x288 with 1 Axes>"
      ]
     },
     "metadata": {},
     "output_type": "display_data"
    }
   ],
   "source": [
    "sns.set_style('whitegrid')\n",
    "sns.countplot(x='Churn',hue='StreamingMovies',data=df,palette='RdBu_r')"
   ]
  },
  {
   "cell_type": "markdown",
   "metadata": {},
   "source": [
    "bservations :-\n",
    "    \n",
    "1. Customers with no streaming  have the lowest churn rate.\n",
    "2. Customers with streaming tv have lower churn rate than customers with no internet services."
   ]
  },
  {
   "cell_type": "code",
   "execution_count": 27,
   "metadata": {},
   "outputs": [
    {
     "data": {
      "text/plain": [
       "<matplotlib.axes._subplots.AxesSubplot at 0x1865a2d4248>"
      ]
     },
     "execution_count": 27,
     "metadata": {},
     "output_type": "execute_result"
    },
    {
     "data": {
      "image/png": "[encoded data removed]",
      "text/plain": [
       "<Figure size 432x288 with 1 Axes>"
      ]
     },
     "metadata": {},
     "output_type": "display_data"
    }
   ],
   "source": [
    "sns.set_style('whitegrid')\n",
    "sns.countplot(x='Churn',hue='Contract',data=df,palette='RdBu_r')"
   ]
  },
  {
   "cell_type": "markdown",
   "metadata": {},
   "source": [
    "Observations :-\n",
    "    \n",
    "1. Customers who have month - to - month contract with company have the lowest churn rate.\n",
    "2. Customers who have two years contract with company have lower churn rate than with one year of contract."
   ]
  },
  {
   "cell_type": "code",
   "execution_count": 28,
   "metadata": {},
   "outputs": [
    {
     "data": {
      "text/plain": [
       "<matplotlib.axes._subplots.AxesSubplot at 0x1865a307dc8>"
      ]
     },
     "execution_count": 28,
     "metadata": {},
     "output_type": "execute_result"
    },
    {
     "data": {
      "image/png": "[encoded data removed]",
      "text/plain": [
       "<Figure size 432x288 with 1 Axes>"
      ]
     },
     "metadata": {},
     "output_type": "display_data"
    }
   ],
   "source": [
    "sns.set_style('whitegrid')\n",
    "sns.countplot(x='Churn',hue='PaperlessBilling',data=df,palette='RdBu_r')"
   ]
  },
  {
   "cell_type": "markdown",
   "metadata": {},
   "source": [
    "Observations :-\n",
    "    \n",
    "1. Customers who havemade paper less billing with company have lower churn rate than customers who have made paper used billing."
   ]
  },
  {
   "cell_type": "code",
   "execution_count": 30,
   "metadata": {},
   "outputs": [
    {
     "data": {
      "text/plain": [
       "<matplotlib.axes._subplots.AxesSubplot at 0x1865a3aec88>"
      ]
     },
     "execution_count": 30,
     "metadata": {},
     "output_type": "execute_result"
    },
    {
     "data": {
      "image/png": "[encoded data removed]",
      "text/plain": [
       "<Figure size 432x288 with 1 Axes>"
      ]
     },
     "metadata": {},
     "output_type": "display_data"
    }
   ],
   "source": [
    "sns.set_style('whitegrid')\n",
    "sns.countplot(x='Churn',hue='PaymentMethod',data=df,palette='RdBu_r')"
   ]
  },
  {
   "cell_type": "markdown",
   "metadata": {},
   "source": [
    "Observations :-\n",
    "    \n",
    "1. Customers who have used electronic check as payment method have the lowest churn rate.\n",
    "2. Customers who have used mailed check as payment method have lower churn rate than cusomers who have used bank transfer as \n",
    "payment method.\n",
    "3. Customers who have used credit card as payment method have the highest churn rate."
   ]
  },
  {
   "cell_type": "code",
   "execution_count": 31,
   "metadata": {},
   "outputs": [
    {
     "data": {
      "text/plain": [
       "<matplotlib.axes._subplots.AxesSubplot at 0x1865a422488>"
      ]
     },
     "execution_count": 31,
     "metadata": {},
     "output_type": "execute_result"
    },
    {
     "data": {
      "image/png": "[encoded data removed]",
      "text/plain": [
       "<Figure size 432x288 with 1 Axes>"
      ]
     },
     "metadata": {},
     "output_type": "display_data"
    }
   ],
   "source": [
    "sns.set_style('whitegrid')\n",
    "sns.countplot(hue='SeniorCitizen',x='Churn',data=df,palette='RdBu_r')"
   ]
  },
  {
   "cell_type": "markdown",
   "metadata": {},
   "source": [
    "Observations :-\n",
    "    \n",
    "1. Non Senior Citizen Customers have lower churn rate than Senior Citizen Customers."
   ]
  },
  {
   "cell_type": "code",
   "execution_count": 32,
   "metadata": {},
   "outputs": [],
   "source": [
    "df_int_types=[]\n",
    "for i in df.columns:\n",
    "    if df[i].dtypes == \"int64\":\n",
    "        df_int_types.append(i)"
   ]
  },
  {
   "cell_type": "code",
   "execution_count": 33,
   "metadata": {},
   "outputs": [
    {
     "data": {
      "text/plain": [
       "['SeniorCitizen', 'tenure']"
      ]
     },
     "execution_count": 33,
     "metadata": {},
     "output_type": "execute_result"
    }
   ],
   "source": [
    "df_int_types"
   ]
  },
  {
   "cell_type": "code",
   "execution_count": 34,
   "metadata": {},
   "outputs": [
    {
     "data": {
      "text/plain": [
       "<matplotlib.axes._subplots.AxesSubplot at 0x1865a490708>"
      ]
     },
     "execution_count": 34,
     "metadata": {},
     "output_type": "execute_result"
    },
    {
     "data": {
      "image/png": "[encoded data removed]",
      "text/plain": [
       "<Figure size 432x288 with 1 Axes>"
      ]
     },
     "metadata": {},
     "output_type": "display_data"
    }
   ],
   "source": [
    "sns.distplot(df['MonthlyCharges'])"
   ]
  },
  {
   "cell_type": "markdown",
   "metadata": {},
   "source": [
    "Observations :-\n",
    "    \n",
    "1. Majorly monthly charges are present in the range of 70 - 110."
   ]
  },
  {
   "cell_type": "code",
   "execution_count": 35,
   "metadata": {},
   "outputs": [
    {
     "data": {
      "image/png": "[encoded data removed]",
      "text/plain": [
       "<Figure size 432x288 with 1 Axes>"
      ]
     },
     "metadata": {},
     "output_type": "display_data"
    }
   ],
   "source": [
    "sns.violinplot(x='SeniorCitizen',y='tenure',data=df,hue='Churn',split=True)\n",
    "plt.show()"
   ]
  },
  {
   "cell_type": "markdown",
   "metadata": {},
   "source": [
    "Observations :-\n",
    "    \n",
    "1. Non Senior Citizen customers and senior citizen customers both have high tenures."
   ]
  },
  {
   "cell_type": "code",
   "execution_count": 36,
   "metadata": {},
   "outputs": [],
   "source": [
    "from sklearn.preprocessing import LabelEncoder\n",
    "LE=LabelEncoder()\n",
    "df['Churn']=LE.fit_transform(df['Churn'])"
   ]
  },
  {
   "cell_type": "code",
   "execution_count": 37,
   "metadata": {},
   "outputs": [
    {
     "data": {
      "text/plain": [
       "           11\n",
       "20.2       11\n",
       "19.75       9\n",
       "19.9        8\n",
       "19.65       8\n",
       "           ..\n",
       "1914.5      1\n",
       "826.1       1\n",
       "5914.4      1\n",
       "1655.35     1\n",
       "1298.7      1\n",
       "Name: TotalCharges, Length: 6531, dtype: int64"
      ]
     },
     "execution_count": 37,
     "metadata": {},
     "output_type": "execute_result"
    }
   ],
   "source": [
    "df['TotalCharges'].value_counts()"
   ]
  },
  {
   "cell_type": "code",
   "execution_count": 38,
   "metadata": {},
   "outputs": [
    {
     "data": {
      "text/plain": [
       "customerID           object\n",
       "gender               object\n",
       "SeniorCitizen         int64\n",
       "Partner              object\n",
       "Dependents           object\n",
       "tenure                int64\n",
       "PhoneService         object\n",
       "MultipleLines        object\n",
       "InternetService      object\n",
       "OnlineSecurity       object\n",
       "OnlineBackup         object\n",
       "DeviceProtection     object\n",
       "TechSupport          object\n",
       "StreamingTV          object\n",
       "StreamingMovies      object\n",
       "Contract             object\n",
       "PaperlessBilling     object\n",
       "PaymentMethod        object\n",
       "MonthlyCharges      float64\n",
       "TotalCharges         object\n",
       "Churn                 int32\n",
       "dtype: object"
      ]
     },
     "execution_count": 38,
     "metadata": {},
     "output_type": "execute_result"
    }
   ],
   "source": [
    "pd.set_option('display.max_rows',None)\n",
    "df.dtypes"
   ]
  },
  {
   "cell_type": "markdown",
   "metadata": {},
   "source": [
    "# Dropping of Columns"
   ]
  },
  {
   "cell_type": "code",
   "execution_count": 39,
   "metadata": {},
   "outputs": [],
   "source": [
    "df.drop('customerID',axis=1,inplace=True)"
   ]
  },
  {
   "cell_type": "markdown",
   "metadata": {},
   "source": [
    "# Label Encoding"
   ]
  },
  {
   "cell_type": "code",
   "execution_count": 40,
   "metadata": {},
   "outputs": [],
   "source": [
    "df_str_types=[]\n",
    "for i in df.columns:\n",
    "    if df[i].dtypes == \"object\":\n",
    "        df_str_types.append(i)"
   ]
  },
  {
   "cell_type": "code",
   "execution_count": 41,
   "metadata": {},
   "outputs": [
    {
     "data": {
      "text/plain": [
       "['gender',\n",
       " 'Partner',\n",
       " 'Dependents',\n",
       " 'PhoneService',\n",
       " 'MultipleLines',\n",
       " 'InternetService',\n",
       " 'OnlineSecurity',\n",
       " 'OnlineBackup',\n",
       " 'DeviceProtection',\n",
       " 'TechSupport',\n",
       " 'StreamingTV',\n",
       " 'StreamingMovies',\n",
       " 'Contract',\n",
       " 'PaperlessBilling',\n",
       " 'PaymentMethod',\n",
       " 'TotalCharges']"
      ]
     },
     "execution_count": 41,
     "metadata": {},
     "output_type": "execute_result"
    }
   ],
   "source": [
    "df_str_types"
   ]
  },
  {
   "cell_type": "code",
   "execution_count": 42,
   "metadata": {},
   "outputs": [
    {
     "data": {
      "text/plain": [
       "'TotalCharges'"
      ]
     },
     "execution_count": 42,
     "metadata": {},
     "output_type": "execute_result"
    }
   ],
   "source": [
    "df_str_types.pop()"
   ]
  },
  {
   "cell_type": "code",
   "execution_count": 43,
   "metadata": {},
   "outputs": [
    {
     "name": "stdout",
     "output_type": "stream",
     "text": [
      "1    3555\n",
      "0    3488\n",
      "Name: gender, dtype: int64\n",
      "0    3641\n",
      "1    3402\n",
      "Name: Partner, dtype: int64\n",
      "0    4933\n",
      "1    2110\n",
      "Name: Dependents, dtype: int64\n",
      "1    6361\n",
      "0     682\n",
      "Name: PhoneService, dtype: int64\n",
      "0    3390\n",
      "2    2971\n",
      "1     682\n",
      "Name: MultipleLines, dtype: int64\n",
      "1    3096\n",
      "0    2421\n",
      "2    1526\n",
      "Name: InternetService, dtype: int64\n",
      "0    3498\n",
      "2    2019\n",
      "1    1526\n",
      "Name: OnlineSecurity, dtype: int64\n",
      "0    3088\n",
      "2    2429\n",
      "1    1526\n",
      "Name: OnlineBackup, dtype: int64\n",
      "0    3095\n",
      "2    2422\n",
      "1    1526\n",
      "Name: DeviceProtection, dtype: int64\n",
      "0    3473\n",
      "2    2044\n",
      "1    1526\n",
      "Name: TechSupport, dtype: int64\n",
      "0    2810\n",
      "2    2707\n",
      "1    1526\n",
      "Name: StreamingTV, dtype: int64\n",
      "0    2785\n",
      "2    2732\n",
      "1    1526\n",
      "Name: StreamingMovies, dtype: int64\n",
      "0    3875\n",
      "2    1695\n",
      "1    1473\n",
      "Name: Contract, dtype: int64\n",
      "1    4171\n",
      "0    2872\n",
      "Name: PaperlessBilling, dtype: int64\n",
      "2    2365\n",
      "3    1612\n",
      "0    1544\n",
      "1    1522\n",
      "Name: PaymentMethod, dtype: int64\n"
     ]
    }
   ],
   "source": [
    "from sklearn.preprocessing import LabelEncoder\n",
    "LE=LabelEncoder()\n",
    "for value in df_str_types:\n",
    "    df[value]=LE.fit_transform(df[value])\n",
    "    print(df[value].value_counts())"
   ]
  },
  {
   "cell_type": "code",
   "execution_count": 44,
   "metadata": {},
   "outputs": [
    {
     "data": {
      "text/html": [
       "<div>\n",
       "<style scoped>\n",
       "    .dataframe tbody tr th:only-of-type {\n",
       "        vertical-align: middle;\n",
       "    }\n",
       "\n",
       "    .dataframe tbody tr th {\n",
       "        vertical-align: top;\n",
       "    }\n",
       "\n",
       "    .dataframe thead th {\n",
       "        text-align: right;\n",
       "    }\n",
       "</style>\n",
       "<table border=\"1\" class=\"dataframe\">\n",
       "  <thead>\n",
       "    <tr style=\"text-align: right;\">\n",
       "      <th></th>\n",
       "      <th>gender</th>\n",
       "      <th>SeniorCitizen</th>\n",
       "      <th>Partner</th>\n",
       "      <th>Dependents</th>\n",
       "      <th>tenure</th>\n",
       "      <th>PhoneService</th>\n",
       "      <th>MultipleLines</th>\n",
       "      <th>InternetService</th>\n",
       "      <th>OnlineSecurity</th>\n",
       "      <th>OnlineBackup</th>\n",
       "      <th>DeviceProtection</th>\n",
       "      <th>TechSupport</th>\n",
       "      <th>StreamingTV</th>\n",
       "      <th>StreamingMovies</th>\n",
       "      <th>Contract</th>\n",
       "      <th>PaperlessBilling</th>\n",
       "      <th>PaymentMethod</th>\n",
       "      <th>MonthlyCharges</th>\n",
       "      <th>Churn</th>\n",
       "    </tr>\n",
       "  </thead>\n",
       "  <tbody>\n",
       "    <tr>\n",
       "      <th>gender</th>\n",
       "      <td>1.000000</td>\n",
       "      <td>-0.001874</td>\n",
       "      <td>-0.001808</td>\n",
       "      <td>0.010517</td>\n",
       "      <td>0.005106</td>\n",
       "      <td>-0.006488</td>\n",
       "      <td>-0.006739</td>\n",
       "      <td>-0.000863</td>\n",
       "      <td>-0.015017</td>\n",
       "      <td>-0.012057</td>\n",
       "      <td>0.000549</td>\n",
       "      <td>-0.006825</td>\n",
       "      <td>-0.006421</td>\n",
       "      <td>-0.008743</td>\n",
       "      <td>0.000126</td>\n",
       "      <td>-0.011754</td>\n",
       "      <td>0.017352</td>\n",
       "      <td>-0.014569</td>\n",
       "      <td>-0.008612</td>\n",
       "    </tr>\n",
       "    <tr>\n",
       "      <th>SeniorCitizen</th>\n",
       "      <td>-0.001874</td>\n",
       "      <td>1.000000</td>\n",
       "      <td>0.016479</td>\n",
       "      <td>-0.211185</td>\n",
       "      <td>0.016567</td>\n",
       "      <td>0.008576</td>\n",
       "      <td>0.146185</td>\n",
       "      <td>-0.032310</td>\n",
       "      <td>-0.128221</td>\n",
       "      <td>-0.013632</td>\n",
       "      <td>-0.021398</td>\n",
       "      <td>-0.151268</td>\n",
       "      <td>0.030776</td>\n",
       "      <td>0.047266</td>\n",
       "      <td>-0.142554</td>\n",
       "      <td>0.156530</td>\n",
       "      <td>-0.038551</td>\n",
       "      <td>0.220173</td>\n",
       "      <td>0.150889</td>\n",
       "    </tr>\n",
       "    <tr>\n",
       "      <th>Partner</th>\n",
       "      <td>-0.001808</td>\n",
       "      <td>0.016479</td>\n",
       "      <td>1.000000</td>\n",
       "      <td>0.452676</td>\n",
       "      <td>0.379697</td>\n",
       "      <td>0.017706</td>\n",
       "      <td>0.142410</td>\n",
       "      <td>0.000891</td>\n",
       "      <td>0.150828</td>\n",
       "      <td>0.153130</td>\n",
       "      <td>0.166330</td>\n",
       "      <td>0.126733</td>\n",
       "      <td>0.137341</td>\n",
       "      <td>0.129574</td>\n",
       "      <td>0.294806</td>\n",
       "      <td>-0.014877</td>\n",
       "      <td>-0.154798</td>\n",
       "      <td>0.096848</td>\n",
       "      <td>-0.150448</td>\n",
       "    </tr>\n",
       "    <tr>\n",
       "      <th>Dependents</th>\n",
       "      <td>0.010517</td>\n",
       "      <td>-0.211185</td>\n",
       "      <td>0.452676</td>\n",
       "      <td>1.000000</td>\n",
       "      <td>0.159712</td>\n",
       "      <td>-0.001762</td>\n",
       "      <td>-0.024991</td>\n",
       "      <td>0.044590</td>\n",
       "      <td>0.152166</td>\n",
       "      <td>0.091015</td>\n",
       "      <td>0.080537</td>\n",
       "      <td>0.133524</td>\n",
       "      <td>0.046885</td>\n",
       "      <td>0.021321</td>\n",
       "      <td>0.243187</td>\n",
       "      <td>-0.111377</td>\n",
       "      <td>-0.040292</td>\n",
       "      <td>-0.113890</td>\n",
       "      <td>-0.164221</td>\n",
       "    </tr>\n",
       "    <tr>\n",
       "      <th>tenure</th>\n",
       "      <td>0.005106</td>\n",
       "      <td>0.016567</td>\n",
       "      <td>0.379697</td>\n",
       "      <td>0.159712</td>\n",
       "      <td>1.000000</td>\n",
       "      <td>0.008448</td>\n",
       "      <td>0.343032</td>\n",
       "      <td>-0.030359</td>\n",
       "      <td>0.325468</td>\n",
       "      <td>0.370876</td>\n",
       "      <td>0.371105</td>\n",
       "      <td>0.322942</td>\n",
       "      <td>0.289373</td>\n",
       "      <td>0.296866</td>\n",
       "      <td>0.671607</td>\n",
       "      <td>0.006152</td>\n",
       "      <td>-0.370436</td>\n",
       "      <td>0.247900</td>\n",
       "      <td>-0.352229</td>\n",
       "    </tr>\n",
       "    <tr>\n",
       "      <th>PhoneService</th>\n",
       "      <td>-0.006488</td>\n",
       "      <td>0.008576</td>\n",
       "      <td>0.017706</td>\n",
       "      <td>-0.001762</td>\n",
       "      <td>0.008448</td>\n",
       "      <td>1.000000</td>\n",
       "      <td>-0.020538</td>\n",
       "      <td>0.387436</td>\n",
       "      <td>-0.015198</td>\n",
       "      <td>0.024105</td>\n",
       "      <td>0.003727</td>\n",
       "      <td>-0.019158</td>\n",
       "      <td>0.055353</td>\n",
       "      <td>0.043870</td>\n",
       "      <td>0.002247</td>\n",
       "      <td>0.016505</td>\n",
       "      <td>-0.004184</td>\n",
       "      <td>0.247398</td>\n",
       "      <td>0.011942</td>\n",
       "    </tr>\n",
       "    <tr>\n",
       "      <th>MultipleLines</th>\n",
       "      <td>-0.006739</td>\n",
       "      <td>0.146185</td>\n",
       "      <td>0.142410</td>\n",
       "      <td>-0.024991</td>\n",
       "      <td>0.343032</td>\n",
       "      <td>-0.020538</td>\n",
       "      <td>1.000000</td>\n",
       "      <td>-0.109216</td>\n",
       "      <td>0.007141</td>\n",
       "      <td>0.117327</td>\n",
       "      <td>0.122318</td>\n",
       "      <td>0.011466</td>\n",
       "      <td>0.175059</td>\n",
       "      <td>0.180957</td>\n",
       "      <td>0.110842</td>\n",
       "      <td>0.165146</td>\n",
       "      <td>-0.176793</td>\n",
       "      <td>0.433576</td>\n",
       "      <td>0.038037</td>\n",
       "    </tr>\n",
       "    <tr>\n",
       "      <th>InternetService</th>\n",
       "      <td>-0.000863</td>\n",
       "      <td>-0.032310</td>\n",
       "      <td>0.000891</td>\n",
       "      <td>0.044590</td>\n",
       "      <td>-0.030359</td>\n",
       "      <td>0.387436</td>\n",
       "      <td>-0.109216</td>\n",
       "      <td>1.000000</td>\n",
       "      <td>-0.028416</td>\n",
       "      <td>0.036138</td>\n",
       "      <td>0.044944</td>\n",
       "      <td>-0.026047</td>\n",
       "      <td>0.107417</td>\n",
       "      <td>0.098350</td>\n",
       "      <td>0.099721</td>\n",
       "      <td>-0.138625</td>\n",
       "      <td>0.086140</td>\n",
       "      <td>-0.323260</td>\n",
       "      <td>-0.047291</td>\n",
       "    </tr>\n",
       "    <tr>\n",
       "      <th>OnlineSecurity</th>\n",
       "      <td>-0.015017</td>\n",
       "      <td>-0.128221</td>\n",
       "      <td>0.150828</td>\n",
       "      <td>0.152166</td>\n",
       "      <td>0.325468</td>\n",
       "      <td>-0.015198</td>\n",
       "      <td>0.007141</td>\n",
       "      <td>-0.028416</td>\n",
       "      <td>1.000000</td>\n",
       "      <td>0.185126</td>\n",
       "      <td>0.175985</td>\n",
       "      <td>0.285028</td>\n",
       "      <td>0.044669</td>\n",
       "      <td>0.055954</td>\n",
       "      <td>0.374416</td>\n",
       "      <td>-0.157641</td>\n",
       "      <td>-0.096726</td>\n",
       "      <td>-0.053878</td>\n",
       "      <td>-0.289309</td>\n",
       "    </tr>\n",
       "    <tr>\n",
       "      <th>OnlineBackup</th>\n",
       "      <td>-0.012057</td>\n",
       "      <td>-0.013632</td>\n",
       "      <td>0.153130</td>\n",
       "      <td>0.091015</td>\n",
       "      <td>0.370876</td>\n",
       "      <td>0.024105</td>\n",
       "      <td>0.117327</td>\n",
       "      <td>0.036138</td>\n",
       "      <td>0.185126</td>\n",
       "      <td>1.000000</td>\n",
       "      <td>0.187757</td>\n",
       "      <td>0.195748</td>\n",
       "      <td>0.147186</td>\n",
       "      <td>0.136722</td>\n",
       "      <td>0.280980</td>\n",
       "      <td>-0.013370</td>\n",
       "      <td>-0.124847</td>\n",
       "      <td>0.119777</td>\n",
       "      <td>-0.195525</td>\n",
       "    </tr>\n",
       "    <tr>\n",
       "      <th>DeviceProtection</th>\n",
       "      <td>0.000549</td>\n",
       "      <td>-0.021398</td>\n",
       "      <td>0.166330</td>\n",
       "      <td>0.080537</td>\n",
       "      <td>0.371105</td>\n",
       "      <td>0.003727</td>\n",
       "      <td>0.122318</td>\n",
       "      <td>0.044944</td>\n",
       "      <td>0.175985</td>\n",
       "      <td>0.187757</td>\n",
       "      <td>1.000000</td>\n",
       "      <td>0.240593</td>\n",
       "      <td>0.276652</td>\n",
       "      <td>0.288799</td>\n",
       "      <td>0.350277</td>\n",
       "      <td>-0.038234</td>\n",
       "      <td>-0.135750</td>\n",
       "      <td>0.163652</td>\n",
       "      <td>-0.178134</td>\n",
       "    </tr>\n",
       "    <tr>\n",
       "      <th>TechSupport</th>\n",
       "      <td>-0.006825</td>\n",
       "      <td>-0.151268</td>\n",
       "      <td>0.126733</td>\n",
       "      <td>0.133524</td>\n",
       "      <td>0.322942</td>\n",
       "      <td>-0.019158</td>\n",
       "      <td>0.011466</td>\n",
       "      <td>-0.026047</td>\n",
       "      <td>0.285028</td>\n",
       "      <td>0.195748</td>\n",
       "      <td>0.240593</td>\n",
       "      <td>1.000000</td>\n",
       "      <td>0.161305</td>\n",
       "      <td>0.161316</td>\n",
       "      <td>0.425367</td>\n",
       "      <td>-0.113600</td>\n",
       "      <td>-0.104670</td>\n",
       "      <td>-0.008682</td>\n",
       "      <td>-0.282492</td>\n",
       "    </tr>\n",
       "    <tr>\n",
       "      <th>StreamingTV</th>\n",
       "      <td>-0.006421</td>\n",
       "      <td>0.030776</td>\n",
       "      <td>0.137341</td>\n",
       "      <td>0.046885</td>\n",
       "      <td>0.289373</td>\n",
       "      <td>0.055353</td>\n",
       "      <td>0.175059</td>\n",
       "      <td>0.107417</td>\n",
       "      <td>0.044669</td>\n",
       "      <td>0.147186</td>\n",
       "      <td>0.276652</td>\n",
       "      <td>0.161305</td>\n",
       "      <td>1.000000</td>\n",
       "      <td>0.434772</td>\n",
       "      <td>0.227116</td>\n",
       "      <td>0.096642</td>\n",
       "      <td>-0.104234</td>\n",
       "      <td>0.336706</td>\n",
       "      <td>-0.036581</td>\n",
       "    </tr>\n",
       "    <tr>\n",
       "      <th>StreamingMovies</th>\n",
       "      <td>-0.008743</td>\n",
       "      <td>0.047266</td>\n",
       "      <td>0.129574</td>\n",
       "      <td>0.021321</td>\n",
       "      <td>0.296866</td>\n",
       "      <td>0.043870</td>\n",
       "      <td>0.180957</td>\n",
       "      <td>0.098350</td>\n",
       "      <td>0.055954</td>\n",
       "      <td>0.136722</td>\n",
       "      <td>0.288799</td>\n",
       "      <td>0.161316</td>\n",
       "      <td>0.434772</td>\n",
       "      <td>1.000000</td>\n",
       "      <td>0.231226</td>\n",
       "      <td>0.083700</td>\n",
       "      <td>-0.111241</td>\n",
       "      <td>0.335459</td>\n",
       "      <td>-0.038492</td>\n",
       "    </tr>\n",
       "    <tr>\n",
       "      <th>Contract</th>\n",
       "      <td>0.000126</td>\n",
       "      <td>-0.142554</td>\n",
       "      <td>0.294806</td>\n",
       "      <td>0.243187</td>\n",
       "      <td>0.671607</td>\n",
       "      <td>0.002247</td>\n",
       "      <td>0.110842</td>\n",
       "      <td>0.099721</td>\n",
       "      <td>0.374416</td>\n",
       "      <td>0.280980</td>\n",
       "      <td>0.350277</td>\n",
       "      <td>0.425367</td>\n",
       "      <td>0.227116</td>\n",
       "      <td>0.231226</td>\n",
       "      <td>1.000000</td>\n",
       "      <td>-0.176733</td>\n",
       "      <td>-0.227543</td>\n",
       "      <td>-0.074195</td>\n",
       "      <td>-0.396713</td>\n",
       "    </tr>\n",
       "    <tr>\n",
       "      <th>PaperlessBilling</th>\n",
       "      <td>-0.011754</td>\n",
       "      <td>0.156530</td>\n",
       "      <td>-0.014877</td>\n",
       "      <td>-0.111377</td>\n",
       "      <td>0.006152</td>\n",
       "      <td>0.016505</td>\n",
       "      <td>0.165146</td>\n",
       "      <td>-0.138625</td>\n",
       "      <td>-0.157641</td>\n",
       "      <td>-0.013370</td>\n",
       "      <td>-0.038234</td>\n",
       "      <td>-0.113600</td>\n",
       "      <td>0.096642</td>\n",
       "      <td>0.083700</td>\n",
       "      <td>-0.176733</td>\n",
       "      <td>1.000000</td>\n",
       "      <td>-0.062904</td>\n",
       "      <td>0.352150</td>\n",
       "      <td>0.191825</td>\n",
       "    </tr>\n",
       "    <tr>\n",
       "      <th>PaymentMethod</th>\n",
       "      <td>0.017352</td>\n",
       "      <td>-0.038551</td>\n",
       "      <td>-0.154798</td>\n",
       "      <td>-0.040292</td>\n",
       "      <td>-0.370436</td>\n",
       "      <td>-0.004184</td>\n",
       "      <td>-0.176793</td>\n",
       "      <td>0.086140</td>\n",
       "      <td>-0.096726</td>\n",
       "      <td>-0.124847</td>\n",
       "      <td>-0.135750</td>\n",
       "      <td>-0.104670</td>\n",
       "      <td>-0.104234</td>\n",
       "      <td>-0.111241</td>\n",
       "      <td>-0.227543</td>\n",
       "      <td>-0.062904</td>\n",
       "      <td>1.000000</td>\n",
       "      <td>-0.193407</td>\n",
       "      <td>0.107062</td>\n",
       "    </tr>\n",
       "    <tr>\n",
       "      <th>MonthlyCharges</th>\n",
       "      <td>-0.014569</td>\n",
       "      <td>0.220173</td>\n",
       "      <td>0.096848</td>\n",
       "      <td>-0.113890</td>\n",
       "      <td>0.247900</td>\n",
       "      <td>0.247398</td>\n",
       "      <td>0.433576</td>\n",
       "      <td>-0.323260</td>\n",
       "      <td>-0.053878</td>\n",
       "      <td>0.119777</td>\n",
       "      <td>0.163652</td>\n",
       "      <td>-0.008682</td>\n",
       "      <td>0.336706</td>\n",
       "      <td>0.335459</td>\n",
       "      <td>-0.074195</td>\n",
       "      <td>0.352150</td>\n",
       "      <td>-0.193407</td>\n",
       "      <td>1.000000</td>\n",
       "      <td>0.193356</td>\n",
       "    </tr>\n",
       "    <tr>\n",
       "      <th>Churn</th>\n",
       "      <td>-0.008612</td>\n",
       "      <td>0.150889</td>\n",
       "      <td>-0.150448</td>\n",
       "      <td>-0.164221</td>\n",
       "      <td>-0.352229</td>\n",
       "      <td>0.011942</td>\n",
       "      <td>0.038037</td>\n",
       "      <td>-0.047291</td>\n",
       "      <td>-0.289309</td>\n",
       "      <td>-0.195525</td>\n",
       "      <td>-0.178134</td>\n",
       "      <td>-0.282492</td>\n",
       "      <td>-0.036581</td>\n",
       "      <td>-0.038492</td>\n",
       "      <td>-0.396713</td>\n",
       "      <td>0.191825</td>\n",
       "      <td>0.107062</td>\n",
       "      <td>0.193356</td>\n",
       "      <td>1.000000</td>\n",
       "    </tr>\n",
       "  </tbody>\n",
       "</table>\n",
       "</div>"
      ],
      "text/plain": [
       "                    gender  SeniorCitizen   Partner  Dependents    tenure  \\\n",
       "gender            1.000000      -0.001874 -0.001808    0.010517  0.005106   \n",
       "SeniorCitizen    -0.001874       1.000000  0.016479   -0.211185  0.016567   \n",
       "Partner          -0.001808       0.016479  1.000000    0.452676  0.379697   \n",
       "Dependents        0.010517      -0.211185  0.452676    1.000000  0.159712   \n",
       "tenure            0.005106       0.016567  0.379697    0.159712  1.000000   \n",
       "PhoneService     -0.006488       0.008576  0.017706   -0.001762  0.008448   \n",
       "MultipleLines    -0.006739       0.146185  0.142410   -0.024991  0.343032   \n",
       "InternetService  -0.000863      -0.032310  0.000891    0.044590 -0.030359   \n",
       "OnlineSecurity   -0.015017      -0.128221  0.150828    0.152166  0.325468   \n",
       "OnlineBackup     -0.012057      -0.013632  0.153130    0.091015  0.370876   \n",
       "DeviceProtection  0.000549      -0.021398  0.166330    0.080537  0.371105   \n",
       "TechSupport      -0.006825      -0.151268  0.126733    0.133524  0.322942   \n",
       "StreamingTV      -0.006421       0.030776  0.137341    0.046885  0.289373   \n",
       "StreamingMovies  -0.008743       0.047266  0.129574    0.021321  0.296866   \n",
       "Contract          0.000126      -0.142554  0.294806    0.243187  0.671607   \n",
       "PaperlessBilling -0.011754       0.156530 -0.014877   -0.111377  0.006152   \n",
       "PaymentMethod     0.017352      -0.038551 -0.154798   -0.040292 -0.370436   \n",
       "MonthlyCharges   -0.014569       0.220173  0.096848   -0.113890  0.247900   \n",
       "Churn            -0.008612       0.150889 -0.150448   -0.164221 -0.352229   \n",
       "\n",
       "                  PhoneService  MultipleLines  InternetService  \\\n",
       "gender               -0.006488      -0.006739        -0.000863   \n",
       "SeniorCitizen         0.008576       0.146185        -0.032310   \n",
       "Partner               0.017706       0.142410         0.000891   \n",
       "Dependents           -0.001762      -0.024991         0.044590   \n",
       "tenure                0.008448       0.343032        -0.030359   \n",
       "PhoneService          1.000000      -0.020538         0.387436   \n",
       "MultipleLines        -0.020538       1.000000        -0.109216   \n",
       "InternetService       0.387436      -0.109216         1.000000   \n",
       "OnlineSecurity       -0.015198       0.007141        -0.028416   \n",
       "OnlineBackup          0.024105       0.117327         0.036138   \n",
       "DeviceProtection      0.003727       0.122318         0.044944   \n",
       "TechSupport          -0.019158       0.011466        -0.026047   \n",
       "StreamingTV           0.055353       0.175059         0.107417   \n",
       "StreamingMovies       0.043870       0.180957         0.098350   \n",
       "Contract              0.002247       0.110842         0.099721   \n",
       "PaperlessBilling      0.016505       0.165146        -0.138625   \n",
       "PaymentMethod        -0.004184      -0.176793         0.086140   \n",
       "MonthlyCharges        0.247398       0.433576        -0.323260   \n",
       "Churn                 0.011942       0.038037        -0.047291   \n",
       "\n",
       "                  OnlineSecurity  OnlineBackup  DeviceProtection  TechSupport  \\\n",
       "gender                 -0.015017     -0.012057          0.000549    -0.006825   \n",
       "SeniorCitizen          -0.128221     -0.013632         -0.021398    -0.151268   \n",
       "Partner                 0.150828      0.153130          0.166330     0.126733   \n",
       "Dependents              0.152166      0.091015          0.080537     0.133524   \n",
       "tenure                  0.325468      0.370876          0.371105     0.322942   \n",
       "PhoneService           -0.015198      0.024105          0.003727    -0.019158   \n",
       "MultipleLines           0.007141      0.117327          0.122318     0.011466   \n",
       "InternetService        -0.028416      0.036138          0.044944    -0.026047   \n",
       "OnlineSecurity          1.000000      0.185126          0.175985     0.285028   \n",
       "OnlineBackup            0.185126      1.000000          0.187757     0.195748   \n",
       "DeviceProtection        0.175985      0.187757          1.000000     0.240593   \n",
       "TechSupport             0.285028      0.195748          0.240593     1.000000   \n",
       "StreamingTV             0.044669      0.147186          0.276652     0.161305   \n",
       "StreamingMovies         0.055954      0.136722          0.288799     0.161316   \n",
       "Contract                0.374416      0.280980          0.350277     0.425367   \n",
       "PaperlessBilling       -0.157641     -0.013370         -0.038234    -0.113600   \n",
       "PaymentMethod          -0.096726     -0.124847         -0.135750    -0.104670   \n",
       "MonthlyCharges         -0.053878      0.119777          0.163652    -0.008682   \n",
       "Churn                  -0.289309     -0.195525         -0.178134    -0.282492   \n",
       "\n",
       "                  StreamingTV  StreamingMovies  Contract  PaperlessBilling  \\\n",
       "gender              -0.006421        -0.008743  0.000126         -0.011754   \n",
       "SeniorCitizen        0.030776         0.047266 -0.142554          0.156530   \n",
       "Partner              0.137341         0.129574  0.294806         -0.014877   \n",
       "Dependents           0.046885         0.021321  0.243187         -0.111377   \n",
       "tenure               0.289373         0.296866  0.671607          0.006152   \n",
       "PhoneService         0.055353         0.043870  0.002247          0.016505   \n",
       "MultipleLines        0.175059         0.180957  0.110842          0.165146   \n",
       "InternetService      0.107417         0.098350  0.099721         -0.138625   \n",
       "OnlineSecurity       0.044669         0.055954  0.374416         -0.157641   \n",
       "OnlineBackup         0.147186         0.136722  0.280980         -0.013370   \n",
       "DeviceProtection     0.276652         0.288799  0.350277         -0.038234   \n",
       "TechSupport          0.161305         0.161316  0.425367         -0.113600   \n",
       "StreamingTV          1.000000         0.434772  0.227116          0.096642   \n",
       "StreamingMovies      0.434772         1.000000  0.231226          0.083700   \n",
       "Contract             0.227116         0.231226  1.000000         -0.176733   \n",
       "PaperlessBilling     0.096642         0.083700 -0.176733          1.000000   \n",
       "PaymentMethod       -0.104234        -0.111241 -0.227543         -0.062904   \n",
       "MonthlyCharges       0.336706         0.335459 -0.074195          0.352150   \n",
       "Churn               -0.036581        -0.038492 -0.396713          0.191825   \n",
       "\n",
       "                  PaymentMethod  MonthlyCharges     Churn  \n",
       "gender                 0.017352       -0.014569 -0.008612  \n",
       "SeniorCitizen         -0.038551        0.220173  0.150889  \n",
       "Partner               -0.154798        0.096848 -0.150448  \n",
       "Dependents            -0.040292       -0.113890 -0.164221  \n",
       "tenure                -0.370436        0.247900 -0.352229  \n",
       "PhoneService          -0.004184        0.247398  0.011942  \n",
       "MultipleLines         -0.176793        0.433576  0.038037  \n",
       "InternetService        0.086140       -0.323260 -0.047291  \n",
       "OnlineSecurity        -0.096726       -0.053878 -0.289309  \n",
       "OnlineBackup          -0.124847        0.119777 -0.195525  \n",
       "DeviceProtection      -0.135750        0.163652 -0.178134  \n",
       "TechSupport           -0.104670       -0.008682 -0.282492  \n",
       "StreamingTV           -0.104234        0.336706 -0.036581  \n",
       "StreamingMovies       -0.111241        0.335459 -0.038492  \n",
       "Contract              -0.227543       -0.074195 -0.396713  \n",
       "PaperlessBilling      -0.062904        0.352150  0.191825  \n",
       "PaymentMethod          1.000000       -0.193407  0.107062  \n",
       "MonthlyCharges        -0.193407        1.000000  0.193356  \n",
       "Churn                  0.107062        0.193356  1.000000  "
      ]
     },
     "execution_count": 44,
     "metadata": {},
     "output_type": "execute_result"
    }
   ],
   "source": [
    "dfcorr=df.corr()\n",
    "dfcorr"
   ]
  },
  {
   "cell_type": "code",
   "execution_count": 45,
   "metadata": {},
   "outputs": [
    {
     "data": {
      "text/plain": [
       "<matplotlib.axes._subplots.AxesSubplot at 0x1865a5bc6c8>"
      ]
     },
     "execution_count": 45,
     "metadata": {},
     "output_type": "execute_result"
    },
    {
     "data": {
      "image/png": "[encoded data removed]",
      "text/plain": [
       "<Figure size 1080x936 with 2 Axes>"
      ]
     },
     "metadata": {},
     "output_type": "display_data"
    }
   ],
   "source": [
    "# Multivariate Analysis\n",
    "plt.figure(figsize=(15,13))\n",
    "sns.heatmap(dfcorr,cmap='YlGnBu',annot=True)"
   ]
  },
  {
   "cell_type": "markdown",
   "metadata": {},
   "source": [
    "Observations :-\n",
    "    \n",
    "1. Churn is highly positively correlated with PaperlessBilling.\n",
    "2. PaperlessBilling is highly negatively correlated with Contract.\n",
    "3. Contract is highly positively correlated with tenure.\n",
    "4. Contract is highly negatively correlated with Churn."
   ]
  },
  {
   "cell_type": "markdown",
   "metadata": {},
   "source": [
    "# Plotting Outliers"
   ]
  },
  {
   "cell_type": "code",
   "execution_count": 46,
   "metadata": {},
   "outputs": [
    {
     "data": {
      "text/plain": [
       "(7043, 20)"
      ]
     },
     "execution_count": 46,
     "metadata": {},
     "output_type": "execute_result"
    }
   ],
   "source": [
    "df.shape"
   ]
  },
  {
   "cell_type": "code",
   "execution_count": 47,
   "metadata": {},
   "outputs": [
    {
     "data": {
      "text/plain": [
       "gender                  AxesSubplot(0.125,0.71587;0.133621x0.16413)\n",
       "SeniorCitizen        AxesSubplot(0.285345,0.71587;0.133621x0.16413)\n",
       "Partner               AxesSubplot(0.44569,0.71587;0.133621x0.16413)\n",
       "Dependents           AxesSubplot(0.606034,0.71587;0.133621x0.16413)\n",
       "tenure               AxesSubplot(0.766379,0.71587;0.133621x0.16413)\n",
       "PhoneService           AxesSubplot(0.125,0.518913;0.133621x0.16413)\n",
       "MultipleLines       AxesSubplot(0.285345,0.518913;0.133621x0.16413)\n",
       "InternetService      AxesSubplot(0.44569,0.518913;0.133621x0.16413)\n",
       "OnlineSecurity      AxesSubplot(0.606034,0.518913;0.133621x0.16413)\n",
       "OnlineBackup        AxesSubplot(0.766379,0.518913;0.133621x0.16413)\n",
       "DeviceProtection       AxesSubplot(0.125,0.321957;0.133621x0.16413)\n",
       "TechSupport         AxesSubplot(0.285345,0.321957;0.133621x0.16413)\n",
       "StreamingTV          AxesSubplot(0.44569,0.321957;0.133621x0.16413)\n",
       "StreamingMovies     AxesSubplot(0.606034,0.321957;0.133621x0.16413)\n",
       "Contract            AxesSubplot(0.766379,0.321957;0.133621x0.16413)\n",
       "PaperlessBilling          AxesSubplot(0.125,0.125;0.133621x0.16413)\n",
       "PaymentMethod          AxesSubplot(0.285345,0.125;0.133621x0.16413)\n",
       "MonthlyCharges          AxesSubplot(0.44569,0.125;0.133621x0.16413)\n",
       "Churn                  AxesSubplot(0.606034,0.125;0.133621x0.16413)\n",
       "dtype: object"
      ]
     },
     "execution_count": 47,
     "metadata": {},
     "output_type": "execute_result"
    },
    {
     "data": {
      "image/png": "[encoded data removed]",
      "text/plain": [
       "<Figure size 1296x864 with 20 Axes>"
      ]
     },
     "metadata": {},
     "output_type": "display_data"
    }
   ],
   "source": [
    "df.plot(kind='box',subplots=True,layout=(4,5),sharex=False,fontsize=1,figsize=(18,12))"
   ]
  },
  {
   "cell_type": "markdown",
   "metadata": {},
   "source": [
    "Observations :-\n",
    "    \n",
    "1. Senior Citizen and Phone Service have outliers."
   ]
  },
  {
   "cell_type": "code",
   "execution_count": 48,
   "metadata": {},
   "outputs": [
    {
     "data": {
      "text/plain": [
       "gender                int32\n",
       "SeniorCitizen         int64\n",
       "Partner               int32\n",
       "Dependents            int32\n",
       "tenure                int64\n",
       "PhoneService          int32\n",
       "MultipleLines         int32\n",
       "InternetService       int32\n",
       "OnlineSecurity        int32\n",
       "OnlineBackup          int32\n",
       "DeviceProtection      int32\n",
       "TechSupport           int32\n",
       "StreamingTV           int32\n",
       "StreamingMovies       int32\n",
       "Contract              int32\n",
       "PaperlessBilling      int32\n",
       "PaymentMethod         int32\n",
       "MonthlyCharges      float64\n",
       "TotalCharges         object\n",
       "Churn                 int32\n",
       "dtype: object"
      ]
     },
     "execution_count": 48,
     "metadata": {},
     "output_type": "execute_result"
    }
   ],
   "source": [
    "pd.set_option('display.max_rows',None)\n",
    "df.dtypes"
   ]
  },
  {
   "cell_type": "markdown",
   "metadata": {},
   "source": [
    "# Dropping of Column"
   ]
  },
  {
   "cell_type": "code",
   "execution_count": 49,
   "metadata": {},
   "outputs": [],
   "source": [
    "df.drop('TotalCharges',axis=1,inplace=True)"
   ]
  },
  {
   "cell_type": "markdown",
   "metadata": {},
   "source": [
    "# Removing Outliers"
   ]
  },
  {
   "cell_type": "code",
   "execution_count": 50,
   "metadata": {},
   "outputs": [],
   "source": [
    "from scipy.stats import zscore\n",
    "z=np.abs(zscore(df))"
   ]
  },
  {
   "cell_type": "code",
   "execution_count": 51,
   "metadata": {},
   "outputs": [],
   "source": [
    "threshold=3\n",
    "df_new=df[(z<3).all(axis=1)]"
   ]
  },
  {
   "cell_type": "code",
   "execution_count": 52,
   "metadata": {},
   "outputs": [
    {
     "data": {
      "text/plain": [
       "(6361, 19)"
      ]
     },
     "execution_count": 52,
     "metadata": {},
     "output_type": "execute_result"
    }
   ],
   "source": [
    "df_new.shape"
   ]
  },
  {
   "cell_type": "code",
   "execution_count": 53,
   "metadata": {},
   "outputs": [
    {
     "data": {
      "text/plain": [
       "(7043, 19)"
      ]
     },
     "execution_count": 53,
     "metadata": {},
     "output_type": "execute_result"
    }
   ],
   "source": [
    "df.shape"
   ]
  },
  {
   "cell_type": "code",
   "execution_count": 54,
   "metadata": {},
   "outputs": [],
   "source": [
    "# 682 rows are removed as outliers"
   ]
  },
  {
   "cell_type": "code",
   "execution_count": 55,
   "metadata": {},
   "outputs": [
    {
     "data": {
      "text/plain": [
       "9.683373562402386"
      ]
     },
     "execution_count": 55,
     "metadata": {},
     "output_type": "execute_result"
    }
   ],
   "source": [
    "((7043-6361)/7043)*100"
   ]
  },
  {
   "cell_type": "code",
   "execution_count": 56,
   "metadata": {},
   "outputs": [],
   "source": [
    "df=df_new"
   ]
  },
  {
   "cell_type": "code",
   "execution_count": 57,
   "metadata": {},
   "outputs": [
    {
     "data": {
      "text/plain": [
       "(6361, 19)"
      ]
     },
     "execution_count": 57,
     "metadata": {},
     "output_type": "execute_result"
    }
   ],
   "source": [
    "df.shape"
   ]
  },
  {
   "cell_type": "markdown",
   "metadata": {},
   "source": [
    "# To check skewness"
   ]
  },
  {
   "cell_type": "code",
   "execution_count": 58,
   "metadata": {},
   "outputs": [
    {
     "data": {
      "text/plain": [
       "<matplotlib.axes._subplots.AxesSubplot at 0x1865b72cd48>"
      ]
     },
     "execution_count": 58,
     "metadata": {},
     "output_type": "execute_result"
    },
    {
     "data": {
      "image/png": "[encoded data removed]",
      "text/plain": [
       "<Figure size 432x288 with 1 Axes>"
      ]
     },
     "metadata": {},
     "output_type": "display_data"
    }
   ],
   "source": [
    "df['SeniorCitizen'].plot(kind='density',sharex=False,fontsize=1)"
   ]
  },
  {
   "cell_type": "markdown",
   "metadata": {},
   "source": [
    "Observations :-\n",
    "    \n",
    "1. Senior Citizen is right skewed. "
   ]
  },
  {
   "cell_type": "code",
   "execution_count": 59,
   "metadata": {},
   "outputs": [
    {
     "data": {
      "text/plain": [
       "<matplotlib.axes._subplots.AxesSubplot at 0x1865b3fdac8>"
      ]
     },
     "execution_count": 59,
     "metadata": {},
     "output_type": "execute_result"
    },
    {
     "data": {
      "image/png": "[encoded data removed]",
      "text/plain": [
       "<Figure size 432x288 with 1 Axes>"
      ]
     },
     "metadata": {},
     "output_type": "display_data"
    }
   ],
   "source": [
    "df['Partner'].plot(kind='density',sharex=False,fontsize=1)"
   ]
  },
  {
   "cell_type": "markdown",
   "metadata": {},
   "source": [
    "Observations :-\n",
    "    \n",
    "1. Partner is normally distributed. "
   ]
  },
  {
   "cell_type": "code",
   "execution_count": 60,
   "metadata": {},
   "outputs": [
    {
     "data": {
      "text/plain": [
       "<matplotlib.axes._subplots.AxesSubplot at 0x1865b45cb08>"
      ]
     },
     "execution_count": 60,
     "metadata": {},
     "output_type": "execute_result"
    },
    {
     "data": {
      "image/png": "[encoded data removed]",
      "text/plain": [
       "<Figure size 432x288 with 1 Axes>"
      ]
     },
     "metadata": {},
     "output_type": "display_data"
    }
   ],
   "source": [
    "df['Dependents'].plot(kind='density',sharex=False,fontsize=1)"
   ]
  },
  {
   "cell_type": "markdown",
   "metadata": {},
   "source": [
    "Observations :-\n",
    "    \n",
    "1. Dependents is right skewed. "
   ]
  },
  {
   "cell_type": "code",
   "execution_count": 61,
   "metadata": {},
   "outputs": [
    {
     "data": {
      "text/plain": [
       "<matplotlib.axes._subplots.AxesSubplot at 0x1865b4d2a88>"
      ]
     },
     "execution_count": 61,
     "metadata": {},
     "output_type": "execute_result"
    },
    {
     "data": {
      "image/png": "[encoded data removed]",
      "text/plain": [
       "<Figure size 432x288 with 1 Axes>"
      ]
     },
     "metadata": {},
     "output_type": "display_data"
    }
   ],
   "source": [
    "df['Contract'].plot(kind='density',sharex=False,fontsize=1)"
   ]
  },
  {
   "cell_type": "markdown",
   "metadata": {},
   "source": [
    "Observations :-\n",
    "    \n",
    "1. Contract is right skewed. "
   ]
  },
  {
   "cell_type": "code",
   "execution_count": 62,
   "metadata": {},
   "outputs": [
    {
     "data": {
      "text/plain": [
       "<matplotlib.axes._subplots.AxesSubplot at 0x1865b547b88>"
      ]
     },
     "execution_count": 62,
     "metadata": {},
     "output_type": "execute_result"
    },
    {
     "data": {
      "image/png": "[encoded data removed]",
      "text/plain": [
       "<Figure size 432x288 with 1 Axes>"
      ]
     },
     "metadata": {},
     "output_type": "display_data"
    }
   ],
   "source": [
    "df['tenure'].plot(kind='density',sharex=False,fontsize=1)"
   ]
  },
  {
   "cell_type": "markdown",
   "metadata": {},
   "source": [
    "Observations :-\n",
    "    \n",
    "1. tenure is normally distributed. "
   ]
  },
  {
   "cell_type": "code",
   "execution_count": 63,
   "metadata": {},
   "outputs": [
    {
     "data": {
      "text/plain": [
       "gender             -0.014781\n",
       "SeniorCitizen       1.823376\n",
       "Partner             0.056316\n",
       "Dependents          0.876594\n",
       "tenure              0.237945\n",
       "PhoneService        0.000000\n",
       "MultipleLines       0.132058\n",
       "InternetService     0.049126\n",
       "OnlineSecurity      0.422032\n",
       "OnlineBackup        0.167910\n",
       "DeviceProtection    0.183254\n",
       "TechSupport         0.409833\n",
       "StreamingTV        -0.002734\n",
       "StreamingMovies    -0.010025\n",
       "Contract            0.629701\n",
       "PaperlessBilling   -0.386613\n",
       "PaymentMethod      -0.169889\n",
       "MonthlyCharges     -0.399139\n",
       "Churn               1.053055\n",
       "dtype: float64"
      ]
     },
     "execution_count": 63,
     "metadata": {},
     "output_type": "execute_result"
    }
   ],
   "source": [
    "df.skew()"
   ]
  },
  {
   "cell_type": "code",
   "execution_count": 64,
   "metadata": {},
   "outputs": [
    {
     "data": {
      "text/plain": [
       "Index(['gender', 'SeniorCitizen', 'Partner', 'Dependents', 'tenure',\n",
       "       'PhoneService', 'MultipleLines', 'InternetService', 'OnlineSecurity',\n",
       "       'OnlineBackup', 'DeviceProtection', 'TechSupport', 'StreamingTV',\n",
       "       'StreamingMovies', 'Contract', 'PaperlessBilling', 'PaymentMethod',\n",
       "       'MonthlyCharges', 'Churn'],\n",
       "      dtype='object')"
      ]
     },
     "execution_count": 64,
     "metadata": {},
     "output_type": "execute_result"
    }
   ],
   "source": [
    "df.columns"
   ]
  },
  {
   "cell_type": "code",
   "execution_count": 65,
   "metadata": {},
   "outputs": [],
   "source": [
    "list=['SeniorCitizen','Dependents','Contract']\n",
    "for val in list:\n",
    "    if df.skew().loc[val]>0.55:\n",
    "        df[val]=np.sqrt(df[val])"
   ]
  },
  {
   "cell_type": "code",
   "execution_count": 66,
   "metadata": {},
   "outputs": [
    {
     "data": {
      "text/plain": [
       "gender             -0.014781\n",
       "SeniorCitizen       1.823376\n",
       "Partner             0.056316\n",
       "Dependents          0.876594\n",
       "tenure              0.237945\n",
       "PhoneService        0.000000\n",
       "MultipleLines       0.132058\n",
       "InternetService     0.049126\n",
       "OnlineSecurity      0.422032\n",
       "OnlineBackup        0.167910\n",
       "DeviceProtection    0.183254\n",
       "TechSupport         0.409833\n",
       "StreamingTV        -0.002734\n",
       "StreamingMovies    -0.010025\n",
       "Contract            0.343999\n",
       "PaperlessBilling   -0.386613\n",
       "PaymentMethod      -0.169889\n",
       "MonthlyCharges     -0.399139\n",
       "Churn               1.053055\n",
       "dtype: float64"
      ]
     },
     "execution_count": 66,
     "metadata": {},
     "output_type": "execute_result"
    }
   ],
   "source": [
    "df.skew()"
   ]
  },
  {
   "cell_type": "markdown",
   "metadata": {},
   "source": [
    "# Train Test Split"
   ]
  },
  {
   "cell_type": "code",
   "execution_count": 67,
   "metadata": {},
   "outputs": [],
   "source": [
    "x=df[['gender', 'SeniorCitizen', 'Partner', 'Dependents', 'tenure',\n",
    "       'PhoneService', 'MultipleLines', 'InternetService', 'OnlineSecurity',\n",
    "       'OnlineBackup', 'DeviceProtection', 'TechSupport', 'StreamingTV',\n",
    "       'StreamingMovies', 'Contract', 'PaperlessBilling', 'PaymentMethod',\n",
    "       'MonthlyCharges']]\n",
    "y=df['Churn']"
   ]
  },
  {
   "cell_type": "markdown",
   "metadata": {},
   "source": [
    "# Scaling"
   ]
  },
  {
   "cell_type": "code",
   "execution_count": 68,
   "metadata": {},
   "outputs": [],
   "source": [
    "from sklearn.preprocessing import StandardScaler\n",
    "sc=StandardScaler()\n",
    "x=sc.fit_transform(x)"
   ]
  },
  {
   "cell_type": "code",
   "execution_count": 69,
   "metadata": {},
   "outputs": [],
   "source": [
    "x=pd.DataFrame(x)"
   ]
  },
  {
   "cell_type": "code",
   "execution_count": 70,
   "metadata": {},
   "outputs": [],
   "source": [
    "x.columns=['gender', 'SeniorCitizen', 'Partner', 'Dependents', 'tenure',\n",
    "       'PhoneService', 'MultipleLines', 'InternetService', 'OnlineSecurity',\n",
    "       'OnlineBackup', 'DeviceProtection', 'TechSupport', 'StreamingTV',\n",
    "       'StreamingMovies', 'Contract', 'PaperlessBilling', 'PaymentMethod',\n",
    "       'MonthlyCharges']"
   ]
  },
  {
   "cell_type": "code",
   "execution_count": 71,
   "metadata": {},
   "outputs": [
    {
     "data": {
      "text/plain": [
       "gender              0\n",
       "SeniorCitizen       0\n",
       "Partner             0\n",
       "Dependents          0\n",
       "tenure              0\n",
       "PhoneService        0\n",
       "MultipleLines       0\n",
       "InternetService     0\n",
       "OnlineSecurity      0\n",
       "OnlineBackup        0\n",
       "DeviceProtection    0\n",
       "TechSupport         0\n",
       "StreamingTV         0\n",
       "StreamingMovies     0\n",
       "Contract            0\n",
       "PaperlessBilling    0\n",
       "PaymentMethod       0\n",
       "MonthlyCharges      0\n",
       "Churn               0\n",
       "dtype: int64"
      ]
     },
     "execution_count": 71,
     "metadata": {},
     "output_type": "execute_result"
    }
   ],
   "source": [
    "df.isnull().sum()"
   ]
  },
  {
   "cell_type": "code",
   "execution_count": 72,
   "metadata": {},
   "outputs": [
    {
     "name": "stdout",
     "output_type": "stream",
     "text": [
      "Accuracy score of Logistic Regression is:\n",
      "0.8014285714285714\n",
      "[[923 118]\n",
      " [160 199]]\n",
      "              precision    recall  f1-score   support\n",
      "\n",
      "           0       0.85      0.89      0.87      1041\n",
      "           1       0.63      0.55      0.59       359\n",
      "\n",
      "    accuracy                           0.80      1400\n",
      "   macro avg       0.74      0.72      0.73      1400\n",
      "weighted avg       0.79      0.80      0.80      1400\n",
      "\n",
      "Accuracy score of Logistic Regression is:\n",
      "0.7907142857142857\n",
      "[[904 119]\n",
      " [174 203]]\n",
      "              precision    recall  f1-score   support\n",
      "\n",
      "           0       0.84      0.88      0.86      1023\n",
      "           1       0.63      0.54      0.58       377\n",
      "\n",
      "    accuracy                           0.79      1400\n",
      "   macro avg       0.73      0.71      0.72      1400\n",
      "weighted avg       0.78      0.79      0.79      1400\n",
      "\n",
      "Accuracy score of Logistic Regression is:\n",
      "0.8078571428571428\n",
      "[[927 102]\n",
      " [167 204]]\n",
      "              precision    recall  f1-score   support\n",
      "\n",
      "           0       0.85      0.90      0.87      1029\n",
      "           1       0.67      0.55      0.60       371\n",
      "\n",
      "    accuracy                           0.81      1400\n",
      "   macro avg       0.76      0.73      0.74      1400\n",
      "weighted avg       0.80      0.81      0.80      1400\n",
      "\n",
      "Accuracy score of Logistic Regression is:\n",
      "0.8085714285714286\n",
      "[[932 101]\n",
      " [167 200]]\n",
      "              precision    recall  f1-score   support\n",
      "\n",
      "           0       0.85      0.90      0.87      1033\n",
      "           1       0.66      0.54      0.60       367\n",
      "\n",
      "    accuracy                           0.81      1400\n",
      "   macro avg       0.76      0.72      0.74      1400\n",
      "weighted avg       0.80      0.81      0.80      1400\n",
      "\n",
      "Accuracy score of Logistic Regression is:\n",
      "0.7964285714285714\n",
      "[[905 108]\n",
      " [177 210]]\n",
      "              precision    recall  f1-score   support\n",
      "\n",
      "           0       0.84      0.89      0.86      1013\n",
      "           1       0.66      0.54      0.60       387\n",
      "\n",
      "    accuracy                           0.80      1400\n",
      "   macro avg       0.75      0.72      0.73      1400\n",
      "weighted avg       0.79      0.80      0.79      1400\n",
      "\n",
      "Accuracy score of Logistic Regression is:\n",
      "0.795\n",
      "[[902 120]\n",
      " [167 211]]\n",
      "              precision    recall  f1-score   support\n",
      "\n",
      "           0       0.84      0.88      0.86      1022\n",
      "           1       0.64      0.56      0.60       378\n",
      "\n",
      "    accuracy                           0.80      1400\n",
      "   macro avg       0.74      0.72      0.73      1400\n",
      "weighted avg       0.79      0.80      0.79      1400\n",
      "\n",
      "Accuracy score of Logistic Regression is:\n",
      "0.7992857142857143\n",
      "[[926 120]\n",
      " [161 193]]\n",
      "              precision    recall  f1-score   support\n",
      "\n",
      "           0       0.85      0.89      0.87      1046\n",
      "           1       0.62      0.55      0.58       354\n",
      "\n",
      "    accuracy                           0.80      1400\n",
      "   macro avg       0.73      0.72      0.72      1400\n",
      "weighted avg       0.79      0.80      0.80      1400\n",
      "\n",
      "Accuracy score of Logistic Regression is:\n",
      "0.8042857142857143\n",
      "[[929 115]\n",
      " [159 197]]\n",
      "              precision    recall  f1-score   support\n",
      "\n",
      "           0       0.85      0.89      0.87      1044\n",
      "           1       0.63      0.55      0.59       356\n",
      "\n",
      "    accuracy                           0.80      1400\n",
      "   macro avg       0.74      0.72      0.73      1400\n",
      "weighted avg       0.80      0.80      0.80      1400\n",
      "\n",
      "Accuracy score of Logistic Regression is:\n",
      "0.8042857142857143\n",
      "[[933 106]\n",
      " [168 193]]\n",
      "              precision    recall  f1-score   support\n",
      "\n",
      "           0       0.85      0.90      0.87      1039\n",
      "           1       0.65      0.53      0.58       361\n",
      "\n",
      "    accuracy                           0.80      1400\n",
      "   macro avg       0.75      0.72      0.73      1400\n",
      "weighted avg       0.80      0.80      0.80      1400\n",
      "\n",
      "Accuracy score of Logistic Regression is:\n",
      "0.8128571428571428\n",
      "[[938 103]\n",
      " [159 200]]\n",
      "              precision    recall  f1-score   support\n",
      "\n",
      "           0       0.86      0.90      0.88      1041\n",
      "           1       0.66      0.56      0.60       359\n",
      "\n",
      "    accuracy                           0.81      1400\n",
      "   macro avg       0.76      0.73      0.74      1400\n",
      "weighted avg       0.81      0.81      0.81      1400\n",
      "\n",
      "Accuracy score of Logistic Regression is:\n",
      "0.8142857142857143\n",
      "[[933 109]\n",
      " [151 207]]\n",
      "              precision    recall  f1-score   support\n",
      "\n",
      "           0       0.86      0.90      0.88      1042\n",
      "           1       0.66      0.58      0.61       358\n",
      "\n",
      "    accuracy                           0.81      1400\n",
      "   macro avg       0.76      0.74      0.75      1400\n",
      "weighted avg       0.81      0.81      0.81      1400\n",
      "\n",
      "Accuracy score of Logistic Regression is:\n",
      "0.8107142857142857\n",
      "[[935 129]\n",
      " [136 200]]\n",
      "              precision    recall  f1-score   support\n",
      "\n",
      "           0       0.87      0.88      0.88      1064\n",
      "           1       0.61      0.60      0.60       336\n",
      "\n",
      "    accuracy                           0.81      1400\n",
      "   macro avg       0.74      0.74      0.74      1400\n",
      "weighted avg       0.81      0.81      0.81      1400\n",
      "\n",
      "Accuracy score of Logistic Regression is:\n",
      "0.8128571428571428\n",
      "[[923  96]\n",
      " [166 215]]\n",
      "              precision    recall  f1-score   support\n",
      "\n",
      "           0       0.85      0.91      0.88      1019\n",
      "           1       0.69      0.56      0.62       381\n",
      "\n",
      "    accuracy                           0.81      1400\n",
      "   macro avg       0.77      0.74      0.75      1400\n",
      "weighted avg       0.81      0.81      0.81      1400\n",
      "\n",
      "Accuracy score of Logistic Regression is:\n",
      "0.825\n",
      "[[945  95]\n",
      " [150 210]]\n",
      "              precision    recall  f1-score   support\n",
      "\n",
      "           0       0.86      0.91      0.89      1040\n",
      "           1       0.69      0.58      0.63       360\n",
      "\n",
      "    accuracy                           0.82      1400\n",
      "   macro avg       0.78      0.75      0.76      1400\n",
      "weighted avg       0.82      0.82      0.82      1400\n",
      "\n",
      "Accuracy score of Logistic Regression is:\n",
      "0.8314285714285714\n",
      "[[935  81]\n",
      " [155 229]]\n",
      "              precision    recall  f1-score   support\n",
      "\n",
      "           0       0.86      0.92      0.89      1016\n",
      "           1       0.74      0.60      0.66       384\n",
      "\n",
      "    accuracy                           0.83      1400\n",
      "   macro avg       0.80      0.76      0.77      1400\n",
      "weighted avg       0.83      0.83      0.83      1400\n",
      "\n",
      "Accuracy score of Logistic Regression is:\n",
      "0.8007142857142857\n",
      "[[933 125]\n",
      " [154 188]]\n",
      "              precision    recall  f1-score   support\n",
      "\n",
      "           0       0.86      0.88      0.87      1058\n",
      "           1       0.60      0.55      0.57       342\n",
      "\n",
      "    accuracy                           0.80      1400\n",
      "   macro avg       0.73      0.72      0.72      1400\n",
      "weighted avg       0.80      0.80      0.80      1400\n",
      "\n",
      "Accuracy score of Logistic Regression is:\n",
      "0.7907142857142857\n",
      "[[923 121]\n",
      " [172 184]]\n",
      "              precision    recall  f1-score   support\n",
      "\n",
      "           0       0.84      0.88      0.86      1044\n",
      "           1       0.60      0.52      0.56       356\n",
      "\n",
      "    accuracy                           0.79      1400\n",
      "   macro avg       0.72      0.70      0.71      1400\n",
      "weighted avg       0.78      0.79      0.79      1400\n",
      "\n",
      "Accuracy score of Logistic Regression is:\n",
      "0.8171428571428572\n",
      "[[917  94]\n",
      " [162 227]]\n",
      "              precision    recall  f1-score   support\n",
      "\n",
      "           0       0.85      0.91      0.88      1011\n",
      "           1       0.71      0.58      0.64       389\n",
      "\n",
      "    accuracy                           0.82      1400\n",
      "   macro avg       0.78      0.75      0.76      1400\n",
      "weighted avg       0.81      0.82      0.81      1400\n",
      "\n",
      "Accuracy score of Logistic Regression is:\n",
      "0.7971428571428572\n",
      "[[918  92]\n",
      " [192 198]]\n",
      "              precision    recall  f1-score   support\n",
      "\n",
      "           0       0.83      0.91      0.87      1010\n",
      "           1       0.68      0.51      0.58       390\n",
      "\n",
      "    accuracy                           0.80      1400\n",
      "   macro avg       0.75      0.71      0.72      1400\n",
      "weighted avg       0.79      0.80      0.79      1400\n",
      "\n",
      "Accuracy score of Logistic Regression is:\n",
      "0.815\n",
      "[[929 103]\n",
      " [156 212]]\n",
      "              precision    recall  f1-score   support\n",
      "\n",
      "           0       0.86      0.90      0.88      1032\n",
      "           1       0.67      0.58      0.62       368\n",
      "\n",
      "    accuracy                           0.81      1400\n",
      "   macro avg       0.76      0.74      0.75      1400\n",
      "weighted avg       0.81      0.81      0.81      1400\n",
      "\n",
      "Accuracy score of Logistic Regression is:\n",
      "0.7957142857142857\n",
      "[[906 112]\n",
      " [174 208]]\n",
      "              precision    recall  f1-score   support\n",
      "\n",
      "           0       0.84      0.89      0.86      1018\n",
      "           1       0.65      0.54      0.59       382\n",
      "\n",
      "    accuracy                           0.80      1400\n",
      "   macro avg       0.74      0.72      0.73      1400\n",
      "weighted avg       0.79      0.80      0.79      1400\n",
      "\n",
      "Accuracy score of Logistic Regression is:\n",
      "0.8107142857142857\n",
      "[[912 109]\n",
      " [156 223]]\n",
      "              precision    recall  f1-score   support\n",
      "\n",
      "           0       0.85      0.89      0.87      1021\n",
      "           1       0.67      0.59      0.63       379\n",
      "\n",
      "    accuracy                           0.81      1400\n",
      "   macro avg       0.76      0.74      0.75      1400\n",
      "weighted avg       0.80      0.81      0.81      1400\n",
      "\n",
      "Accuracy score of Logistic Regression is:\n",
      "0.8114285714285714\n",
      "[[939  93]\n",
      " [171 197]]\n",
      "              precision    recall  f1-score   support\n",
      "\n",
      "           0       0.85      0.91      0.88      1032\n",
      "           1       0.68      0.54      0.60       368\n",
      "\n",
      "    accuracy                           0.81      1400\n",
      "   macro avg       0.76      0.72      0.74      1400\n",
      "weighted avg       0.80      0.81      0.80      1400\n",
      "\n",
      "Accuracy score of Logistic Regression is:\n",
      "0.7914285714285715\n",
      "[[891 117]\n",
      " [175 217]]\n",
      "              precision    recall  f1-score   support\n",
      "\n",
      "           0       0.84      0.88      0.86      1008\n",
      "           1       0.65      0.55      0.60       392\n",
      "\n",
      "    accuracy                           0.79      1400\n",
      "   macro avg       0.74      0.72      0.73      1400\n",
      "weighted avg       0.78      0.79      0.79      1400\n",
      "\n",
      "Accuracy score of Logistic Regression is:\n",
      "0.7957142857142857\n",
      "[[898 119]\n",
      " [167 216]]\n",
      "              precision    recall  f1-score   support\n",
      "\n",
      "           0       0.84      0.88      0.86      1017\n",
      "           1       0.64      0.56      0.60       383\n",
      "\n",
      "    accuracy                           0.80      1400\n",
      "   macro avg       0.74      0.72      0.73      1400\n",
      "weighted avg       0.79      0.80      0.79      1400\n",
      "\n",
      "Accuracy score of Logistic Regression is:\n",
      "0.8014285714285714\n",
      "[[919 123]\n",
      " [155 203]]\n",
      "              precision    recall  f1-score   support\n",
      "\n",
      "           0       0.86      0.88      0.87      1042\n",
      "           1       0.62      0.57      0.59       358\n",
      "\n",
      "    accuracy                           0.80      1400\n",
      "   macro avg       0.74      0.72      0.73      1400\n",
      "weighted avg       0.80      0.80      0.80      1400\n",
      "\n",
      "Accuracy score of Logistic Regression is:\n",
      "0.805\n",
      "[[919 109]\n",
      " [164 208]]\n",
      "              precision    recall  f1-score   support\n",
      "\n",
      "           0       0.85      0.89      0.87      1028\n",
      "           1       0.66      0.56      0.60       372\n",
      "\n",
      "    accuracy                           0.81      1400\n",
      "   macro avg       0.75      0.73      0.74      1400\n",
      "weighted avg       0.80      0.81      0.80      1400\n",
      "\n",
      "Accuracy score of Logistic Regression is:\n",
      "0.8121428571428572\n",
      "[[929  95]\n",
      " [168 208]]\n",
      "              precision    recall  f1-score   support\n",
      "\n",
      "           0       0.85      0.91      0.88      1024\n",
      "           1       0.69      0.55      0.61       376\n",
      "\n",
      "    accuracy                           0.81      1400\n",
      "   macro avg       0.77      0.73      0.74      1400\n",
      "weighted avg       0.80      0.81      0.81      1400\n",
      "\n",
      "Accuracy score of Logistic Regression is:\n",
      "0.8057142857142857\n",
      "[[914  97]\n",
      " [175 214]]\n",
      "              precision    recall  f1-score   support\n",
      "\n",
      "           0       0.84      0.90      0.87      1011\n",
      "           1       0.69      0.55      0.61       389\n",
      "\n",
      "    accuracy                           0.81      1400\n",
      "   macro avg       0.76      0.73      0.74      1400\n",
      "weighted avg       0.80      0.81      0.80      1400\n",
      "\n",
      "Accuracy score of Logistic Regression is:\n",
      "0.8121428571428572\n",
      "[[950  95]\n",
      " [168 187]]\n",
      "              precision    recall  f1-score   support\n",
      "\n",
      "           0       0.85      0.91      0.88      1045\n",
      "           1       0.66      0.53      0.59       355\n",
      "\n",
      "    accuracy                           0.81      1400\n",
      "   macro avg       0.76      0.72      0.73      1400\n",
      "weighted avg       0.80      0.81      0.80      1400\n",
      "\n",
      "Accuracy score of Logistic Regression is:\n",
      "0.7964285714285714\n",
      "[[909 121]\n",
      " [164 206]]\n",
      "              precision    recall  f1-score   support\n",
      "\n",
      "           0       0.85      0.88      0.86      1030\n",
      "           1       0.63      0.56      0.59       370\n",
      "\n",
      "    accuracy                           0.80      1400\n",
      "   macro avg       0.74      0.72      0.73      1400\n",
      "weighted avg       0.79      0.80      0.79      1400\n",
      "\n",
      "Accuracy score of Logistic Regression is:\n",
      "0.7971428571428572\n",
      "[[909 130]\n",
      " [154 207]]\n",
      "              precision    recall  f1-score   support\n",
      "\n",
      "           0       0.86      0.87      0.86      1039\n",
      "           1       0.61      0.57      0.59       361\n",
      "\n",
      "    accuracy                           0.80      1400\n",
      "   macro avg       0.73      0.72      0.73      1400\n",
      "weighted avg       0.79      0.80      0.79      1400\n",
      "\n",
      "Accuracy score of Logistic Regression is:\n",
      "0.8121428571428572\n",
      "[[922 108]\n",
      " [155 215]]\n",
      "              precision    recall  f1-score   support\n",
      "\n",
      "           0       0.86      0.90      0.88      1030\n",
      "           1       0.67      0.58      0.62       370\n",
      "\n",
      "    accuracy                           0.81      1400\n",
      "   macro avg       0.76      0.74      0.75      1400\n",
      "weighted avg       0.81      0.81      0.81      1400\n",
      "\n",
      "Accuracy score of Logistic Regression is:\n",
      "0.7871428571428571\n",
      "[[898 117]\n",
      " [181 204]]\n",
      "              precision    recall  f1-score   support\n",
      "\n",
      "           0       0.83      0.88      0.86      1015\n",
      "           1       0.64      0.53      0.58       385\n",
      "\n",
      "    accuracy                           0.79      1400\n",
      "   macro avg       0.73      0.71      0.72      1400\n",
      "weighted avg       0.78      0.79      0.78      1400\n",
      "\n",
      "Accuracy score of Logistic Regression is:\n",
      "0.7992857142857143\n",
      "[[896 115]\n",
      " [166 223]]\n",
      "              precision    recall  f1-score   support\n",
      "\n",
      "           0       0.84      0.89      0.86      1011\n",
      "           1       0.66      0.57      0.61       389\n",
      "\n",
      "    accuracy                           0.80      1400\n",
      "   macro avg       0.75      0.73      0.74      1400\n",
      "weighted avg       0.79      0.80      0.79      1400\n",
      "\n",
      "Accuracy score of Logistic Regression is:\n",
      "0.805\n",
      "[[920 101]\n",
      " [172 207]]\n",
      "              precision    recall  f1-score   support\n",
      "\n",
      "           0       0.84      0.90      0.87      1021\n",
      "           1       0.67      0.55      0.60       379\n",
      "\n",
      "    accuracy                           0.81      1400\n",
      "   macro avg       0.76      0.72      0.74      1400\n",
      "weighted avg       0.80      0.81      0.80      1400\n",
      "\n",
      "Accuracy score of Logistic Regression is:\n",
      "0.7978571428571428\n",
      "[[914 113]\n",
      " [170 203]]\n",
      "              precision    recall  f1-score   support\n",
      "\n",
      "           0       0.84      0.89      0.87      1027\n",
      "           1       0.64      0.54      0.59       373\n",
      "\n",
      "    accuracy                           0.80      1400\n",
      "   macro avg       0.74      0.72      0.73      1400\n",
      "weighted avg       0.79      0.80      0.79      1400\n",
      "\n",
      "Accuracy score of Logistic Regression is:\n",
      "0.7957142857142857\n",
      "[[921 113]\n",
      " [173 193]]\n",
      "              precision    recall  f1-score   support\n",
      "\n",
      "           0       0.84      0.89      0.87      1034\n",
      "           1       0.63      0.53      0.57       366\n",
      "\n",
      "    accuracy                           0.80      1400\n",
      "   macro avg       0.74      0.71      0.72      1400\n",
      "weighted avg       0.79      0.80      0.79      1400\n",
      "\n",
      "Accuracy score of Logistic Regression is:\n",
      "0.8014285714285714\n",
      "[[921 108]\n",
      " [170 201]]\n",
      "              precision    recall  f1-score   support\n",
      "\n",
      "           0       0.84      0.90      0.87      1029\n",
      "           1       0.65      0.54      0.59       371\n",
      "\n",
      "    accuracy                           0.80      1400\n",
      "   macro avg       0.75      0.72      0.73      1400\n",
      "weighted avg       0.79      0.80      0.80      1400\n",
      "\n",
      "Accuracy score of Logistic Regression is:\n",
      "0.8064285714285714\n",
      "[[925 118]\n",
      " [153 204]]\n",
      "              precision    recall  f1-score   support\n",
      "\n",
      "           0       0.86      0.89      0.87      1043\n",
      "           1       0.63      0.57      0.60       357\n",
      "\n",
      "    accuracy                           0.81      1400\n",
      "   macro avg       0.75      0.73      0.74      1400\n",
      "weighted avg       0.80      0.81      0.80      1400\n",
      "\n",
      "Accuracy score of Logistic Regression is:\n",
      "0.8357142857142857\n",
      "[[937  85]\n",
      " [145 233]]\n",
      "              precision    recall  f1-score   support\n",
      "\n",
      "           0       0.87      0.92      0.89      1022\n",
      "           1       0.73      0.62      0.67       378\n",
      "\n",
      "    accuracy                           0.84      1400\n",
      "   macro avg       0.80      0.77      0.78      1400\n",
      "weighted avg       0.83      0.84      0.83      1400\n",
      "\n",
      "Accuracy score of Logistic Regression is:\n",
      "0.8064285714285714\n",
      "[[919 118]\n",
      " [153 210]]\n",
      "              precision    recall  f1-score   support\n",
      "\n",
      "           0       0.86      0.89      0.87      1037\n",
      "           1       0.64      0.58      0.61       363\n",
      "\n",
      "    accuracy                           0.81      1400\n",
      "   macro avg       0.75      0.73      0.74      1400\n",
      "weighted avg       0.80      0.81      0.80      1400\n",
      "\n",
      "Accuracy score of Logistic Regression is:\n",
      "0.8035714285714286\n",
      "[[911  92]\n",
      " [183 214]]\n",
      "              precision    recall  f1-score   support\n",
      "\n",
      "           0       0.83      0.91      0.87      1003\n",
      "           1       0.70      0.54      0.61       397\n",
      "\n",
      "    accuracy                           0.80      1400\n",
      "   macro avg       0.77      0.72      0.74      1400\n",
      "weighted avg       0.79      0.80      0.80      1400\n",
      "\n",
      "Accuracy score of Logistic Regression is:\n",
      "0.7992857142857143\n",
      "[[913 100]\n",
      " [181 206]]\n",
      "              precision    recall  f1-score   support\n",
      "\n",
      "           0       0.83      0.90      0.87      1013\n",
      "           1       0.67      0.53      0.59       387\n",
      "\n",
      "    accuracy                           0.80      1400\n",
      "   macro avg       0.75      0.72      0.73      1400\n",
      "weighted avg       0.79      0.80      0.79      1400\n",
      "\n",
      "Accuracy score of Logistic Regression is:\n",
      "0.795\n",
      "[[896 111]\n",
      " [176 217]]\n",
      "              precision    recall  f1-score   support\n",
      "\n",
      "           0       0.84      0.89      0.86      1007\n",
      "           1       0.66      0.55      0.60       393\n",
      "\n",
      "    accuracy                           0.80      1400\n",
      "   macro avg       0.75      0.72      0.73      1400\n",
      "weighted avg       0.79      0.80      0.79      1400\n",
      "\n",
      "Accuracy score of Logistic Regression is:\n",
      "0.785\n",
      "[[889 126]\n",
      " [175 210]]\n",
      "              precision    recall  f1-score   support\n",
      "\n",
      "           0       0.84      0.88      0.86      1015\n",
      "           1       0.62      0.55      0.58       385\n",
      "\n",
      "    accuracy                           0.79      1400\n",
      "   macro avg       0.73      0.71      0.72      1400\n",
      "weighted avg       0.78      0.79      0.78      1400\n",
      "\n",
      "Accuracy score of Logistic Regression is:\n",
      "0.7978571428571428\n",
      "[[887 111]\n",
      " [172 230]]\n",
      "              precision    recall  f1-score   support\n",
      "\n",
      "           0       0.84      0.89      0.86       998\n",
      "           1       0.67      0.57      0.62       402\n",
      "\n",
      "    accuracy                           0.80      1400\n",
      "   macro avg       0.76      0.73      0.74      1400\n",
      "weighted avg       0.79      0.80      0.79      1400\n",
      "\n",
      "Accuracy score of Logistic Regression is:\n",
      "0.8\n",
      "[[911 105]\n",
      " [175 209]]\n",
      "              precision    recall  f1-score   support\n",
      "\n",
      "           0       0.84      0.90      0.87      1016\n",
      "           1       0.67      0.54      0.60       384\n",
      "\n",
      "    accuracy                           0.80      1400\n",
      "   macro avg       0.75      0.72      0.73      1400\n",
      "weighted avg       0.79      0.80      0.79      1400\n",
      "\n",
      "Accuracy score of Logistic Regression is:\n",
      "0.8242857142857143\n",
      "[[944 100]\n",
      " [146 210]]\n",
      "              precision    recall  f1-score   support\n",
      "\n",
      "           0       0.87      0.90      0.88      1044\n",
      "           1       0.68      0.59      0.63       356\n",
      "\n",
      "    accuracy                           0.82      1400\n",
      "   macro avg       0.77      0.75      0.76      1400\n",
      "weighted avg       0.82      0.82      0.82      1400\n",
      "\n",
      "Accuracy score of Logistic Regression is:\n",
      "0.795\n",
      "[[896 120]\n",
      " [167 217]]\n",
      "              precision    recall  f1-score   support\n",
      "\n",
      "           0       0.84      0.88      0.86      1016\n",
      "           1       0.64      0.57      0.60       384\n",
      "\n",
      "    accuracy                           0.80      1400\n",
      "   macro avg       0.74      0.72      0.73      1400\n",
      "weighted avg       0.79      0.80      0.79      1400\n",
      "\n",
      "Accuracy score of Logistic Regression is:\n",
      "0.8092857142857143\n",
      "[[938 105]\n",
      " [162 195]]\n",
      "              precision    recall  f1-score   support\n",
      "\n",
      "           0       0.85      0.90      0.88      1043\n",
      "           1       0.65      0.55      0.59       357\n",
      "\n",
      "    accuracy                           0.81      1400\n",
      "   macro avg       0.75      0.72      0.73      1400\n",
      "weighted avg       0.80      0.81      0.80      1400\n",
      "\n",
      "Accuracy score of Logistic Regression is:\n",
      "0.7957142857142857\n",
      "[[909  87]\n",
      " [199 205]]\n",
      "              precision    recall  f1-score   support\n",
      "\n",
      "           0       0.82      0.91      0.86       996\n",
      "           1       0.70      0.51      0.59       404\n",
      "\n",
      "    accuracy                           0.80      1400\n",
      "   macro avg       0.76      0.71      0.73      1400\n",
      "weighted avg       0.79      0.80      0.78      1400\n",
      "\n",
      "Accuracy score of Logistic Regression is:\n",
      "0.7942857142857143\n",
      "[[917 129]\n",
      " [159 195]]\n",
      "              precision    recall  f1-score   support\n",
      "\n",
      "           0       0.85      0.88      0.86      1046\n",
      "           1       0.60      0.55      0.58       354\n",
      "\n",
      "    accuracy                           0.79      1400\n",
      "   macro avg       0.73      0.71      0.72      1400\n",
      "weighted avg       0.79      0.79      0.79      1400\n",
      "\n",
      "Accuracy score of Logistic Regression is:\n",
      "0.8107142857142857\n",
      "[[914 110]\n",
      " [155 221]]\n",
      "              precision    recall  f1-score   support\n",
      "\n",
      "           0       0.86      0.89      0.87      1024\n",
      "           1       0.67      0.59      0.63       376\n",
      "\n",
      "    accuracy                           0.81      1400\n",
      "   macro avg       0.76      0.74      0.75      1400\n",
      "weighted avg       0.80      0.81      0.81      1400\n",
      "\n",
      "Accuracy score of Logistic Regression is:\n",
      "0.7971428571428572\n",
      "[[906 141]\n",
      " [143 210]]\n",
      "              precision    recall  f1-score   support\n",
      "\n",
      "           0       0.86      0.87      0.86      1047\n",
      "           1       0.60      0.59      0.60       353\n",
      "\n",
      "    accuracy                           0.80      1400\n",
      "   macro avg       0.73      0.73      0.73      1400\n",
      "weighted avg       0.80      0.80      0.80      1400\n",
      "\n",
      "Accuracy score of Logistic Regression is:\n",
      "0.7935714285714286\n",
      "[[918 124]\n",
      " [165 193]]\n",
      "              precision    recall  f1-score   support\n",
      "\n",
      "           0       0.85      0.88      0.86      1042\n",
      "           1       0.61      0.54      0.57       358\n",
      "\n",
      "    accuracy                           0.79      1400\n",
      "   macro avg       0.73      0.71      0.72      1400\n",
      "weighted avg       0.79      0.79      0.79      1400\n",
      "\n",
      "Accuracy score of Logistic Regression is:\n",
      "0.8092857142857143\n",
      "[[930 106]\n",
      " [161 203]]\n",
      "              precision    recall  f1-score   support\n",
      "\n",
      "           0       0.85      0.90      0.87      1036\n",
      "           1       0.66      0.56      0.60       364\n",
      "\n",
      "    accuracy                           0.81      1400\n",
      "   macro avg       0.75      0.73      0.74      1400\n",
      "weighted avg       0.80      0.81      0.80      1400\n",
      "\n",
      "Accuracy score of Logistic Regression is:\n",
      "0.815\n",
      "[[926 110]\n",
      " [149 215]]\n",
      "              precision    recall  f1-score   support\n",
      "\n",
      "           0       0.86      0.89      0.88      1036\n",
      "           1       0.66      0.59      0.62       364\n",
      "\n",
      "    accuracy                           0.81      1400\n",
      "   macro avg       0.76      0.74      0.75      1400\n",
      "weighted avg       0.81      0.81      0.81      1400\n",
      "\n",
      "Accuracy score of Logistic Regression is:\n",
      "0.8085714285714286\n",
      "[[932 110]\n",
      " [158 200]]\n",
      "              precision    recall  f1-score   support\n",
      "\n",
      "           0       0.86      0.89      0.87      1042\n",
      "           1       0.65      0.56      0.60       358\n",
      "\n",
      "    accuracy                           0.81      1400\n",
      "   macro avg       0.75      0.73      0.74      1400\n",
      "weighted avg       0.80      0.81      0.80      1400\n",
      "\n",
      "Accuracy score of Logistic Regression is:\n",
      "0.825\n",
      "[[941  93]\n",
      " [152 214]]\n",
      "              precision    recall  f1-score   support\n",
      "\n",
      "           0       0.86      0.91      0.88      1034\n",
      "           1       0.70      0.58      0.64       366\n",
      "\n",
      "    accuracy                           0.82      1400\n",
      "   macro avg       0.78      0.75      0.76      1400\n",
      "weighted avg       0.82      0.82      0.82      1400\n",
      "\n",
      "Accuracy score of Logistic Regression is:\n",
      "0.7957142857142857\n",
      "[[923 104]\n",
      " [182 191]]\n",
      "              precision    recall  f1-score   support\n",
      "\n",
      "           0       0.84      0.90      0.87      1027\n",
      "           1       0.65      0.51      0.57       373\n",
      "\n",
      "    accuracy                           0.80      1400\n",
      "   macro avg       0.74      0.71      0.72      1400\n",
      "weighted avg       0.79      0.80      0.79      1400\n",
      "\n",
      "Accuracy score of Logistic Regression is:\n",
      "0.7921428571428571\n",
      "[[916 104]\n",
      " [187 193]]\n",
      "              precision    recall  f1-score   support\n",
      "\n",
      "           0       0.83      0.90      0.86      1020\n",
      "           1       0.65      0.51      0.57       380\n",
      "\n",
      "    accuracy                           0.79      1400\n",
      "   macro avg       0.74      0.70      0.72      1400\n",
      "weighted avg       0.78      0.79      0.78      1400\n",
      "\n",
      "Accuracy score of Logistic Regression is:\n",
      "0.8107142857142857\n",
      "[[936 116]\n",
      " [149 199]]\n",
      "              precision    recall  f1-score   support\n",
      "\n",
      "           0       0.86      0.89      0.88      1052\n",
      "           1       0.63      0.57      0.60       348\n",
      "\n",
      "    accuracy                           0.81      1400\n",
      "   macro avg       0.75      0.73      0.74      1400\n",
      "weighted avg       0.81      0.81      0.81      1400\n",
      "\n",
      "Accuracy score of Logistic Regression is:\n",
      "0.7957142857142857\n",
      "[[897 117]\n",
      " [169 217]]\n",
      "              precision    recall  f1-score   support\n",
      "\n",
      "           0       0.84      0.88      0.86      1014\n",
      "           1       0.65      0.56      0.60       386\n",
      "\n",
      "    accuracy                           0.80      1400\n",
      "   macro avg       0.75      0.72      0.73      1400\n",
      "weighted avg       0.79      0.80      0.79      1400\n",
      "\n",
      "Accuracy score of Logistic Regression is:\n",
      "0.8078571428571428\n",
      "[[952 100]\n",
      " [169 179]]\n",
      "              precision    recall  f1-score   support\n",
      "\n",
      "           0       0.85      0.90      0.88      1052\n",
      "           1       0.64      0.51      0.57       348\n",
      "\n",
      "    accuracy                           0.81      1400\n",
      "   macro avg       0.75      0.71      0.72      1400\n",
      "weighted avg       0.80      0.81      0.80      1400\n",
      "\n",
      "Accuracy score of Logistic Regression is:\n",
      "0.7785714285714286\n",
      "[[895 139]\n",
      " [171 195]]\n",
      "              precision    recall  f1-score   support\n",
      "\n",
      "           0       0.84      0.87      0.85      1034\n",
      "           1       0.58      0.53      0.56       366\n",
      "\n",
      "    accuracy                           0.78      1400\n",
      "   macro avg       0.71      0.70      0.70      1400\n",
      "weighted avg       0.77      0.78      0.78      1400\n",
      "\n",
      "Accuracy score of Logistic Regression is:\n",
      "0.7992857142857143\n",
      "[[897 116]\n",
      " [165 222]]\n",
      "              precision    recall  f1-score   support\n",
      "\n",
      "           0       0.84      0.89      0.86      1013\n",
      "           1       0.66      0.57      0.61       387\n",
      "\n",
      "    accuracy                           0.80      1400\n",
      "   macro avg       0.75      0.73      0.74      1400\n",
      "weighted avg       0.79      0.80      0.79      1400\n",
      "\n",
      "Accuracy score of Logistic Regression is:\n",
      "0.8078571428571428\n",
      "[[932 101]\n",
      " [168 199]]\n",
      "              precision    recall  f1-score   support\n",
      "\n",
      "           0       0.85      0.90      0.87      1033\n",
      "           1       0.66      0.54      0.60       367\n",
      "\n",
      "    accuracy                           0.81      1400\n",
      "   macro avg       0.76      0.72      0.74      1400\n",
      "weighted avg       0.80      0.81      0.80      1400\n",
      "\n",
      "Accuracy score of Logistic Regression is:\n",
      "0.7992857142857143\n",
      "[[897 107]\n",
      " [174 222]]\n",
      "              precision    recall  f1-score   support\n",
      "\n",
      "           0       0.84      0.89      0.86      1004\n",
      "           1       0.67      0.56      0.61       396\n",
      "\n",
      "    accuracy                           0.80      1400\n",
      "   macro avg       0.76      0.73      0.74      1400\n",
      "weighted avg       0.79      0.80      0.79      1400\n",
      "\n",
      "Accuracy score of Logistic Regression is:\n",
      "0.8\n",
      "[[910 117]\n",
      " [163 210]]\n",
      "              precision    recall  f1-score   support\n",
      "\n",
      "           0       0.85      0.89      0.87      1027\n",
      "           1       0.64      0.56      0.60       373\n",
      "\n",
      "    accuracy                           0.80      1400\n",
      "   macro avg       0.75      0.72      0.73      1400\n",
      "weighted avg       0.79      0.80      0.80      1400\n",
      "\n",
      "Accuracy score of Logistic Regression is:\n",
      "0.8\n",
      "[[901 100]\n",
      " [180 219]]\n",
      "              precision    recall  f1-score   support\n",
      "\n",
      "           0       0.83      0.90      0.87      1001\n",
      "           1       0.69      0.55      0.61       399\n",
      "\n",
      "    accuracy                           0.80      1400\n",
      "   macro avg       0.76      0.72      0.74      1400\n",
      "weighted avg       0.79      0.80      0.79      1400\n",
      "\n",
      "Accuracy score of Logistic Regression is:\n",
      "0.7992857142857143\n",
      "[[911 116]\n",
      " [165 208]]\n",
      "              precision    recall  f1-score   support\n",
      "\n",
      "           0       0.85      0.89      0.87      1027\n",
      "           1       0.64      0.56      0.60       373\n",
      "\n",
      "    accuracy                           0.80      1400\n",
      "   macro avg       0.74      0.72      0.73      1400\n",
      "weighted avg       0.79      0.80      0.79      1400\n",
      "\n",
      "Accuracy score of Logistic Regression is:\n",
      "0.7928571428571428\n",
      "[[899 122]\n",
      " [168 211]]\n",
      "              precision    recall  f1-score   support\n",
      "\n",
      "           0       0.84      0.88      0.86      1021\n",
      "           1       0.63      0.56      0.59       379\n",
      "\n",
      "    accuracy                           0.79      1400\n",
      "   macro avg       0.74      0.72      0.73      1400\n",
      "weighted avg       0.79      0.79      0.79      1400\n",
      "\n",
      "Accuracy score of Logistic Regression is:\n",
      "0.8057142857142857\n",
      "[[906 109]\n",
      " [163 222]]\n",
      "              precision    recall  f1-score   support\n",
      "\n",
      "           0       0.85      0.89      0.87      1015\n",
      "           1       0.67      0.58      0.62       385\n",
      "\n",
      "    accuracy                           0.81      1400\n",
      "   macro avg       0.76      0.73      0.74      1400\n",
      "weighted avg       0.80      0.81      0.80      1400\n",
      "\n",
      "Accuracy score of Logistic Regression is:\n",
      "0.7978571428571428\n",
      "[[911 131]\n",
      " [152 206]]\n",
      "              precision    recall  f1-score   support\n",
      "\n",
      "           0       0.86      0.87      0.87      1042\n",
      "           1       0.61      0.58      0.59       358\n",
      "\n",
      "    accuracy                           0.80      1400\n",
      "   macro avg       0.73      0.72      0.73      1400\n",
      "weighted avg       0.79      0.80      0.80      1400\n",
      "\n",
      "Accuracy score of Logistic Regression is:\n",
      "0.81\n",
      "[[949 101]\n",
      " [165 185]]\n",
      "              precision    recall  f1-score   support\n",
      "\n",
      "           0       0.85      0.90      0.88      1050\n",
      "           1       0.65      0.53      0.58       350\n",
      "\n",
      "    accuracy                           0.81      1400\n",
      "   macro avg       0.75      0.72      0.73      1400\n",
      "weighted avg       0.80      0.81      0.80      1400\n",
      "\n",
      "Accuracy score of Logistic Regression is:\n",
      "0.7921428571428571\n",
      "[[914  99]\n",
      " [192 195]]\n",
      "              precision    recall  f1-score   support\n",
      "\n",
      "           0       0.83      0.90      0.86      1013\n",
      "           1       0.66      0.50      0.57       387\n",
      "\n",
      "    accuracy                           0.79      1400\n",
      "   macro avg       0.74      0.70      0.72      1400\n",
      "weighted avg       0.78      0.79      0.78      1400\n",
      "\n",
      "Accuracy score of Logistic Regression is:\n",
      "0.8064285714285714\n",
      "[[912 104]\n",
      " [167 217]]\n",
      "              precision    recall  f1-score   support\n",
      "\n",
      "           0       0.85      0.90      0.87      1016\n",
      "           1       0.68      0.57      0.62       384\n",
      "\n",
      "    accuracy                           0.81      1400\n",
      "   macro avg       0.76      0.73      0.74      1400\n",
      "weighted avg       0.80      0.81      0.80      1400\n",
      "\n",
      "Accuracy score of Logistic Regression is:\n",
      "0.7992857142857143\n",
      "[[894 107]\n",
      " [174 225]]\n",
      "              precision    recall  f1-score   support\n",
      "\n",
      "           0       0.84      0.89      0.86      1001\n",
      "           1       0.68      0.56      0.62       399\n",
      "\n",
      "    accuracy                           0.80      1400\n",
      "   macro avg       0.76      0.73      0.74      1400\n",
      "weighted avg       0.79      0.80      0.79      1400\n",
      "\n",
      "Accuracy score of Logistic Regression is:\n",
      "0.8014285714285714\n",
      "[[919 105]\n",
      " [173 203]]\n",
      "              precision    recall  f1-score   support\n",
      "\n",
      "           0       0.84      0.90      0.87      1024\n",
      "           1       0.66      0.54      0.59       376\n",
      "\n",
      "    accuracy                           0.80      1400\n",
      "   macro avg       0.75      0.72      0.73      1400\n",
      "weighted avg       0.79      0.80      0.79      1400\n",
      "\n",
      "Accuracy score of Logistic Regression is:\n",
      "0.7857142857142857\n",
      "[[903 117]\n",
      " [183 197]]\n",
      "              precision    recall  f1-score   support\n",
      "\n",
      "           0       0.83      0.89      0.86      1020\n",
      "           1       0.63      0.52      0.57       380\n",
      "\n",
      "    accuracy                           0.79      1400\n",
      "   macro avg       0.73      0.70      0.71      1400\n",
      "weighted avg       0.78      0.79      0.78      1400\n",
      "\n",
      "Accuracy score of Logistic Regression is:\n",
      "0.7978571428571428\n",
      "[[907 114]\n",
      " [169 210]]\n",
      "              precision    recall  f1-score   support\n",
      "\n",
      "           0       0.84      0.89      0.87      1021\n",
      "           1       0.65      0.55      0.60       379\n",
      "\n",
      "    accuracy                           0.80      1400\n",
      "   macro avg       0.75      0.72      0.73      1400\n",
      "weighted avg       0.79      0.80      0.79      1400\n",
      "\n",
      "Accuracy score of Logistic Regression is:\n",
      "0.7871428571428571\n",
      "[[883 111]\n",
      " [187 219]]\n",
      "              precision    recall  f1-score   support\n",
      "\n",
      "           0       0.83      0.89      0.86       994\n",
      "           1       0.66      0.54      0.60       406\n",
      "\n",
      "    accuracy                           0.79      1400\n",
      "   macro avg       0.74      0.71      0.73      1400\n",
      "weighted avg       0.78      0.79      0.78      1400\n",
      "\n",
      "Accuracy score of Logistic Regression is:\n",
      "0.82\n",
      "[[950 102]\n",
      " [150 198]]\n",
      "              precision    recall  f1-score   support\n",
      "\n",
      "           0       0.86      0.90      0.88      1052\n",
      "           1       0.66      0.57      0.61       348\n",
      "\n",
      "    accuracy                           0.82      1400\n",
      "   macro avg       0.76      0.74      0.75      1400\n",
      "weighted avg       0.81      0.82      0.82      1400\n",
      "\n",
      "Accuracy score of Logistic Regression is:\n",
      "0.7842857142857143\n",
      "[[878 134]\n",
      " [168 220]]\n",
      "              precision    recall  f1-score   support\n",
      "\n",
      "           0       0.84      0.87      0.85      1012\n",
      "           1       0.62      0.57      0.59       388\n",
      "\n",
      "    accuracy                           0.78      1400\n",
      "   macro avg       0.73      0.72      0.72      1400\n",
      "weighted avg       0.78      0.78      0.78      1400\n",
      "\n",
      "Accuracy score of Logistic Regression is:\n",
      "0.7935714285714286\n",
      "[[900 124]\n",
      " [165 211]]\n",
      "              precision    recall  f1-score   support\n",
      "\n",
      "           0       0.85      0.88      0.86      1024\n",
      "           1       0.63      0.56      0.59       376\n",
      "\n",
      "    accuracy                           0.79      1400\n",
      "   macro avg       0.74      0.72      0.73      1400\n",
      "weighted avg       0.79      0.79      0.79      1400\n",
      "\n",
      "Accuracy score of Logistic Regression is:\n",
      "0.815\n",
      "[[919 117]\n",
      " [142 222]]\n",
      "              precision    recall  f1-score   support\n",
      "\n",
      "           0       0.87      0.89      0.88      1036\n",
      "           1       0.65      0.61      0.63       364\n",
      "\n",
      "    accuracy                           0.81      1400\n",
      "   macro avg       0.76      0.75      0.75      1400\n",
      "weighted avg       0.81      0.81      0.81      1400\n",
      "\n",
      "Accuracy score of Logistic Regression is:\n",
      "0.7985714285714286\n",
      "[[926  95]\n",
      " [187 192]]\n",
      "              precision    recall  f1-score   support\n",
      "\n",
      "           0       0.83      0.91      0.87      1021\n",
      "           1       0.67      0.51      0.58       379\n",
      "\n",
      "    accuracy                           0.80      1400\n",
      "   macro avg       0.75      0.71      0.72      1400\n",
      "weighted avg       0.79      0.80      0.79      1400\n",
      "\n",
      "Accuracy score of Logistic Regression is:\n",
      "0.8\n",
      "[[916 126]\n",
      " [154 204]]\n",
      "              precision    recall  f1-score   support\n",
      "\n",
      "           0       0.86      0.88      0.87      1042\n",
      "           1       0.62      0.57      0.59       358\n",
      "\n",
      "    accuracy                           0.80      1400\n",
      "   macro avg       0.74      0.72      0.73      1400\n",
      "weighted avg       0.80      0.80      0.80      1400\n",
      "\n",
      "Accuracy score of Logistic Regression is:\n",
      "0.8007142857142857\n",
      "[[901 117]\n",
      " [162 220]]\n",
      "              precision    recall  f1-score   support\n",
      "\n",
      "           0       0.85      0.89      0.87      1018\n",
      "           1       0.65      0.58      0.61       382\n",
      "\n",
      "    accuracy                           0.80      1400\n",
      "   macro avg       0.75      0.73      0.74      1400\n",
      "weighted avg       0.79      0.80      0.80      1400\n",
      "\n",
      "Accuracy score of Logistic Regression is:\n",
      "0.7971428571428572\n",
      "[[930 114]\n",
      " [170 186]]\n",
      "              precision    recall  f1-score   support\n",
      "\n",
      "           0       0.85      0.89      0.87      1044\n",
      "           1       0.62      0.52      0.57       356\n",
      "\n",
      "    accuracy                           0.80      1400\n",
      "   macro avg       0.73      0.71      0.72      1400\n",
      "weighted avg       0.79      0.80      0.79      1400\n",
      "\n",
      "Accuracy score of Logistic Regression is:\n",
      "0.7971428571428572\n",
      "[[925 124]\n",
      " [160 191]]\n",
      "              precision    recall  f1-score   support\n",
      "\n",
      "           0       0.85      0.88      0.87      1049\n",
      "           1       0.61      0.54      0.57       351\n",
      "\n",
      "    accuracy                           0.80      1400\n",
      "   macro avg       0.73      0.71      0.72      1400\n",
      "weighted avg       0.79      0.80      0.79      1400\n",
      "\n",
      "Accuracy score of Logistic Regression is:\n",
      "0.81\n",
      "[[931 115]\n",
      " [151 203]]\n",
      "              precision    recall  f1-score   support\n",
      "\n",
      "           0       0.86      0.89      0.88      1046\n",
      "           1       0.64      0.57      0.60       354\n",
      "\n",
      "    accuracy                           0.81      1400\n",
      "   macro avg       0.75      0.73      0.74      1400\n",
      "weighted avg       0.80      0.81      0.81      1400\n",
      "\n",
      "Accuracy score of Logistic Regression is:\n",
      "0.8021428571428572\n",
      "[[919 128]\n",
      " [149 204]]\n",
      "              precision    recall  f1-score   support\n",
      "\n",
      "           0       0.86      0.88      0.87      1047\n",
      "           1       0.61      0.58      0.60       353\n",
      "\n",
      "    accuracy                           0.80      1400\n",
      "   macro avg       0.74      0.73      0.73      1400\n",
      "weighted avg       0.80      0.80      0.80      1400\n",
      "\n",
      "Accuracy score of Logistic Regression is:\n",
      "0.81\n",
      "[[904 107]\n",
      " [159 230]]\n",
      "              precision    recall  f1-score   support\n",
      "\n",
      "           0       0.85      0.89      0.87      1011\n",
      "           1       0.68      0.59      0.63       389\n",
      "\n",
      "    accuracy                           0.81      1400\n",
      "   macro avg       0.77      0.74      0.75      1400\n",
      "weighted avg       0.80      0.81      0.81      1400\n",
      "\n",
      "Accuracy score of Logistic Regression is:\n",
      "0.7964285714285714\n",
      "[[927  84]\n",
      " [201 188]]\n",
      "              precision    recall  f1-score   support\n",
      "\n",
      "           0       0.82      0.92      0.87      1011\n",
      "           1       0.69      0.48      0.57       389\n",
      "\n",
      "    accuracy                           0.80      1400\n",
      "   macro avg       0.76      0.70      0.72      1400\n",
      "weighted avg       0.79      0.80      0.78      1400\n",
      "\n",
      "Accuracy score of Logistic Regression is:\n",
      "0.7935714285714286\n",
      "[[919 123]\n",
      " [166 192]]\n",
      "              precision    recall  f1-score   support\n",
      "\n",
      "           0       0.85      0.88      0.86      1042\n",
      "           1       0.61      0.54      0.57       358\n",
      "\n",
      "    accuracy                           0.79      1400\n",
      "   macro avg       0.73      0.71      0.72      1400\n",
      "weighted avg       0.79      0.79      0.79      1400\n",
      "\n",
      "Accuracy score of Logistic Regression is:\n",
      "0.7828571428571428\n",
      "[[915 120]\n",
      " [184 181]]\n",
      "              precision    recall  f1-score   support\n",
      "\n",
      "           0       0.83      0.88      0.86      1035\n",
      "           1       0.60      0.50      0.54       365\n",
      "\n",
      "    accuracy                           0.78      1400\n",
      "   macro avg       0.72      0.69      0.70      1400\n",
      "weighted avg       0.77      0.78      0.78      1400\n",
      "\n",
      "Accuracy score of Logistic Regression is:\n",
      "0.8042857142857143\n",
      "[[929 105]\n",
      " [169 197]]\n",
      "              precision    recall  f1-score   support\n",
      "\n",
      "           0       0.85      0.90      0.87      1034\n",
      "           1       0.65      0.54      0.59       366\n",
      "\n",
      "    accuracy                           0.80      1400\n",
      "   macro avg       0.75      0.72      0.73      1400\n",
      "weighted avg       0.80      0.80      0.80      1400\n",
      "\n",
      "Accuracy score of Logistic Regression is:\n",
      "0.8078571428571428\n",
      "[[935 107]\n",
      " [162 196]]\n",
      "              precision    recall  f1-score   support\n",
      "\n",
      "           0       0.85      0.90      0.87      1042\n",
      "           1       0.65      0.55      0.59       358\n",
      "\n",
      "    accuracy                           0.81      1400\n",
      "   macro avg       0.75      0.72      0.73      1400\n",
      "weighted avg       0.80      0.81      0.80      1400\n",
      "\n",
      "Accuracy score of Logistic Regression is:\n",
      "0.8085714285714286\n",
      "[[906 113]\n",
      " [155 226]]\n",
      "              precision    recall  f1-score   support\n",
      "\n",
      "           0       0.85      0.89      0.87      1019\n",
      "           1       0.67      0.59      0.63       381\n",
      "\n",
      "    accuracy                           0.81      1400\n",
      "   macro avg       0.76      0.74      0.75      1400\n",
      "weighted avg       0.80      0.81      0.80      1400\n",
      "\n",
      "Accuracy score of Logistic Regression is:\n",
      "0.8092857142857143\n",
      "[[906 107]\n",
      " [160 227]]\n",
      "              precision    recall  f1-score   support\n",
      "\n",
      "           0       0.85      0.89      0.87      1013\n",
      "           1       0.68      0.59      0.63       387\n",
      "\n",
      "    accuracy                           0.81      1400\n",
      "   macro avg       0.76      0.74      0.75      1400\n",
      "weighted avg       0.80      0.81      0.80      1400\n",
      "\n",
      "Accuracy score of Logistic Regression is:\n",
      "0.8064285714285714\n",
      "[[938 113]\n",
      " [158 191]]\n",
      "              precision    recall  f1-score   support\n",
      "\n",
      "           0       0.86      0.89      0.87      1051\n",
      "           1       0.63      0.55      0.58       349\n",
      "\n",
      "    accuracy                           0.81      1400\n",
      "   macro avg       0.74      0.72      0.73      1400\n",
      "weighted avg       0.80      0.81      0.80      1400\n",
      "\n",
      "Accuracy score of Logistic Regression is:\n",
      "0.7978571428571428\n",
      "[[926 113]\n",
      " [170 191]]\n",
      "              precision    recall  f1-score   support\n",
      "\n",
      "           0       0.84      0.89      0.87      1039\n",
      "           1       0.63      0.53      0.57       361\n",
      "\n",
      "    accuracy                           0.80      1400\n",
      "   macro avg       0.74      0.71      0.72      1400\n",
      "weighted avg       0.79      0.80      0.79      1400\n",
      "\n",
      "Accuracy score of Logistic Regression is:\n",
      "0.8085714285714286\n",
      "[[924 101]\n",
      " [167 208]]\n",
      "              precision    recall  f1-score   support\n",
      "\n",
      "           0       0.85      0.90      0.87      1025\n",
      "           1       0.67      0.55      0.61       375\n",
      "\n",
      "    accuracy                           0.81      1400\n",
      "   macro avg       0.76      0.73      0.74      1400\n",
      "weighted avg       0.80      0.81      0.80      1400\n",
      "\n",
      "Accuracy score of Logistic Regression is:\n",
      "0.805\n",
      "[[899 105]\n",
      " [168 228]]\n",
      "              precision    recall  f1-score   support\n",
      "\n",
      "           0       0.84      0.90      0.87      1004\n",
      "           1       0.68      0.58      0.63       396\n",
      "\n",
      "    accuracy                           0.81      1400\n",
      "   macro avg       0.76      0.74      0.75      1400\n",
      "weighted avg       0.80      0.81      0.80      1400\n",
      "\n",
      "Accuracy score of Logistic Regression is:\n",
      "0.8157142857142857\n",
      "[[928  92]\n",
      " [166 214]]\n",
      "              precision    recall  f1-score   support\n",
      "\n",
      "           0       0.85      0.91      0.88      1020\n",
      "           1       0.70      0.56      0.62       380\n",
      "\n",
      "    accuracy                           0.82      1400\n",
      "   macro avg       0.77      0.74      0.75      1400\n",
      "weighted avg       0.81      0.82      0.81      1400\n",
      "\n",
      "Accuracy score of Logistic Regression is:\n",
      "0.8071428571428572\n",
      "[[927 116]\n",
      " [154 203]]\n",
      "              precision    recall  f1-score   support\n",
      "\n",
      "           0       0.86      0.89      0.87      1043\n",
      "           1       0.64      0.57      0.60       357\n",
      "\n",
      "    accuracy                           0.81      1400\n",
      "   macro avg       0.75      0.73      0.74      1400\n",
      "weighted avg       0.80      0.81      0.80      1400\n",
      "\n",
      "Accuracy score of Logistic Regression is:\n",
      "0.7957142857142857\n",
      "[[888 108]\n",
      " [178 226]]\n",
      "              precision    recall  f1-score   support\n",
      "\n",
      "           0       0.83      0.89      0.86       996\n",
      "           1       0.68      0.56      0.61       404\n",
      "\n",
      "    accuracy                           0.80      1400\n",
      "   macro avg       0.75      0.73      0.74      1400\n",
      "weighted avg       0.79      0.80      0.79      1400\n",
      "\n",
      "Accuracy score of Logistic Regression is:\n",
      "0.7957142857142857\n",
      "[[891 121]\n",
      " [165 223]]\n",
      "              precision    recall  f1-score   support\n",
      "\n",
      "           0       0.84      0.88      0.86      1012\n",
      "           1       0.65      0.57      0.61       388\n",
      "\n",
      "    accuracy                           0.80      1400\n",
      "   macro avg       0.75      0.73      0.74      1400\n",
      "weighted avg       0.79      0.80      0.79      1400\n",
      "\n",
      "Accuracy score of Logistic Regression is:\n",
      "0.7992857142857143\n",
      "[[923 111]\n",
      " [170 196]]\n",
      "              precision    recall  f1-score   support\n",
      "\n",
      "           0       0.84      0.89      0.87      1034\n",
      "           1       0.64      0.54      0.58       366\n",
      "\n",
      "    accuracy                           0.80      1400\n",
      "   macro avg       0.74      0.71      0.73      1400\n",
      "weighted avg       0.79      0.80      0.79      1400\n",
      "\n",
      "Accuracy score of Logistic Regression is:\n",
      "0.8014285714285714\n",
      "[[909 115]\n",
      " [163 213]]\n",
      "              precision    recall  f1-score   support\n",
      "\n",
      "           0       0.85      0.89      0.87      1024\n",
      "           1       0.65      0.57      0.61       376\n",
      "\n",
      "    accuracy                           0.80      1400\n",
      "   macro avg       0.75      0.73      0.74      1400\n",
      "weighted avg       0.79      0.80      0.80      1400\n",
      "\n",
      "Accuracy score of Logistic Regression is:\n",
      "0.7928571428571428\n",
      "[[916 129]\n",
      " [161 194]]\n",
      "              precision    recall  f1-score   support\n",
      "\n",
      "           0       0.85      0.88      0.86      1045\n",
      "           1       0.60      0.55      0.57       355\n",
      "\n",
      "    accuracy                           0.79      1400\n",
      "   macro avg       0.73      0.71      0.72      1400\n",
      "weighted avg       0.79      0.79      0.79      1400\n",
      "\n",
      "Accuracy score of Logistic Regression is:\n",
      "0.8021428571428572\n",
      "[[918 107]\n",
      " [170 205]]\n",
      "              precision    recall  f1-score   support\n",
      "\n",
      "           0       0.84      0.90      0.87      1025\n",
      "           1       0.66      0.55      0.60       375\n",
      "\n",
      "    accuracy                           0.80      1400\n",
      "   macro avg       0.75      0.72      0.73      1400\n",
      "weighted avg       0.79      0.80      0.80      1400\n",
      "\n",
      "Accuracy score of Logistic Regression is:\n",
      "0.785\n",
      "[[890 117]\n",
      " [184 209]]\n",
      "              precision    recall  f1-score   support\n",
      "\n",
      "           0       0.83      0.88      0.86      1007\n",
      "           1       0.64      0.53      0.58       393\n",
      "\n",
      "    accuracy                           0.79      1400\n",
      "   macro avg       0.73      0.71      0.72      1400\n",
      "weighted avg       0.78      0.79      0.78      1400\n",
      "\n",
      "Accuracy score of Logistic Regression is:\n",
      "0.8085714285714286\n",
      "[[921  97]\n",
      " [171 211]]\n",
      "              precision    recall  f1-score   support\n",
      "\n",
      "           0       0.84      0.90      0.87      1018\n",
      "           1       0.69      0.55      0.61       382\n",
      "\n",
      "    accuracy                           0.81      1400\n",
      "   macro avg       0.76      0.73      0.74      1400\n",
      "weighted avg       0.80      0.81      0.80      1400\n",
      "\n",
      "Accuracy score of Logistic Regression is:\n",
      "0.8207142857142857\n",
      "[[936  99]\n",
      " [152 213]]\n",
      "              precision    recall  f1-score   support\n",
      "\n",
      "           0       0.86      0.90      0.88      1035\n",
      "           1       0.68      0.58      0.63       365\n",
      "\n",
      "    accuracy                           0.82      1400\n",
      "   macro avg       0.77      0.74      0.76      1400\n",
      "weighted avg       0.81      0.82      0.82      1400\n",
      "\n",
      "Accuracy score of Logistic Regression is:\n",
      "0.8092857142857143\n",
      "[[917 103]\n",
      " [164 216]]\n",
      "              precision    recall  f1-score   support\n",
      "\n",
      "           0       0.85      0.90      0.87      1020\n",
      "           1       0.68      0.57      0.62       380\n",
      "\n",
      "    accuracy                           0.81      1400\n",
      "   macro avg       0.76      0.73      0.75      1400\n",
      "weighted avg       0.80      0.81      0.80      1400\n",
      "\n",
      "Accuracy score of Logistic Regression is:\n",
      "0.8107142857142857\n",
      "[[937 114]\n",
      " [151 198]]\n",
      "              precision    recall  f1-score   support\n",
      "\n",
      "           0       0.86      0.89      0.88      1051\n",
      "           1       0.63      0.57      0.60       349\n",
      "\n",
      "    accuracy                           0.81      1400\n",
      "   macro avg       0.75      0.73      0.74      1400\n",
      "weighted avg       0.80      0.81      0.81      1400\n",
      "\n",
      "Accuracy score of Logistic Regression is:\n",
      "0.7978571428571428\n",
      "[[908 122]\n",
      " [161 209]]\n",
      "              precision    recall  f1-score   support\n",
      "\n",
      "           0       0.85      0.88      0.87      1030\n",
      "           1       0.63      0.56      0.60       370\n",
      "\n",
      "    accuracy                           0.80      1400\n",
      "   macro avg       0.74      0.72      0.73      1400\n",
      "weighted avg       0.79      0.80      0.79      1400\n",
      "\n",
      "Accuracy score of Logistic Regression is:\n",
      "0.8078571428571428\n",
      "[[915 107]\n",
      " [162 216]]\n",
      "              precision    recall  f1-score   support\n",
      "\n",
      "           0       0.85      0.90      0.87      1022\n",
      "           1       0.67      0.57      0.62       378\n",
      "\n",
      "    accuracy                           0.81      1400\n",
      "   macro avg       0.76      0.73      0.74      1400\n",
      "weighted avg       0.80      0.81      0.80      1400\n",
      "\n",
      "Accuracy score of Logistic Regression is:\n",
      "0.8185714285714286\n",
      "[[931  98]\n",
      " [156 215]]\n",
      "              precision    recall  f1-score   support\n",
      "\n",
      "           0       0.86      0.90      0.88      1029\n",
      "           1       0.69      0.58      0.63       371\n",
      "\n",
      "    accuracy                           0.82      1400\n",
      "   macro avg       0.77      0.74      0.75      1400\n",
      "weighted avg       0.81      0.82      0.81      1400\n",
      "\n",
      "Accuracy score of Logistic Regression is:\n",
      "0.7921428571428571\n",
      "[[896 116]\n",
      " [175 213]]\n",
      "              precision    recall  f1-score   support\n",
      "\n",
      "           0       0.84      0.89      0.86      1012\n",
      "           1       0.65      0.55      0.59       388\n",
      "\n",
      "    accuracy                           0.79      1400\n",
      "   macro avg       0.74      0.72      0.73      1400\n",
      "weighted avg       0.78      0.79      0.79      1400\n",
      "\n",
      "Accuracy score of Logistic Regression is:\n",
      "0.8021428571428572\n",
      "[[897  99]\n",
      " [178 226]]\n",
      "              precision    recall  f1-score   support\n",
      "\n",
      "           0       0.83      0.90      0.87       996\n",
      "           1       0.70      0.56      0.62       404\n",
      "\n",
      "    accuracy                           0.80      1400\n",
      "   macro avg       0.76      0.73      0.74      1400\n",
      "weighted avg       0.79      0.80      0.80      1400\n",
      "\n",
      "Accuracy score of Logistic Regression is:\n",
      "0.8164285714285714\n",
      "[[926  97]\n",
      " [160 217]]\n",
      "              precision    recall  f1-score   support\n",
      "\n",
      "           0       0.85      0.91      0.88      1023\n",
      "           1       0.69      0.58      0.63       377\n",
      "\n",
      "    accuracy                           0.82      1400\n",
      "   macro avg       0.77      0.74      0.75      1400\n",
      "weighted avg       0.81      0.82      0.81      1400\n",
      "\n",
      "Accuracy score of Logistic Regression is:\n",
      "0.8178571428571428\n",
      "[[930 105]\n",
      " [150 215]]\n",
      "              precision    recall  f1-score   support\n",
      "\n",
      "           0       0.86      0.90      0.88      1035\n",
      "           1       0.67      0.59      0.63       365\n",
      "\n",
      "    accuracy                           0.82      1400\n",
      "   macro avg       0.77      0.74      0.75      1400\n",
      "weighted avg       0.81      0.82      0.81      1400\n",
      "\n",
      "Accuracy score of Logistic Regression is:\n",
      "0.8092857142857143\n",
      "[[930 106]\n",
      " [161 203]]\n",
      "              precision    recall  f1-score   support\n",
      "\n",
      "           0       0.85      0.90      0.87      1036\n",
      "           1       0.66      0.56      0.60       364\n",
      "\n",
      "    accuracy                           0.81      1400\n",
      "   macro avg       0.75      0.73      0.74      1400\n",
      "weighted avg       0.80      0.81      0.80      1400\n",
      "\n",
      "Accuracy score of Logistic Regression is:\n",
      "0.8142857142857143\n",
      "[[944 105]\n",
      " [155 196]]\n",
      "              precision    recall  f1-score   support\n",
      "\n",
      "           0       0.86      0.90      0.88      1049\n",
      "           1       0.65      0.56      0.60       351\n",
      "\n",
      "    accuracy                           0.81      1400\n",
      "   macro avg       0.76      0.73      0.74      1400\n",
      "weighted avg       0.81      0.81      0.81      1400\n",
      "\n",
      "Accuracy score of Logistic Regression is:\n",
      "0.7942857142857143\n",
      "[[916 123]\n",
      " [165 196]]\n",
      "              precision    recall  f1-score   support\n",
      "\n",
      "           0       0.85      0.88      0.86      1039\n",
      "           1       0.61      0.54      0.58       361\n",
      "\n",
      "    accuracy                           0.79      1400\n",
      "   macro avg       0.73      0.71      0.72      1400\n",
      "weighted avg       0.79      0.79      0.79      1400\n",
      "\n",
      "Accuracy score of Logistic Regression is:\n",
      "0.8114285714285714\n",
      "[[927  88]\n",
      " [176 209]]\n",
      "              precision    recall  f1-score   support\n",
      "\n",
      "           0       0.84      0.91      0.88      1015\n",
      "           1       0.70      0.54      0.61       385\n",
      "\n",
      "    accuracy                           0.81      1400\n",
      "   macro avg       0.77      0.73      0.74      1400\n",
      "weighted avg       0.80      0.81      0.80      1400\n",
      "\n",
      "Accuracy score of Logistic Regression is:\n",
      "0.795\n",
      "[[887 119]\n",
      " [168 226]]\n",
      "              precision    recall  f1-score   support\n",
      "\n",
      "           0       0.84      0.88      0.86      1006\n",
      "           1       0.66      0.57      0.61       394\n",
      "\n",
      "    accuracy                           0.80      1400\n",
      "   macro avg       0.75      0.73      0.74      1400\n",
      "weighted avg       0.79      0.80      0.79      1400\n",
      "\n",
      "Accuracy score of Logistic Regression is:\n",
      "0.8028571428571428\n",
      "[[931  94]\n",
      " [182 193]]\n",
      "              precision    recall  f1-score   support\n",
      "\n",
      "           0       0.84      0.91      0.87      1025\n",
      "           1       0.67      0.51      0.58       375\n",
      "\n",
      "    accuracy                           0.80      1400\n",
      "   macro avg       0.75      0.71      0.73      1400\n",
      "weighted avg       0.79      0.80      0.79      1400\n",
      "\n",
      "Accuracy score of Logistic Regression is:\n",
      "0.8085714285714286\n",
      "[[924 109]\n",
      " [159 208]]\n",
      "              precision    recall  f1-score   support\n",
      "\n",
      "           0       0.85      0.89      0.87      1033\n",
      "           1       0.66      0.57      0.61       367\n",
      "\n",
      "    accuracy                           0.81      1400\n",
      "   macro avg       0.75      0.73      0.74      1400\n",
      "weighted avg       0.80      0.81      0.80      1400\n",
      "\n",
      "Accuracy score of Logistic Regression is:\n",
      "0.8057142857142857\n",
      "[[911 108]\n",
      " [164 217]]\n",
      "              precision    recall  f1-score   support\n",
      "\n",
      "           0       0.85      0.89      0.87      1019\n",
      "           1       0.67      0.57      0.61       381\n",
      "\n",
      "    accuracy                           0.81      1400\n",
      "   macro avg       0.76      0.73      0.74      1400\n",
      "weighted avg       0.80      0.81      0.80      1400\n",
      "\n",
      "Accuracy score of Logistic Regression is:\n",
      "0.7935714285714286\n",
      "[[898 126]\n",
      " [163 213]]\n",
      "              precision    recall  f1-score   support\n",
      "\n",
      "           0       0.85      0.88      0.86      1024\n",
      "           1       0.63      0.57      0.60       376\n",
      "\n",
      "    accuracy                           0.79      1400\n",
      "   macro avg       0.74      0.72      0.73      1400\n",
      "weighted avg       0.79      0.79      0.79      1400\n",
      "\n",
      "Accuracy score of Logistic Regression is:\n",
      "0.8\n",
      "[[916  93]\n",
      " [187 204]]\n",
      "              precision    recall  f1-score   support\n",
      "\n",
      "           0       0.83      0.91      0.87      1009\n",
      "           1       0.69      0.52      0.59       391\n",
      "\n",
      "    accuracy                           0.80      1400\n",
      "   macro avg       0.76      0.71      0.73      1400\n",
      "weighted avg       0.79      0.80      0.79      1400\n",
      "\n",
      "Accuracy score of Logistic Regression is:\n",
      "0.8121428571428572\n",
      "[[926 107]\n",
      " [156 211]]\n",
      "              precision    recall  f1-score   support\n",
      "\n",
      "           0       0.86      0.90      0.88      1033\n",
      "           1       0.66      0.57      0.62       367\n",
      "\n",
      "    accuracy                           0.81      1400\n",
      "   macro avg       0.76      0.74      0.75      1400\n",
      "weighted avg       0.81      0.81      0.81      1400\n",
      "\n",
      "Accuracy score of Logistic Regression is:\n",
      "0.7907142857142857\n",
      "[[917 114]\n",
      " [179 190]]\n",
      "              precision    recall  f1-score   support\n",
      "\n",
      "           0       0.84      0.89      0.86      1031\n",
      "           1       0.62      0.51      0.56       369\n",
      "\n",
      "    accuracy                           0.79      1400\n",
      "   macro avg       0.73      0.70      0.71      1400\n",
      "weighted avg       0.78      0.79      0.78      1400\n",
      "\n",
      "Accuracy score of Logistic Regression is:\n",
      "0.7992857142857143\n",
      "[[894 101]\n",
      " [180 225]]\n",
      "              precision    recall  f1-score   support\n",
      "\n",
      "           0       0.83      0.90      0.86       995\n",
      "           1       0.69      0.56      0.62       405\n",
      "\n",
      "    accuracy                           0.80      1400\n",
      "   macro avg       0.76      0.73      0.74      1400\n",
      "weighted avg       0.79      0.80      0.79      1400\n",
      "\n",
      "Accuracy score of Logistic Regression is:\n",
      "0.8064285714285714\n",
      "[[938  83]\n",
      " [188 191]]\n",
      "              precision    recall  f1-score   support\n",
      "\n",
      "           0       0.83      0.92      0.87      1021\n",
      "           1       0.70      0.50      0.58       379\n",
      "\n",
      "    accuracy                           0.81      1400\n",
      "   macro avg       0.77      0.71      0.73      1400\n",
      "weighted avg       0.80      0.81      0.80      1400\n",
      "\n",
      "Accuracy score of Logistic Regression is:\n",
      "0.8057142857142857\n",
      "[[931 109]\n",
      " [163 197]]\n",
      "              precision    recall  f1-score   support\n",
      "\n",
      "           0       0.85      0.90      0.87      1040\n",
      "           1       0.64      0.55      0.59       360\n",
      "\n",
      "    accuracy                           0.81      1400\n",
      "   macro avg       0.75      0.72      0.73      1400\n",
      "weighted avg       0.80      0.81      0.80      1400\n",
      "\n",
      "Accuracy score of Logistic Regression is:\n",
      "0.7914285714285715\n",
      "[[900 106]\n",
      " [186 208]]\n",
      "              precision    recall  f1-score   support\n",
      "\n",
      "           0       0.83      0.89      0.86      1006\n",
      "           1       0.66      0.53      0.59       394\n",
      "\n",
      "    accuracy                           0.79      1400\n",
      "   macro avg       0.75      0.71      0.72      1400\n",
      "weighted avg       0.78      0.79      0.78      1400\n",
      "\n",
      "Accuracy score of Logistic Regression is:\n",
      "0.7871428571428571\n",
      "[[880 118]\n",
      " [180 222]]\n",
      "              precision    recall  f1-score   support\n",
      "\n",
      "           0       0.83      0.88      0.86       998\n",
      "           1       0.65      0.55      0.60       402\n",
      "\n",
      "    accuracy                           0.79      1400\n",
      "   macro avg       0.74      0.72      0.73      1400\n",
      "weighted avg       0.78      0.79      0.78      1400\n",
      "\n",
      "Accuracy score of Logistic Regression is:\n",
      "0.7964285714285714\n",
      "[[927 119]\n",
      " [166 188]]\n",
      "              precision    recall  f1-score   support\n",
      "\n",
      "           0       0.85      0.89      0.87      1046\n",
      "           1       0.61      0.53      0.57       354\n",
      "\n",
      "    accuracy                           0.80      1400\n",
      "   macro avg       0.73      0.71      0.72      1400\n",
      "weighted avg       0.79      0.80      0.79      1400\n",
      "\n",
      "Accuracy score of Logistic Regression is:\n",
      "0.8185714285714286\n",
      "[[930 102]\n",
      " [152 216]]\n",
      "              precision    recall  f1-score   support\n",
      "\n",
      "           0       0.86      0.90      0.88      1032\n",
      "           1       0.68      0.59      0.63       368\n",
      "\n",
      "    accuracy                           0.82      1400\n",
      "   macro avg       0.77      0.74      0.75      1400\n",
      "weighted avg       0.81      0.82      0.81      1400\n",
      "\n",
      "Accuracy score of Logistic Regression is:\n",
      "0.8071428571428572\n",
      "[[928 112]\n",
      " [158 202]]\n",
      "              precision    recall  f1-score   support\n",
      "\n",
      "           0       0.85      0.89      0.87      1040\n",
      "           1       0.64      0.56      0.60       360\n",
      "\n",
      "    accuracy                           0.81      1400\n",
      "   macro avg       0.75      0.73      0.74      1400\n",
      "weighted avg       0.80      0.81      0.80      1400\n",
      "\n",
      "Accuracy score of Logistic Regression is:\n",
      "0.8\n",
      "[[885 115]\n",
      " [165 235]]\n",
      "              precision    recall  f1-score   support\n",
      "\n",
      "           0       0.84      0.89      0.86      1000\n",
      "           1       0.67      0.59      0.63       400\n",
      "\n",
      "    accuracy                           0.80      1400\n",
      "   macro avg       0.76      0.74      0.75      1400\n",
      "weighted avg       0.79      0.80      0.80      1400\n",
      "\n",
      "Accuracy score of Logistic Regression is:\n",
      "0.7842857142857143\n",
      "[[886 135]\n",
      " [167 212]]\n",
      "              precision    recall  f1-score   support\n",
      "\n",
      "           0       0.84      0.87      0.85      1021\n",
      "           1       0.61      0.56      0.58       379\n",
      "\n",
      "    accuracy                           0.78      1400\n",
      "   macro avg       0.73      0.71      0.72      1400\n",
      "weighted avg       0.78      0.78      0.78      1400\n",
      "\n",
      "Accuracy score of Logistic Regression is:\n",
      "0.81\n",
      "[[913 107]\n",
      " [159 221]]\n",
      "              precision    recall  f1-score   support\n",
      "\n",
      "           0       0.85      0.90      0.87      1020\n",
      "           1       0.67      0.58      0.62       380\n",
      "\n",
      "    accuracy                           0.81      1400\n",
      "   macro avg       0.76      0.74      0.75      1400\n",
      "weighted avg       0.80      0.81      0.81      1400\n",
      "\n",
      "Accuracy score of Logistic Regression is:\n",
      "0.8035714285714286\n",
      "[[931 111]\n",
      " [164 194]]\n",
      "              precision    recall  f1-score   support\n",
      "\n",
      "           0       0.85      0.89      0.87      1042\n",
      "           1       0.64      0.54      0.59       358\n",
      "\n",
      "    accuracy                           0.80      1400\n",
      "   macro avg       0.74      0.72      0.73      1400\n",
      "weighted avg       0.80      0.80      0.80      1400\n",
      "\n",
      "Accuracy score of Logistic Regression is:\n",
      "0.7914285714285715\n",
      "[[907  89]\n",
      " [203 201]]\n",
      "              precision    recall  f1-score   support\n",
      "\n",
      "           0       0.82      0.91      0.86       996\n",
      "           1       0.69      0.50      0.58       404\n",
      "\n",
      "    accuracy                           0.79      1400\n",
      "   macro avg       0.76      0.70      0.72      1400\n",
      "weighted avg       0.78      0.79      0.78      1400\n",
      "\n",
      "Accuracy score of Logistic Regression is:\n",
      "0.8042857142857143\n",
      "[[909 117]\n",
      " [157 217]]\n",
      "              precision    recall  f1-score   support\n",
      "\n",
      "           0       0.85      0.89      0.87      1026\n",
      "           1       0.65      0.58      0.61       374\n",
      "\n",
      "    accuracy                           0.80      1400\n",
      "   macro avg       0.75      0.73      0.74      1400\n",
      "weighted avg       0.80      0.80      0.80      1400\n",
      "\n",
      "Accuracy score of Logistic Regression is:\n",
      "0.8021428571428572\n",
      "[[927 119]\n",
      " [158 196]]\n",
      "              precision    recall  f1-score   support\n",
      "\n",
      "           0       0.85      0.89      0.87      1046\n",
      "           1       0.62      0.55      0.59       354\n",
      "\n",
      "    accuracy                           0.80      1400\n",
      "   macro avg       0.74      0.72      0.73      1400\n",
      "weighted avg       0.80      0.80      0.80      1400\n",
      "\n",
      "Accuracy score of Logistic Regression is:\n",
      "0.8007142857142857\n",
      "[[925 117]\n",
      " [162 196]]\n",
      "              precision    recall  f1-score   support\n",
      "\n",
      "           0       0.85      0.89      0.87      1042\n",
      "           1       0.63      0.55      0.58       358\n",
      "\n",
      "    accuracy                           0.80      1400\n",
      "   macro avg       0.74      0.72      0.73      1400\n",
      "weighted avg       0.79      0.80      0.80      1400\n",
      "\n",
      "Accuracy score of Logistic Regression is:\n",
      "0.8035714285714286\n",
      "[[930 123]\n",
      " [152 195]]\n",
      "              precision    recall  f1-score   support\n",
      "\n",
      "           0       0.86      0.88      0.87      1053\n",
      "           1       0.61      0.56      0.59       347\n",
      "\n",
      "    accuracy                           0.80      1400\n",
      "   macro avg       0.74      0.72      0.73      1400\n",
      "weighted avg       0.80      0.80      0.80      1400\n",
      "\n",
      "Accuracy score of Logistic Regression is:\n",
      "0.8135714285714286\n",
      "[[924  98]\n",
      " [163 215]]\n",
      "              precision    recall  f1-score   support\n",
      "\n",
      "           0       0.85      0.90      0.88      1022\n",
      "           1       0.69      0.57      0.62       378\n",
      "\n",
      "    accuracy                           0.81      1400\n",
      "   macro avg       0.77      0.74      0.75      1400\n",
      "weighted avg       0.81      0.81      0.81      1400\n",
      "\n",
      "Accuracy score of Logistic Regression is:\n",
      "0.8135714285714286\n",
      "[[917 107]\n",
      " [154 222]]\n",
      "              precision    recall  f1-score   support\n",
      "\n",
      "           0       0.86      0.90      0.88      1024\n",
      "           1       0.67      0.59      0.63       376\n",
      "\n",
      "    accuracy                           0.81      1400\n",
      "   macro avg       0.77      0.74      0.75      1400\n",
      "weighted avg       0.81      0.81      0.81      1400\n",
      "\n",
      "Accuracy score of Logistic Regression is:\n",
      "0.7857142857142857\n",
      "[[899 117]\n",
      " [183 201]]\n",
      "              precision    recall  f1-score   support\n",
      "\n",
      "           0       0.83      0.88      0.86      1016\n",
      "           1       0.63      0.52      0.57       384\n",
      "\n",
      "    accuracy                           0.79      1400\n",
      "   macro avg       0.73      0.70      0.71      1400\n",
      "weighted avg       0.78      0.79      0.78      1400\n",
      "\n",
      "Accuracy score of Logistic Regression is:\n",
      "0.8192857142857143\n",
      "[[942  85]\n",
      " [168 205]]\n",
      "              precision    recall  f1-score   support\n",
      "\n",
      "           0       0.85      0.92      0.88      1027\n",
      "           1       0.71      0.55      0.62       373\n",
      "\n",
      "    accuracy                           0.82      1400\n",
      "   macro avg       0.78      0.73      0.75      1400\n",
      "weighted avg       0.81      0.82      0.81      1400\n",
      "\n",
      "Accuracy score of Logistic Regression is:\n",
      "0.8057142857142857\n",
      "[[923 113]\n",
      " [159 205]]\n",
      "              precision    recall  f1-score   support\n",
      "\n",
      "           0       0.85      0.89      0.87      1036\n",
      "           1       0.64      0.56      0.60       364\n",
      "\n",
      "    accuracy                           0.81      1400\n",
      "   macro avg       0.75      0.73      0.74      1400\n",
      "weighted avg       0.80      0.81      0.80      1400\n",
      "\n",
      "Accuracy score of Logistic Regression is:\n",
      "0.7864285714285715\n",
      "[[896 116]\n",
      " [183 205]]\n",
      "              precision    recall  f1-score   support\n",
      "\n",
      "           0       0.83      0.89      0.86      1012\n",
      "           1       0.64      0.53      0.58       388\n",
      "\n",
      "    accuracy                           0.79      1400\n",
      "   macro avg       0.73      0.71      0.72      1400\n",
      "weighted avg       0.78      0.79      0.78      1400\n",
      "\n",
      "Accuracy score of Logistic Regression is:\n",
      "0.8142857142857143\n",
      "[[939  96]\n",
      " [164 201]]\n",
      "              precision    recall  f1-score   support\n",
      "\n",
      "           0       0.85      0.91      0.88      1035\n",
      "           1       0.68      0.55      0.61       365\n",
      "\n",
      "    accuracy                           0.81      1400\n",
      "   macro avg       0.76      0.73      0.74      1400\n",
      "weighted avg       0.81      0.81      0.81      1400\n",
      "\n",
      "Accuracy score of Logistic Regression is:\n",
      "0.7907142857142857\n",
      "[[889 116]\n",
      " [177 218]]\n",
      "              precision    recall  f1-score   support\n",
      "\n",
      "           0       0.83      0.88      0.86      1005\n",
      "           1       0.65      0.55      0.60       395\n",
      "\n",
      "    accuracy                           0.79      1400\n",
      "   macro avg       0.74      0.72      0.73      1400\n",
      "weighted avg       0.78      0.79      0.79      1400\n",
      "\n",
      "Accuracy score of Logistic Regression is:\n",
      "0.7878571428571428\n",
      "[[896 133]\n",
      " [164 207]]\n",
      "              precision    recall  f1-score   support\n",
      "\n",
      "           0       0.85      0.87      0.86      1029\n",
      "           1       0.61      0.56      0.58       371\n",
      "\n",
      "    accuracy                           0.79      1400\n",
      "   macro avg       0.73      0.71      0.72      1400\n",
      "weighted avg       0.78      0.79      0.78      1400\n",
      "\n",
      "Accuracy score of Logistic Regression is:\n",
      "0.8028571428571428\n",
      "[[937 110]\n",
      " [166 187]]\n",
      "              precision    recall  f1-score   support\n",
      "\n",
      "           0       0.85      0.89      0.87      1047\n",
      "           1       0.63      0.53      0.58       353\n",
      "\n",
      "    accuracy                           0.80      1400\n",
      "   macro avg       0.74      0.71      0.72      1400\n",
      "weighted avg       0.79      0.80      0.80      1400\n",
      "\n",
      "Accuracy score of Logistic Regression is:\n",
      "0.81\n",
      "[[915  98]\n",
      " [168 219]]\n",
      "              precision    recall  f1-score   support\n",
      "\n",
      "           0       0.84      0.90      0.87      1013\n",
      "           1       0.69      0.57      0.62       387\n",
      "\n",
      "    accuracy                           0.81      1400\n",
      "   macro avg       0.77      0.73      0.75      1400\n",
      "weighted avg       0.80      0.81      0.80      1400\n",
      "\n",
      "Accuracy score of Logistic Regression is:\n",
      "0.81\n",
      "[[928 100]\n",
      " [166 206]]\n",
      "              precision    recall  f1-score   support\n",
      "\n",
      "           0       0.85      0.90      0.87      1028\n",
      "           1       0.67      0.55      0.61       372\n",
      "\n",
      "    accuracy                           0.81      1400\n",
      "   macro avg       0.76      0.73      0.74      1400\n",
      "weighted avg       0.80      0.81      0.80      1400\n",
      "\n",
      "Accuracy score of Logistic Regression is:\n",
      "0.8185714285714286\n",
      "[[925  98]\n",
      " [156 221]]\n",
      "              precision    recall  f1-score   support\n",
      "\n",
      "           0       0.86      0.90      0.88      1023\n",
      "           1       0.69      0.59      0.64       377\n",
      "\n",
      "    accuracy                           0.82      1400\n",
      "   macro avg       0.77      0.75      0.76      1400\n",
      "weighted avg       0.81      0.82      0.81      1400\n",
      "\n",
      "Accuracy score of Logistic Regression is:\n",
      "0.7978571428571428\n",
      "[[911 106]\n",
      " [177 206]]\n",
      "              precision    recall  f1-score   support\n",
      "\n",
      "           0       0.84      0.90      0.87      1017\n",
      "           1       0.66      0.54      0.59       383\n",
      "\n",
      "    accuracy                           0.80      1400\n",
      "   macro avg       0.75      0.72      0.73      1400\n",
      "weighted avg       0.79      0.80      0.79      1400\n",
      "\n",
      "Accuracy score of Logistic Regression is:\n",
      "0.8035714285714286\n",
      "[[927 106]\n",
      " [169 198]]\n",
      "              precision    recall  f1-score   support\n",
      "\n",
      "           0       0.85      0.90      0.87      1033\n",
      "           1       0.65      0.54      0.59       367\n",
      "\n",
      "    accuracy                           0.80      1400\n",
      "   macro avg       0.75      0.72      0.73      1400\n",
      "weighted avg       0.79      0.80      0.80      1400\n",
      "\n",
      "Accuracy score of Logistic Regression is:\n",
      "0.8042857142857143\n",
      "[[914 115]\n",
      " [159 212]]\n",
      "              precision    recall  f1-score   support\n",
      "\n",
      "           0       0.85      0.89      0.87      1029\n",
      "           1       0.65      0.57      0.61       371\n",
      "\n",
      "    accuracy                           0.80      1400\n",
      "   macro avg       0.75      0.73      0.74      1400\n",
      "weighted avg       0.80      0.80      0.80      1400\n",
      "\n",
      "Accuracy score of Logistic Regression is:\n",
      "0.7985714285714286\n",
      "[[886 115]\n",
      " [167 232]]\n",
      "              precision    recall  f1-score   support\n",
      "\n",
      "           0       0.84      0.89      0.86      1001\n",
      "           1       0.67      0.58      0.62       399\n",
      "\n",
      "    accuracy                           0.80      1400\n",
      "   macro avg       0.75      0.73      0.74      1400\n",
      "weighted avg       0.79      0.80      0.79      1400\n",
      "\n",
      "Accuracy score of Logistic Regression is:\n",
      "0.8064285714285714\n",
      "[[903 102]\n",
      " [169 226]]\n",
      "              precision    recall  f1-score   support\n",
      "\n",
      "           0       0.84      0.90      0.87      1005\n",
      "           1       0.69      0.57      0.63       395\n",
      "\n",
      "    accuracy                           0.81      1400\n",
      "   macro avg       0.77      0.74      0.75      1400\n",
      "weighted avg       0.80      0.81      0.80      1400\n",
      "\n",
      "Accuracy score of Logistic Regression is:\n",
      "0.8014285714285714\n",
      "[[928 112]\n",
      " [166 194]]\n",
      "              precision    recall  f1-score   support\n",
      "\n",
      "           0       0.85      0.89      0.87      1040\n",
      "           1       0.63      0.54      0.58       360\n",
      "\n",
      "    accuracy                           0.80      1400\n",
      "   macro avg       0.74      0.72      0.73      1400\n",
      "weighted avg       0.79      0.80      0.80      1400\n",
      "\n",
      "Accuracy score of Logistic Regression is:\n",
      "0.8035714285714286\n",
      "[[905  93]\n",
      " [182 220]]\n",
      "              precision    recall  f1-score   support\n",
      "\n",
      "           0       0.83      0.91      0.87       998\n",
      "           1       0.70      0.55      0.62       402\n",
      "\n",
      "    accuracy                           0.80      1400\n",
      "   macro avg       0.77      0.73      0.74      1400\n",
      "weighted avg       0.80      0.80      0.80      1400\n",
      "\n",
      "Accuracy score of Logistic Regression is:\n",
      "0.7728571428571429\n",
      "[[887 129]\n",
      " [189 195]]\n",
      "              precision    recall  f1-score   support\n",
      "\n",
      "           0       0.82      0.87      0.85      1016\n",
      "           1       0.60      0.51      0.55       384\n",
      "\n",
      "    accuracy                           0.77      1400\n",
      "   macro avg       0.71      0.69      0.70      1400\n",
      "weighted avg       0.76      0.77      0.77      1400\n",
      "\n",
      "Accuracy score of Logistic Regression is:\n",
      "0.8092857142857143\n",
      "[[912 104]\n",
      " [163 221]]\n",
      "              precision    recall  f1-score   support\n",
      "\n",
      "           0       0.85      0.90      0.87      1016\n",
      "           1       0.68      0.58      0.62       384\n",
      "\n",
      "    accuracy                           0.81      1400\n",
      "   macro avg       0.76      0.74      0.75      1400\n",
      "weighted avg       0.80      0.81      0.80      1400\n",
      "\n",
      "Accuracy score of Logistic Regression is:\n",
      "0.7778571428571428\n",
      "[[906 120]\n",
      " [191 183]]\n",
      "              precision    recall  f1-score   support\n",
      "\n",
      "           0       0.83      0.88      0.85      1026\n",
      "           1       0.60      0.49      0.54       374\n",
      "\n",
      "    accuracy                           0.78      1400\n",
      "   macro avg       0.71      0.69      0.70      1400\n",
      "weighted avg       0.77      0.78      0.77      1400\n",
      "\n",
      "Accuracy score of Logistic Regression is:\n",
      "0.8171428571428572\n",
      "[[920 110]\n",
      " [146 224]]\n",
      "              precision    recall  f1-score   support\n",
      "\n",
      "           0       0.86      0.89      0.88      1030\n",
      "           1       0.67      0.61      0.64       370\n",
      "\n",
      "    accuracy                           0.82      1400\n",
      "   macro avg       0.77      0.75      0.76      1400\n",
      "weighted avg       0.81      0.82      0.81      1400\n",
      "\n",
      "Accuracy score of Logistic Regression is:\n",
      "0.8278571428571428\n",
      "[[943  96]\n",
      " [145 216]]\n",
      "              precision    recall  f1-score   support\n",
      "\n",
      "           0       0.87      0.91      0.89      1039\n",
      "           1       0.69      0.60      0.64       361\n",
      "\n",
      "    accuracy                           0.83      1400\n",
      "   macro avg       0.78      0.75      0.76      1400\n",
      "weighted avg       0.82      0.83      0.82      1400\n",
      "\n",
      "Accuracy score of Logistic Regression is:\n",
      "0.7971428571428572\n",
      "[[914 111]\n",
      " [173 202]]\n",
      "              precision    recall  f1-score   support\n",
      "\n",
      "           0       0.84      0.89      0.87      1025\n",
      "           1       0.65      0.54      0.59       375\n",
      "\n",
      "    accuracy                           0.80      1400\n",
      "   macro avg       0.74      0.72      0.73      1400\n",
      "weighted avg       0.79      0.80      0.79      1400\n",
      "\n",
      "Accuracy score of Logistic Regression is:\n",
      "0.8107142857142857\n",
      "[[919 111]\n",
      " [154 216]]\n",
      "              precision    recall  f1-score   support\n",
      "\n",
      "           0       0.86      0.89      0.87      1030\n",
      "           1       0.66      0.58      0.62       370\n",
      "\n",
      "    accuracy                           0.81      1400\n",
      "   macro avg       0.76      0.74      0.75      1400\n",
      "weighted avg       0.80      0.81      0.81      1400\n",
      "\n",
      "Accuracy score of Logistic Regression is:\n",
      "0.8064285714285714\n",
      "[[918 110]\n",
      " [161 211]]\n",
      "              precision    recall  f1-score   support\n",
      "\n",
      "           0       0.85      0.89      0.87      1028\n",
      "           1       0.66      0.57      0.61       372\n",
      "\n",
      "    accuracy                           0.81      1400\n",
      "   macro avg       0.75      0.73      0.74      1400\n",
      "weighted avg       0.80      0.81      0.80      1400\n",
      "\n",
      "Accuracy score of Logistic Regression is:\n",
      "0.7957142857142857\n",
      "[[912 101]\n",
      " [185 202]]\n",
      "              precision    recall  f1-score   support\n",
      "\n",
      "           0       0.83      0.90      0.86      1013\n",
      "           1       0.67      0.52      0.59       387\n",
      "\n",
      "    accuracy                           0.80      1400\n",
      "   macro avg       0.75      0.71      0.72      1400\n",
      "weighted avg       0.79      0.80      0.79      1400\n",
      "\n",
      "Accuracy score of Logistic Regression is:\n",
      "0.7821428571428571\n",
      "[[888 134]\n",
      " [171 207]]\n",
      "              precision    recall  f1-score   support\n",
      "\n",
      "           0       0.84      0.87      0.85      1022\n",
      "           1       0.61      0.55      0.58       378\n",
      "\n",
      "    accuracy                           0.78      1400\n",
      "   macro avg       0.72      0.71      0.71      1400\n",
      "weighted avg       0.78      0.78      0.78      1400\n",
      "\n",
      "Accuracy score of Logistic Regression is:\n",
      "0.8035714285714286\n",
      "[[900 116]\n",
      " [159 225]]\n",
      "              precision    recall  f1-score   support\n",
      "\n",
      "           0       0.85      0.89      0.87      1016\n",
      "           1       0.66      0.59      0.62       384\n",
      "\n",
      "    accuracy                           0.80      1400\n",
      "   macro avg       0.75      0.74      0.74      1400\n",
      "weighted avg       0.80      0.80      0.80      1400\n",
      "\n",
      "Accuracy score of Logistic Regression is:\n",
      "0.8092857142857143\n",
      "[[929 113]\n",
      " [154 204]]\n",
      "              precision    recall  f1-score   support\n",
      "\n",
      "           0       0.86      0.89      0.87      1042\n",
      "           1       0.64      0.57      0.60       358\n",
      "\n",
      "    accuracy                           0.81      1400\n",
      "   macro avg       0.75      0.73      0.74      1400\n",
      "weighted avg       0.80      0.81      0.81      1400\n",
      "\n",
      "Accuracy score of Logistic Regression is:\n",
      "0.805\n",
      "[[909 119]\n",
      " [154 218]]\n",
      "              precision    recall  f1-score   support\n",
      "\n",
      "           0       0.86      0.88      0.87      1028\n",
      "           1       0.65      0.59      0.61       372\n",
      "\n",
      "    accuracy                           0.81      1400\n",
      "   macro avg       0.75      0.74      0.74      1400\n",
      "weighted avg       0.80      0.81      0.80      1400\n",
      "\n",
      "Accuracy score of Logistic Regression is:\n",
      "0.7957142857142857\n",
      "[[911 120]\n",
      " [166 203]]\n",
      "              precision    recall  f1-score   support\n",
      "\n",
      "           0       0.85      0.88      0.86      1031\n",
      "           1       0.63      0.55      0.59       369\n",
      "\n",
      "    accuracy                           0.80      1400\n",
      "   macro avg       0.74      0.72      0.73      1400\n",
      "weighted avg       0.79      0.80      0.79      1400\n",
      "\n",
      "Accuracy score of Logistic Regression is:\n",
      "0.8042857142857143\n",
      "[[920 117]\n",
      " [157 206]]\n",
      "              precision    recall  f1-score   support\n",
      "\n",
      "           0       0.85      0.89      0.87      1037\n",
      "           1       0.64      0.57      0.60       363\n",
      "\n",
      "    accuracy                           0.80      1400\n",
      "   macro avg       0.75      0.73      0.74      1400\n",
      "weighted avg       0.80      0.80      0.80      1400\n",
      "\n",
      "Accuracy score of Logistic Regression is:\n",
      "0.7957142857142857\n",
      "[[911 109]\n",
      " [177 203]]\n",
      "              precision    recall  f1-score   support\n",
      "\n",
      "           0       0.84      0.89      0.86      1020\n",
      "           1       0.65      0.53      0.59       380\n",
      "\n",
      "    accuracy                           0.80      1400\n",
      "   macro avg       0.74      0.71      0.73      1400\n",
      "weighted avg       0.79      0.80      0.79      1400\n",
      "\n",
      "Accuracy score of Logistic Regression is:\n",
      "0.7957142857142857\n",
      "[[919 127]\n",
      " [159 195]]\n",
      "              precision    recall  f1-score   support\n",
      "\n",
      "           0       0.85      0.88      0.87      1046\n",
      "           1       0.61      0.55      0.58       354\n",
      "\n",
      "    accuracy                           0.80      1400\n",
      "   macro avg       0.73      0.71      0.72      1400\n",
      "weighted avg       0.79      0.80      0.79      1400\n",
      "\n",
      "Accuracy score of Logistic Regression is:\n",
      "0.805\n",
      "[[921  99]\n",
      " [174 206]]\n",
      "              precision    recall  f1-score   support\n",
      "\n",
      "           0       0.84      0.90      0.87      1020\n",
      "           1       0.68      0.54      0.60       380\n",
      "\n",
      "    accuracy                           0.81      1400\n",
      "   macro avg       0.76      0.72      0.74      1400\n",
      "weighted avg       0.80      0.81      0.80      1400\n",
      "\n",
      "Accuracy score of Logistic Regression is:\n",
      "0.8078571428571428\n",
      "[[935 126]\n",
      " [143 196]]\n",
      "              precision    recall  f1-score   support\n",
      "\n",
      "           0       0.87      0.88      0.87      1061\n",
      "           1       0.61      0.58      0.59       339\n",
      "\n",
      "    accuracy                           0.81      1400\n",
      "   macro avg       0.74      0.73      0.73      1400\n",
      "weighted avg       0.80      0.81      0.81      1400\n",
      "\n",
      "Accuracy score of Logistic Regression is:\n",
      "0.7935714285714286\n",
      "[[903 107]\n",
      " [182 208]]\n",
      "              precision    recall  f1-score   support\n",
      "\n",
      "           0       0.83      0.89      0.86      1010\n",
      "           1       0.66      0.53      0.59       390\n",
      "\n",
      "    accuracy                           0.79      1400\n",
      "   macro avg       0.75      0.71      0.73      1400\n",
      "weighted avg       0.78      0.79      0.79      1400\n",
      "\n",
      "Accuracy score of Logistic Regression is:\n",
      "0.8128571428571428\n",
      "[[939  91]\n",
      " [171 199]]\n",
      "              precision    recall  f1-score   support\n",
      "\n",
      "           0       0.85      0.91      0.88      1030\n",
      "           1       0.69      0.54      0.60       370\n",
      "\n",
      "    accuracy                           0.81      1400\n",
      "   macro avg       0.77      0.72      0.74      1400\n",
      "weighted avg       0.80      0.81      0.81      1400\n",
      "\n",
      "Accuracy score of Logistic Regression is:\n",
      "0.8021428571428572\n",
      "[[909 123]\n",
      " [154 214]]\n",
      "              precision    recall  f1-score   support\n",
      "\n",
      "           0       0.86      0.88      0.87      1032\n",
      "           1       0.64      0.58      0.61       368\n",
      "\n",
      "    accuracy                           0.80      1400\n",
      "   macro avg       0.75      0.73      0.74      1400\n",
      "weighted avg       0.80      0.80      0.80      1400\n",
      "\n",
      "Accuracy score of Logistic Regression is:\n",
      "0.8007142857142857\n",
      "[[900 117]\n",
      " [162 221]]\n",
      "              precision    recall  f1-score   support\n",
      "\n",
      "           0       0.85      0.88      0.87      1017\n",
      "           1       0.65      0.58      0.61       383\n",
      "\n",
      "    accuracy                           0.80      1400\n",
      "   macro avg       0.75      0.73      0.74      1400\n",
      "weighted avg       0.79      0.80      0.80      1400\n",
      "\n",
      "Accuracy score of Logistic Regression is:\n",
      "0.8078571428571428\n",
      "[[942 103]\n",
      " [166 189]]\n",
      "              precision    recall  f1-score   support\n",
      "\n",
      "           0       0.85      0.90      0.88      1045\n",
      "           1       0.65      0.53      0.58       355\n",
      "\n",
      "    accuracy                           0.81      1400\n",
      "   macro avg       0.75      0.72      0.73      1400\n",
      "weighted avg       0.80      0.81      0.80      1400\n",
      "\n",
      "Best accuracy is 0.8357142857142857 on Random_state 41\n"
     ]
    }
   ],
   "source": [
    "from sklearn.model_selection import train_test_split\n",
    "maxAccu=0\n",
    "maxRS=0\n",
    "for i in range(1,200):\n",
    "    x_train,x_test,y_train,y_test=train_test_split(x,y,test_size=0.22,random_state=i)\n",
    "    lm=LogisticRegression()\n",
    "    lm.fit(x_train,y_train)\n",
    "    pred=lm.predict(x_test)\n",
    "    print('Accuracy score of Logistic Regression','is:')\n",
    "    accu_score=accuracy_score(y_test,pred)\n",
    "    print(accuracy_score(y_test,pred))\n",
    "    print(confusion_matrix(y_test,pred))\n",
    "    print(classification_report(y_test,pred))\n",
    "    if accu_score>maxAccu:\n",
    "        maxAccu=accu_score\n",
    "        maxRS=i\n",
    "        \n",
    "print(\"Best accuracy is\",maxAccu,\"on Random_state\",maxRS)"
   ]
  },
  {
   "cell_type": "markdown",
   "metadata": {},
   "source": [
    "Best accuracy is 0.8357142857142857 on Random_state 41"
   ]
  },
  {
   "cell_type": "markdown",
   "metadata": {},
   "source": [
    "# Algorithms"
   ]
  },
  {
   "cell_type": "code",
   "execution_count": 73,
   "metadata": {},
   "outputs": [
    {
     "name": "stdout",
     "output_type": "stream",
     "text": [
      "Accuracy score of Logistic Regression is:\n",
      "0.8357142857142857\n",
      "[[937  85]\n",
      " [145 233]]\n",
      "              precision    recall  f1-score   support\n",
      "\n",
      "           0       0.87      0.92      0.89      1022\n",
      "           1       0.73      0.62      0.67       378\n",
      "\n",
      "    accuracy                           0.84      1400\n",
      "   macro avg       0.80      0.77      0.78      1400\n",
      "weighted avg       0.83      0.84      0.83      1400\n",
      "\n"
     ]
    }
   ],
   "source": [
    "x_train,x_test,y_train,y_test=train_test_split(x,y,test_size=0.22,random_state=41)\n",
    "lm=LogisticRegression()\n",
    "lm.fit(x_train,y_train)\n",
    "pred=lm.predict(x_test)\n",
    "print('Accuracy score of Logistic Regression','is:')\n",
    "accu_score=accuracy_score(y_test,pred)\n",
    "print(accuracy_score(y_test,pred))\n",
    "print(confusion_matrix(y_test,pred))\n",
    "print(classification_report(y_test,pred))"
   ]
  },
  {
   "cell_type": "code",
   "execution_count": 74,
   "metadata": {},
   "outputs": [
    {
     "name": "stdout",
     "output_type": "stream",
     "text": [
      "Accuracy score of DecisionTreeClassifier is:\n",
      "0.7507142857142857\n",
      "[[852 170]\n",
      " [179 199]]\n",
      "              precision    recall  f1-score   support\n",
      "\n",
      "           0       0.83      0.83      0.83      1022\n",
      "           1       0.54      0.53      0.53       378\n",
      "\n",
      "    accuracy                           0.75      1400\n",
      "   macro avg       0.68      0.68      0.68      1400\n",
      "weighted avg       0.75      0.75      0.75      1400\n",
      "\n"
     ]
    }
   ],
   "source": [
    "dtc=DecisionTreeClassifier()\n",
    "dtc.fit(x_train,y_train)\n",
    "preddtc=dtc.predict(x_test)\n",
    "print('Accuracy score of DecisionTreeClassifier','is:')\n",
    "accu_score=accuracy_score(y_test,preddtc)\n",
    "print(accuracy_score(y_test,preddtc))\n",
    "print(confusion_matrix(y_test,preddtc))\n",
    "print(classification_report(y_test,preddtc))"
   ]
  },
  {
   "cell_type": "code",
   "execution_count": 75,
   "metadata": {},
   "outputs": [
    {
     "name": "stdout",
     "output_type": "stream",
     "text": [
      "Accuracy score of knn is:\n",
      "0.8357142857142857\n",
      "[[937  85]\n",
      " [145 233]]\n",
      "              precision    recall  f1-score   support\n",
      "\n",
      "           0       0.87      0.92      0.89      1022\n",
      "           1       0.73      0.62      0.67       378\n",
      "\n",
      "    accuracy                           0.84      1400\n",
      "   macro avg       0.80      0.77      0.78      1400\n",
      "weighted avg       0.83      0.84      0.83      1400\n",
      "\n"
     ]
    }
   ],
   "source": [
    "knn=KNeighborsClassifier(n_neighbors=5)\n",
    "knn.fit(x_train,y_train)\n",
    "predknn=knn.predict(x_test)\n",
    "print('Accuracy score of knn','is:')\n",
    "accu_score=accuracy_score(y_test,pred)\n",
    "print(accuracy_score(y_test,pred))\n",
    "print(confusion_matrix(y_test,pred))\n",
    "print(classification_report(y_test,pred))"
   ]
  },
  {
   "cell_type": "code",
   "execution_count": 76,
   "metadata": {},
   "outputs": [
    {
     "name": "stdout",
     "output_type": "stream",
     "text": [
      "Accuracy score of svm is:\n",
      "0.8242857142857143\n",
      "[[957  65]\n",
      " [181 197]]\n",
      "              precision    recall  f1-score   support\n",
      "\n",
      "           0       0.84      0.94      0.89      1022\n",
      "           1       0.75      0.52      0.62       378\n",
      "\n",
      "    accuracy                           0.82      1400\n",
      "   macro avg       0.80      0.73      0.75      1400\n",
      "weighted avg       0.82      0.82      0.81      1400\n",
      "\n"
     ]
    }
   ],
   "source": [
    "svm=SVC()\n",
    "svm.fit(x_train,y_train)\n",
    "predsvc=svm.predict(x_test)\n",
    "print('Accuracy score of svm','is:')\n",
    "accu_score=accuracy_score(y_test,predsvc)\n",
    "print(accuracy_score(y_test,predsvc))\n",
    "print(confusion_matrix(y_test,predsvc))\n",
    "print(classification_report(y_test,predsvc))"
   ]
  },
  {
   "cell_type": "code",
   "execution_count": 77,
   "metadata": {},
   "outputs": [
    {
     "name": "stdout",
     "output_type": "stream",
     "text": [
      "Accuracy score of BinomialNB is:\n",
      "0.7935714285714286\n",
      "[[819 203]\n",
      " [ 86 292]]\n",
      "              precision    recall  f1-score   support\n",
      "\n",
      "           0       0.90      0.80      0.85      1022\n",
      "           1       0.59      0.77      0.67       378\n",
      "\n",
      "    accuracy                           0.79      1400\n",
      "   macro avg       0.75      0.79      0.76      1400\n",
      "weighted avg       0.82      0.79      0.80      1400\n",
      "\n"
     ]
    }
   ],
   "source": [
    "bnb=GaussianNB()\n",
    "bnb.fit(x_train,y_train)\n",
    "predbnb=bnb.predict(x_test)\n",
    "print('Accuracy score of BinomialNB','is:')\n",
    "accu_score=accuracy_score(y_test,predbnb)\n",
    "print(accuracy_score(y_test,predbnb))\n",
    "print(confusion_matrix(y_test,predbnb))\n",
    "print(classification_report(y_test,predbnb))"
   ]
  },
  {
   "cell_type": "code",
   "execution_count": 78,
   "metadata": {},
   "outputs": [
    {
     "name": "stdout",
     "output_type": "stream",
     "text": [
      "Accuracy score of RandomForestClassifier is:\n",
      "0.8142857142857143\n",
      "[[935  87]\n",
      " [173 205]]\n",
      "              precision    recall  f1-score   support\n",
      "\n",
      "           0       0.84      0.91      0.88      1022\n",
      "           1       0.70      0.54      0.61       378\n",
      "\n",
      "    accuracy                           0.81      1400\n",
      "   macro avg       0.77      0.73      0.74      1400\n",
      "weighted avg       0.81      0.81      0.81      1400\n",
      "\n"
     ]
    }
   ],
   "source": [
    "from sklearn.ensemble import RandomForestClassifier\n",
    "\n",
    "rf=RandomForestClassifier()\n",
    "rf.fit(x_train,y_train)\n",
    "predrf=rf.predict(x_test)\n",
    "print('Accuracy score of RandomForestClassifier','is:')\n",
    "accu_score=accuracy_score(y_test,predrf)\n",
    "print(accuracy_score(y_test,predrf))\n",
    "print(confusion_matrix(y_test,predrf))\n",
    "print(classification_report(y_test,predrf))"
   ]
  },
  {
   "cell_type": "code",
   "execution_count": 79,
   "metadata": {},
   "outputs": [
    {
     "name": "stdout",
     "output_type": "stream",
     "text": [
      "Accuracy score of AdaBoostClassifier is:\n",
      "0.825\n",
      "[[941  81]\n",
      " [164 214]]\n",
      "              precision    recall  f1-score   support\n",
      "\n",
      "           0       0.85      0.92      0.88      1022\n",
      "           1       0.73      0.57      0.64       378\n",
      "\n",
      "    accuracy                           0.82      1400\n",
      "   macro avg       0.79      0.74      0.76      1400\n",
      "weighted avg       0.82      0.82      0.82      1400\n",
      "\n"
     ]
    }
   ],
   "source": [
    "from sklearn.ensemble import AdaBoostClassifier\n",
    "\n",
    "ad=AdaBoostClassifier()\n",
    "ad.fit(x_train,y_train)\n",
    "predad=ad.predict(x_test)\n",
    "print('Accuracy score of AdaBoostClassifier','is:')\n",
    "accu_score=accuracy_score(y_test,predad)\n",
    "print(accuracy_score(y_test,predad))\n",
    "print(confusion_matrix(y_test,predad))\n",
    "print(classification_report(y_test,predad))"
   ]
  },
  {
   "cell_type": "markdown",
   "metadata": {},
   "source": [
    "Logistic Regression and K - Neighbors Classifier are the best algorithms."
   ]
  },
  {
   "cell_type": "markdown",
   "metadata": {},
   "source": [
    "# Cross - Validation Scores"
   ]
  },
  {
   "cell_type": "code",
   "execution_count": 80,
   "metadata": {},
   "outputs": [
    {
     "name": "stdout",
     "output_type": "stream",
     "text": [
      "[0.80754124 0.81289308 0.78537736 0.80581761 0.80345912]\n",
      "0.8030176821947859 0.009350952739435633\n"
     ]
    }
   ],
   "source": [
    "from sklearn.model_selection import cross_val_score\n",
    "lmscores=cross_val_score(lm,x,y,cv=5)\n",
    "print(lmscores)\n",
    "print(lmscores.mean(),lmscores.std())"
   ]
  },
  {
   "cell_type": "code",
   "execution_count": 81,
   "metadata": {},
   "outputs": [
    {
     "name": "stdout",
     "output_type": "stream",
     "text": [
      "[0.76983504 0.76022013 0.74685535 0.74764151 0.75550314]\n",
      "0.7560110322271463 0.008520011553889555\n"
     ]
    }
   ],
   "source": [
    "from sklearn.model_selection import cross_val_score\n",
    "knnscores=cross_val_score(knn,x,y,cv=5)\n",
    "print(knnscores)\n",
    "print(knnscores.mean(),knnscores.std())"
   ]
  },
  {
   "cell_type": "code",
   "execution_count": 82,
   "metadata": {},
   "outputs": [
    {
     "name": "stdout",
     "output_type": "stream",
     "text": [
      "[0.03269660351949988, 0.07970325348713947]\n"
     ]
    }
   ],
   "source": [
    "list1=[0.8357142857142857,0.8357142857142857]\n",
    "list2=[0.8030176821947859,0.7560110322271463]\n",
    "difference=[]\n",
    "zip_object = zip(list1, list2)\n",
    "for list1_i, list2_i in zip_object:\n",
    "    difference.append(list1_i-list2_i)\n",
    "\n",
    "\n",
    "print(difference)"
   ]
  },
  {
   "cell_type": "raw",
   "metadata": {},
   "source": [
    "# As the difference between accuracy scores and cross validation scores of K - Neighbors Classifier is only 0.03%. So, It is verified that K - Neighbors Classifier is the best algorithm for this model with accuracy of 83.571 % ."
   ]
  },
  {
   "cell_type": "markdown",
   "metadata": {},
   "source": [
    "# Hyper Parameter Tuning"
   ]
  },
  {
   "cell_type": "code",
   "execution_count": 83,
   "metadata": {},
   "outputs": [
    {
     "data": {
      "text/plain": [
       "GridSearchCV(cv=5, estimator=KNeighborsClassifier(),\n",
       "             param_grid={'algorithm': ['auto', 'ball_tree', 'kd_tree', 'brute'],\n",
       "                         'leaf_size': [30, 40, 50], 'n_neighbors': [5, 8, 10],\n",
       "                         'weights': ['uniform', 'distance']},\n",
       "             scoring='accuracy')"
      ]
     },
     "execution_count": 83,
     "metadata": {},
     "output_type": "execute_result"
    }
   ],
   "source": [
    "knn=KNeighborsClassifier()\n",
    "grid_param={'weights':['uniform','distance'],'algorithm' : ['auto', 'ball_tree', 'kd_tree', 'brute'],'n_neighbors':[5,8,10],'leaf_size':[30,40,50]}\n",
    "gd_sr=GridSearchCV(estimator=knn,param_grid=grid_param,scoring='accuracy',cv=5)\n",
    "gd_sr.fit(x_train,y_train)"
   ]
  },
  {
   "cell_type": "code",
   "execution_count": 84,
   "metadata": {},
   "outputs": [
    {
     "data": {
      "text/plain": [
       "{'algorithm': 'ball_tree',\n",
       " 'leaf_size': 30,\n",
       " 'n_neighbors': 10,\n",
       " 'weights': 'uniform'}"
      ]
     },
     "execution_count": 84,
     "metadata": {},
     "output_type": "execute_result"
    }
   ],
   "source": [
    "gd_sr.best_params_"
   ]
  },
  {
   "cell_type": "code",
   "execution_count": 85,
   "metadata": {},
   "outputs": [
    {
     "name": "stdout",
     "output_type": "stream",
     "text": [
      "Accuracy score of knn is:\n",
      "0.8357142857142857\n",
      "[[937  85]\n",
      " [145 233]]\n",
      "              precision    recall  f1-score   support\n",
      "\n",
      "           0       0.87      0.92      0.89      1022\n",
      "           1       0.73      0.62      0.67       378\n",
      "\n",
      "    accuracy                           0.84      1400\n",
      "   macro avg       0.80      0.77      0.78      1400\n",
      "weighted avg       0.83      0.84      0.83      1400\n",
      "\n"
     ]
    }
   ],
   "source": [
    "knn=KNeighborsClassifier(algorithm = 'ball_tree',\n",
    " leaf_size=30,\n",
    " n_neighbors= 10,\n",
    " weights= 'uniform')\n",
    "knn.fit(x_train,y_train)\n",
    "predknn=knn.predict(x_test)\n",
    "print('Accuracy score of knn','is:')\n",
    "accu_score=accuracy_score(y_test,pred)\n",
    "print(accuracy_score(y_test,pred))\n",
    "print(confusion_matrix(y_test,pred))\n",
    "print(classification_report(y_test,pred))"
   ]
  },
  {
   "cell_type": "markdown",
   "metadata": {},
   "source": [
    "Accuracy of K- Neighbors Classifier has remained same as 83.571 % with hyper parameter tuning."
   ]
  },
  {
   "cell_type": "markdown",
   "metadata": {},
   "source": [
    "# AOC - ROC Curve"
   ]
  },
  {
   "cell_type": "code",
   "execution_count": 86,
   "metadata": {},
   "outputs": [],
   "source": [
    "from sklearn.metrics import roc_curve\n",
    "from sklearn.metrics import roc_auc_score"
   ]
  },
  {
   "cell_type": "code",
   "execution_count": 87,
   "metadata": {},
   "outputs": [],
   "source": [
    "y_pred_prob=knn.predict_proba(x_test)[:,1]"
   ]
  },
  {
   "cell_type": "code",
   "execution_count": 88,
   "metadata": {},
   "outputs": [
    {
     "data": {
      "text/plain": [
       "array([0.9, 0.7, 0.6, ..., 0. , 0.3, 0.1])"
      ]
     },
     "execution_count": 88,
     "metadata": {},
     "output_type": "execute_result"
    }
   ],
   "source": [
    "y_pred_prob"
   ]
  },
  {
   "cell_type": "code",
   "execution_count": 89,
   "metadata": {},
   "outputs": [],
   "source": [
    "fpr,tpr,thresholds=roc_curve(y_test,y_pred_prob)"
   ]
  },
  {
   "cell_type": "code",
   "execution_count": 90,
   "metadata": {},
   "outputs": [
    {
     "data": {
      "text/plain": [
       "array([0.00000000e+00, 9.78473581e-04, 9.78473581e-03, 2.54403131e-02,\n",
       "       5.18590998e-02, 9.19765166e-02, 1.49706458e-01, 2.39726027e-01,\n",
       "       3.50293542e-01, 4.78473581e-01, 6.68297456e-01, 1.00000000e+00])"
      ]
     },
     "execution_count": 90,
     "metadata": {},
     "output_type": "execute_result"
    }
   ],
   "source": [
    "fpr"
   ]
  },
  {
   "cell_type": "code",
   "execution_count": 91,
   "metadata": {},
   "outputs": [
    {
     "data": {
      "text/plain": [
       "array([0.        , 0.01058201, 0.05820106, 0.14814815, 0.31481481,\n",
       "       0.48412698, 0.63227513, 0.74603175, 0.85449735, 0.9047619 ,\n",
       "       0.95502646, 1.        ])"
      ]
     },
     "execution_count": 91,
     "metadata": {},
     "output_type": "execute_result"
    }
   ],
   "source": [
    "tpr"
   ]
  },
  {
   "cell_type": "code",
   "execution_count": 92,
   "metadata": {},
   "outputs": [
    {
     "data": {
      "text/plain": [
       "array([2. , 1. , 0.9, 0.8, 0.7, 0.6, 0.5, 0.4, 0.3, 0.2, 0.1, 0. ])"
      ]
     },
     "execution_count": 92,
     "metadata": {},
     "output_type": "execute_result"
    }
   ],
   "source": [
    "thresholds"
   ]
  },
  {
   "cell_type": "code",
   "execution_count": 93,
   "metadata": {},
   "outputs": [
    {
     "data": {
      "image/png": "[encoded data removed]",
      "text/plain": [
       "<Figure size 432x288 with 1 Axes>"
      ]
     },
     "metadata": {},
     "output_type": "display_data"
    }
   ],
   "source": [
    "plt.plot([0,1],[0,1],'k--')\n",
    "plt.plot(fpr,tpr,label='K Nearest Neighbors')\n",
    "plt.xlabel('False positive rate')\n",
    "plt.ylabel('True positive rate')\n",
    "plt.title('K Neighbors Classifier')\n",
    "plt.show()"
   ]
  },
  {
   "cell_type": "markdown",
   "metadata": {},
   "source": [
    "Observations :-\n",
    "\n",
    "1. As the line is moving towards 1, so we can conclude that we have developed good model."
   ]
  },
  {
   "cell_type": "markdown",
   "metadata": {},
   "source": [
    "# Saving the model"
   ]
  },
  {
   "cell_type": "code",
   "execution_count": 94,
   "metadata": {},
   "outputs": [],
   "source": [
    "import joblib"
   ]
  },
  {
   "cell_type": "code",
   "execution_count": 95,
   "metadata": {},
   "outputs": [
    {
     "data": {
      "text/plain": [
       "['knn_CustomerChurn.obj']"
      ]
     },
     "execution_count": 95,
     "metadata": {},
     "output_type": "execute_result"
    }
   ],
   "source": [
    "joblib.dump(knn,\"knn_CustomerChurn.obj\")"
   ]
  }
 ],
 "metadata": {
  "kernelspec": {
   "display_name": "Python 3",
   "language": "python",
   "name": "python3"
  },
  "language_info": {
   "codemirror_mode": {
    "name": "ipython",
    "version": 3
   },
   "file_extension": ".py",
   "mimetype": "text/x-python",
   "name": "python",
   "nbconvert_exporter": "python",
   "pygments_lexer": "ipython3",
   "version": "3.7.6"
  }
 },
 "nbformat": 4,
 "nbformat_minor": 4
}
